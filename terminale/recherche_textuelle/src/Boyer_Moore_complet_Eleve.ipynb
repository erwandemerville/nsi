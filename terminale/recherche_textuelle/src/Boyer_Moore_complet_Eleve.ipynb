{
 "cells": [
  {
   "cell_type": "markdown",
   "metadata": {},
   "source": [
    "# La recherche textuelle"
   ]
  },
  {
   "cell_type": "markdown",
   "metadata": {},
   "source": [
    "<div class=\"alert alert-info\" role=\"alert\">\n",
    "\n",
    "Lire attentivement ce notebook.  \n",
    "**À faire** :\n",
    "- Écrire la docstring et compléter le trou de la fonction `recherche`.\n",
    "\n",
    "</div>"
   ]
  },
  {
   "cell_type": "markdown",
   "metadata": {},
   "source": [
    "## Algorithme de Boyer-Moore de recherche textuelle"
   ]
  },
  {
   "cell_type": "code",
   "execution_count": null,
   "metadata": {},
   "outputs": [],
   "source": [
    "# texte\n",
    "motif=\"AT-THAT\"\n",
    "texte=\"WHICH-FINALLY-HALTS.--AT-THAT-POINT\"\n",
    "alphabet=\"WHIC-FNALYTS.O\""
   ]
  },
  {
   "cell_type": "markdown",
   "metadata": {},
   "source": [
    "### Algorithme de boyer moore\n",
    "\n",
    "L'algorithme de boyer moore parcours les lettres de la même manière que notre algorithme de recherche précédent. La seule différence est que quand deux lettres ne correspondent pas; le décalage est optimisé ie il est plus grand que celui de la recherche simple.\n",
    "\n",
    "Le décalage est pré-calculé (valeurs dans des tableaux d1 et d2) à partir du MOTIF selon deux règles : la règle du mauvais caractère et la régle du bon suffixe."
   ]
  },
  {
   "cell_type": "code",
   "execution_count": null,
   "metadata": {},
   "outputs": [],
   "source": [
    "def recherche(motif,texte,alphabet):\n",
    "    \n",
    "    d1 = pretraitement_MC(motif,alphabet)\n",
    "    d2 = pretraitement_BS(motif)\n",
    "    \n",
    "    n = len(texte)\n",
    "    m = len(motif)\n",
    "    \n",
    "    i = m - 1\n",
    "    while i < n:\n",
    "        j = m - 1\n",
    "        while j > -1 and texte[i] == motif[j]:\n",
    "            j = j - 1\n",
    "            i = i - 1\n",
    "            \n",
    "        if j == -1:\n",
    "            return i + 1,True\n",
    "        else:\n",
    "            i = i + max(d1[texte[i]],d2[j])\n",
    "    return i + 1,False"
   ]
  },
  {
   "cell_type": "code",
   "execution_count": null,
   "metadata": {},
   "outputs": [],
   "source": [
    "# traitement pour la règle du mauvais caractère MC\n",
    "\n",
    "def pretraitement_MC(motif,alphabet):\n",
    "    m = len(motif)\n",
    "    d = dict()\n",
    "    for c in alphabet:\n",
    "        d[c] = m\n",
    "    for i in range(0, m - 1):\n",
    "        d[motif[i]] = m - 1 - i\n",
    "    return d"
   ]
  },
  {
   "cell_type": "code",
   "execution_count": null,
   "metadata": {},
   "outputs": [],
   "source": [
    "print(motif)\n",
    "print(alphabet)\n",
    "pretraitement_MC(motif,alphabet)"
   ]
  },
  {
   "cell_type": "code",
   "execution_count": null,
   "metadata": {},
   "outputs": [],
   "source": [
    "def coincidence(motif,j,k,longueur):\n",
    "    i = longueur-1\n",
    "    while i > j and (motif[i] == motif[k + i - j] or motif[k + i - j] == \"$\"):\n",
    "        i = i - 1\n",
    "    if i == j:\n",
    "        return True\n",
    "    else:\n",
    "        return False"
   ]
  },
  {
   "cell_type": "code",
   "execution_count": null,
   "metadata": {},
   "outputs": [],
   "source": [
    "print(coincidence(\"ARMADA$$$$$$$\",3,-2,6)) # on compare DA avec $A\n",
    "print(coincidence(\"ARMADA$$$$$$$\",3,-1,6)) # on compare DA avec AR\n",
    "print(coincidence(\"ARMADA$$$$$$$\",2,-3,6)) # on compare ADA avec $$A"
   ]
  },
  {
   "cell_type": "code",
   "execution_count": null,
   "metadata": {},
   "outputs": [],
   "source": [
    "def pretraitement_BS(motif):\n",
    "    m = len(motif)\n",
    "    d = [0 for i in range(m)]\n",
    "    d[m-1] = 1\n",
    "    motif = motif+\"$\"*(m+1) # ajout de caractères joker $ pour les positions négatives\n",
    "    for j in range(0, m-1):\n",
    "        for k in range(j - m, j):\n",
    "            if coincidence(motif, j, k, m) and motif[k] != motif[j]:\n",
    "                d[j] = m-k-1\n",
    "    return d"
   ]
  },
  {
   "cell_type": "code",
   "execution_count": null,
   "metadata": {},
   "outputs": [],
   "source": [
    "pretraitement_BS(motif)"
   ]
  },
  {
   "cell_type": "code",
   "execution_count": null,
   "metadata": {},
   "outputs": [],
   "source": [
    "def recherche(motif,texte,alphabet):\n",
    "    \n",
    "    d1 = pretraitement_MC(motif,alphabet)\n",
    "    print(d1)\n",
    "    d2 = pretraitement_BS(motif)\n",
    "    \n",
    "    n = len(texte)\n",
    "    m = len(motif)\n",
    "    \n",
    "    i = m-1\n",
    "    while i < n:\n",
    "        print(texte)\n",
    "        print(\" \"*(i-m+1)+motif)\n",
    "        print()\n",
    "        j = m - 1\n",
    "        while j > -1 and texte[i] == motif[j]:\n",
    "            j = j-1\n",
    "            i = i-1\n",
    "            \n",
    "        if j == -1:\n",
    "            return i + 1, True\n",
    "        else:\n",
    "            i = i + ...\n",
    "    return i + 1, False"
   ]
  },
  {
   "cell_type": "code",
   "execution_count": null,
   "metadata": {},
   "outputs": [],
   "source": [
    "recherche(motif, texte, alphabet)"
   ]
  },
  {
   "cell_type": "markdown",
   "metadata": {},
   "source": [
    "### A retenir\n",
    "\n",
    "1. L'Algorithme de boyer-moore est un algorithme de recherche textuelle\n",
    "2. Il est basé sur un pré-traitement du motif avec un calcul de tables de décalage\n",
    "3. Il compare le texte et le motif en partant de la fin du motif. Si les lettres ne correspondent pas; il décale le motif vers la droite\n",
    "4. Environ 5 fois plus efficace qu'un algo de recherche de base\n",
    "5. Pas terrible si peu de lettres dans l'alphabet\n"
   ]
  }
 ],
 "metadata": {
  "kernelspec": {
   "display_name": "Python 3 (ipykernel)",
   "language": "python",
   "name": "python3"
  },
  "language_info": {
   "codemirror_mode": {
    "name": "ipython",
    "version": 3
   },
   "file_extension": ".py",
   "mimetype": "text/x-python",
   "name": "python",
   "nbconvert_exporter": "python",
   "pygments_lexer": "ipython3",
   "version": "3.11.6"
  }
 },
 "nbformat": 4,
 "nbformat_minor": 4
}

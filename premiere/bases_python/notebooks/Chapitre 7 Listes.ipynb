{
 "cells": [
  {
   "cell_type": "markdown",
   "metadata": {},
   "source": [
    "<h1><center><span style=\"border-style:solid;border-width:1px;border-radius:5px;\n",
    "    padding:5px;background-color:yellow;box-shadow: 6px 6px 6px black;\">Chapitre 7 - Listes</span></center></h1>"
   ]
  },
  {
   "cell_type": "markdown",
   "metadata": {},
   "source": [
    "<h2>Sommaire</h2>\n",
    "<ol>\n",
    "    <li>\n",
    "        <a href=\"#partie1\">Introduction</a>\n",
    "    </li>\n",
    "    <li>\n",
    "        <a href=\"#partie2\">Les listes</a>\n",
    "    </li>\n",
    "    <li>\n",
    "        <a href=\"#partie3\">Générer une liste</a>\n",
    "    </li>\n",
    "    <li>\n",
    "        <a href=\"#partie4\">Parcours d'une liste</a>\n",
    "    </li>\n",
    "    <li>\n",
    "        <a href=\"#partie5\">Tri d'une liste</a>\n",
    "    </li>\n",
    "    <li>\n",
    "        <a href=\"#partie6\">Tableaux à deux dimensions</a>\n",
    "    </li>\n",
    "</ol>"
   ]
  },
  {
   "cell_type": "markdown",
   "metadata": {},
   "source": [
    "<a id=\"partie1\"></a>"
   ]
  },
  {
   "cell_type": "markdown",
   "metadata": {},
   "source": [
    "<h2 style=\"text-decoration:underline;\" id=\"partie1\";>1- Introduction</h2>"
   ]
  },
  {
   "cell_type": "markdown",
   "metadata": {},
   "source": [
    "Imaginons que vous souhaitiez écrire un programme en Python qui calcule automatiquement la moyenne de vos notes.\n",
    "Vous avez par exemple obtenu les notes : 12, 17, 15 et 14.\n",
    "Vous pourriez procéder de la façon suivante :"
   ]
  },
  {
   "cell_type": "code",
   "execution_count": null,
   "metadata": {},
   "outputs": [],
   "source": [
    "a = 12       # on stocke chaque note dans une variable\n",
    "b = 17\n",
    "c = 15\n",
    "d = 14\n",
    "total = a + b + c + d\n",
    "nombreDeNotes = 4\n",
    "moyenne = total / nombreDeNotes\n",
    "print(moyenne)"
   ]
  },
  {
   "cell_type": "markdown",
   "metadata": {},
   "source": [
    "Cette façon de procéder présente trois défauts qui vont se révéler pénibles si l'on doit rajouter de nouvelles notes :\n",
    "<ol>\n",
    "    <li>\n",
    "        On doit inventer un nouveau nom de variable à chaque fois que l'on ajoute une nouvelle note.\n",
    "    </li>\n",
    "    <li>\n",
    "        Il faut modifier la formule qui calcule le total des notes en ajoutant un terme correspondant à la nouvelle note.\n",
    "    </li>\n",
    "    <li>\n",
    "        Il ne faut pas oublier de modifier aussi le nombre de notes (l'incrémenter de 1).\n",
    "</ol>"
   ]
  },
  {
   "cell_type": "markdown",
   "metadata": {},
   "source": [
    "De plus, si l'on souhaite par exemple déterminer de manière automatisée la plus grande des notes, on devra écrire un programme compliqué du type :"
   ]
  },
  {
   "cell_type": "code",
   "execution_count": null,
   "metadata": {},
   "outputs": [],
   "source": [
    "maxi = a\n",
    "if b > maxi:\n",
    "    maxi = b\n",
    "elif c > maxi:\n",
    "    maxi = c\n",
    "elif d > maxi:\n",
    "    maxi = d\n",
    "print(maxi)"
   ]
  },
  {
   "cell_type": "markdown",
   "metadata": {},
   "source": [
    "et il faudra rajouter encore une condition supplémentaire à chaque fois que l'on ajoute une note.\n",
    "Imaginez la taille du programme si l'on a 100 notes!"
   ]
  },
  {
   "cell_type": "markdown",
   "metadata": {},
   "source": [
    "Le premier problème (celui des noms de variables) pourrait être résolu en nommant les notes a0, a1, a2, a3, etc... Cette solution ressemble à celle qui a été inventée pour résoudre tous les problèmes à la fois : les **listes**. On va ici nommer nos variables : a[0], a[1], a[2], a[3], ... Le nombre entre crochets s'appelle l'<strong>indice</strong>, et pourra être stocké dans une variable."
   ]
  },
  {
   "cell_type": "markdown",
   "metadata": {},
   "source": [
    "<a id=\"partie2\"></a>"
   ]
  },
  {
   "cell_type": "markdown",
   "metadata": {},
   "source": [
    "<h2 style=\"text-decoration:underline;\" id=\"partie2\">2- Les listes</h2>"
   ]
  },
  {
   "cell_type": "markdown",
   "metadata": {},
   "source": [
    "<div style=\"border:solid;padding:5px;background-color:rgb(255,137,120);color:blue;width:70%\">\n",
    "    <strong>Définition</strong><br>\n",
    "Une <strong>liste</strong> permet de stocker plusieurs valeurs dans une seule variable. <br>\n",
    "On accède aux valeurs individuelles via un <strong>indice</strong> (index en anglais).<br>\n",
    "La première valeur de la liste correspond à l'indice 0.\n",
    "</div>"
   ]
  },
  {
   "cell_type": "markdown",
   "metadata": {},
   "source": [
    "<span style=\"text-decoration:underline;\">Remarques</span>:<br>\n",
    "<ul>\n",
    "    <li>\n",
    "        Dans les langages de programmation autres que Python, les listes sont généralement appelées des <strong>tableaux</strong>.\n",
    "    </li>\n",
    "    <li>\n",
    "        Une liste peut contenir des valeurs de n'importe quel type : on peut considérer des listes d'entiers, des listes de flottants (<code>float</code>), des listes de chaînes de caractères, et même des listes de listes!<br>\n",
    "        Dans ce notebook, la plupart des listes seront des listes d'entiers.\n",
    "    </li>\n",
    "    <li>\n",
    "        Les éléments d'une liste peuvent être de type différent, même si cette possibilité est assez rarement utilisée en pratique.\n",
    "    <li>\n",
    "        Une liste peut contenir plusieurs fois la même valeur.\n",
    "    </li>\n",
    "</ul>"
   ]
  },
  {
   "cell_type": "markdown",
   "metadata": {},
   "source": [
    "Ci-dessous, on stocke 4 valeurs entières dans la liste <code>a</code> :"
   ]
  },
  {
   "attachments": {
    "Liste.png": {
     "image/png": "[encoded data removed]"
    }
   },
   "cell_type": "markdown",
   "metadata": {},
   "source": [
    "![Liste.png](attachment:Liste.png)"
   ]
  },
  {
   "cell_type": "markdown",
   "metadata": {},
   "source": [
    "| Indice      |     Valeur    |\n",
    "| ----------- | ----------- |\n",
    "|  0      |        12        |   \n",
    "|  1      |        17        |     \n",
    "|  2      |        15        | \n",
    "|  3      |        14        | \n"
   ]
  },
  {
   "cell_type": "code",
   "execution_count": null,
   "metadata": {},
   "outputs": [],
   "source": [
    "a = [12,17,15,14]\n",
    "print(a)"
   ]
  },
  {
   "cell_type": "markdown",
   "metadata": {},
   "source": [
    "<h3>Taille d'une liste</h3>"
   ]
  },
  {
   "cell_type": "markdown",
   "metadata": {},
   "source": [
    "La **taille** de la liste (le nombre de valeurs qu'elle contient) s'obtient avec la fonction <code>len</code> (abréviation de \"length\" qui veut dire \"longueur\" en anglais)."
   ]
  },
  {
   "cell_type": "code",
   "execution_count": null,
   "metadata": {},
   "outputs": [],
   "source": [
    "len(a)"
   ]
  },
  {
   "cell_type": "markdown",
   "metadata": {},
   "source": [
    "<div class=\"alert alert-info\"><strong>Exercice 1 : </strong> Les deux listes ci-dessous donnent respectivement le nombre d'habitants de chaque commune d'Indre-et-Loire en 2018 et le nom de chaque commune par ordre alphabétique (source : Wikipédia). Les deux listes ont la même taille et l'ordre est le même pour les deux listes.<br>\n",
    "La première liste est une liste d'entiers.<br>\n",
    "La deuxième liste est une liste de chaînes de caractères.<br><br>\n",
    "Combien y a-t-il de communes en Indre-et-Loire?  <input></input></div>"
   ]
  },
  {
   "cell_type": "code",
   "execution_count": 7,
   "metadata": {},
   "outputs": [],
   "source": [
    "nbHabitants=[1152,1750,12693,418,509,2639,166,2686,432,2218,1804,554,474,3493,3090,376,8052,464,\n",
    "             1764,1712,247,2692,911,700,554,5250,752,329,3906,272,215,303,296,181,221,759,505,271,\n",
    "             321,185,1057,448,1207,320,1257,11738,839,1140,124,3513,827,1282,1307,501,4944,1751,226,\n",
    "             551,557,1799,727,228,350,134,8145,584,2083,452,411,3621,410,1801,203,1405,437,1784,\n",
    "             1913,519,804,496,249,111,662,104,678,522,565,350,3427,615,671,745,940,410,158,144,\n",
    "             6057,254,244,725,10357,1380,1515,381,881,1440,255,38250,1541,371,1069,683,570,1440,\n",
    "             2348,315,177,3312,10331,522,520,5542,4560,2486,794,896,351,528,338,523,311,561,\n",
    "             1287,1061,2159,1293,479,6232,663,143,815,5099,245,974,573,1348,520,241,225,560,599,478,\n",
    "             1363,2068,4473,4428,634,10825,332,786,7835,342,812,471,3490,442,2022,801,295,913,1084,\n",
    "             1137,4165,741,818,1247,1199,716,605,2422,643,233,1364,1474,1657,1202,363,892,1004,168,\n",
    "             234,1265,1187,1708,1678,506,309,480,996,709,3129,1320,1396,1717,327,14968,850,2614,1119,\n",
    "             15991,1577,1632,569,1047,369,635,760,321,944,3169,1098,254,1003,1657,15766,504,608,1252,\n",
    "             555,768,4142,705,1347,1567,3153,243,2172,208,623,367,1379,2683,872,392,185,1706,263,295,\n",
    "             1753,281,460,136463,303,2440,1279,243,6372,4551,127,478,2710,1058,1124,298,117,1334,594,1049,\n",
    "             755,212,3246,1370]\n",
    "\n",
    "communes=[\"Abilly\",\"Ambillou\",\"Amboise\",\"Anché\",\"Antogny-le-Tillac\",\"Artannes-sur-Indre\",\"Assay\",\n",
    "          \"Athée-sur-Cher\",\"Autrèche\",\"Auzouer-en-Touraine\",\"Avoine\",\"Avon-les-Roches\",\n",
    "          \"Avrillé-les-Ponceaux\",\"Azay-le-Rideau\",\"Azay-sur-Cher\",\"Azay-sur-Indre\",\"Ballan-Miré\",\n",
    "          \"Barrou\",\"Beaulieu-lès-Loches\",\"Beaumont-en-Véron\",\"Beaumont-Louestault\",\n",
    "          \"Beaumont-Village\",\"Benais\",\"Berthenay\",\"Betz-le-Château\",\"Bléré\",\"Bossay-sur-Claise\",\n",
    "          \"Bossée\",\"Bourgueil\",\"Bournan\",\"Boussay\",\"Braslou\",\"Braye-sous-Faye\",\"Braye-sur-Maulne\",\n",
    "          \"Brèches\",\"Bréhémont\",\"Bridoré\",\"Brizay\",\"Bueil-en-Touraine\",\"Candes-Saint-Martin\",\n",
    "          \"Cangey\",\"Céré-la-Ronde\",\"Cerelles\",\"Chambon\",\"Chambourg-sur-Indre\",\"Chambray-lès-Tours\",\n",
    "          \"Champigny-sur-Veude\",\"Chançay\",\"Chanceaux-près-Loches\",\"Chanceaux-sur-Choisille\",\n",
    "          \"Channay-sur-Lathan\",\"Charentilly\",\"Chargé\",\"Charnizay\",\"Château-la-Vallière\",\n",
    "          \"Château-Renault\",\"Chaumussay\",\"Chaveignes\",\"Chédigny\",\"Cheillé\",\"Chemillé-sur-Dême\",\n",
    "          \"Chemillé-sur-Indrois\",\"Chenonceaux\",\"Chezelles\",\"Chinon\",\"Chisseaux\",\"Chouzé-sur-Loire\",\n",
    "          \"Cigogné\",\"Cinais\",\"Cinq-Mars-la-Pile\",\"Ciran\",\"Civray-de-Touraine\",\"Civray-sur-Esves\",\n",
    "          \"Cléré-les-Pins\",\"Continvoir\",\"Cormery\",\"Coteaux-sur-Loire\",\"Couesmes\",\"Courçay\",\n",
    "          \"Courcelles-de-Touraine\",\"Courcoué\",\"Couziers\",\"Cravant-les-Côteaux\",\"Crissay-sur-Manse\",\n",
    "          \"Crotelles\",\"Crouzilles\",\"Cussay\",\"Dame-Marie-les-Bois\",\"Descartes\",\"Dierre\",\n",
    "          \"Dolus-le-Sec\",\"Draché\",\"Druye\",\"Épeigné-les-Bois\",\"Épeigné-sur-Dême\",\"Esves-le-Moutier\",\n",
    "          \"Esvres\",\"Faye-la-Vineuse\",\"Ferrière-Larçon\",\"Ferrière-sur-Beaulieu\",\"Fondettes\",\n",
    "          \"Francueil\",\"Genillé\",\"Gizeux\",\"Hommes\",\"Huismes\",\"Jaulnay\",\"Joué-lès-Tours\",\n",
    "          \"L'Île-Bouchard\",\"La Celle-Guenand\",\"La Celle-Saint-Avant\",\"La Chapelle-aux-Naux\",\n",
    "          \"La Chapelle-Blanche-Saint-Martin\",\"La Chapelle-sur-Loire\",\"La Croix-en-Touraine\",\n",
    "          \"La Ferrière\",\"La Guerche\",\"La Membrolle-sur-Choisille\",\"La Riche\",\"La Roche-Clermault\",\n",
    "          \"La Tour-Saint-Gelin\",\"La Ville-aux-Dames\",\"Langeais\",\"Larçay\",\"Le Boulay\",\n",
    "          \"Le Grand-Pressigny\",\"Le Liège\",\"Le Louroux\",\"Le Petit-Pressigny\",\"Lémeré\",\"Lerné\",\n",
    "          \"Les Hermites\",\"Lignières-de-Touraine\",\"Ligré\",\"Ligueil\",\"Limeray\",\"Loché-sur-Indrois\",\n",
    "          \"Loches\",\"Louans\",\"Lublé\",\"Lussault-sur-Loire\",\"Luynes\",\"Luzé\",\"Luzillé\",\"Maillé\",\n",
    "          \"Manthelan\",\"Marçay\",\"Marcé-sur-Esves\",\"Marcilly-sur-Maulne\",\"Marcilly-sur-Vienne\",\n",
    "          \"Marigny-Marmande\",\"Marray\",\"Mazières-de-Touraine\",\"Mettray\",\"Monnaie\",\"Montbazon\",\n",
    "          \"Monthodon\",\"Montlouis-sur-Loire\",\"Montrésor\",\"Montreuil-en-Touraine\",\"Monts\",\"Morand\",\n",
    "          \"Mosnes\",\"Mouzay\",\"Nazelles-Négron\",\"Neuil\",\"Neuillé-le-Lierre\",\"Neuillé-Pont-Pierre\",\n",
    "          \"Neuilly-le-Brignon\",\"Neuville-sur-Brenne\",\"Neuvy-le-Roi\",\"Noizay\",\"Notre-Dame-d'Oé\",\n",
    "          \"Nouans-les-Fontaines\",\"Nouâtre\",\"Nouzilly\",\"Noyant-de-Touraine\",\"Orbigny\",\"Panzoult\",\n",
    "          \"Parçay-Meslay\",\"Parçay-sur-Vienne\",\"Paulmy\",\"Pernay\",\"Perrusson\",\"Pocé-sur-Cisse\",\n",
    "          \"Pont-de-Ruan\",\"Ports-sur-Vienne\",\"Pouzay\",\"Preuilly-sur-Claise\",\"Pussigny\",\"Razines\",\n",
    "          \"Reignac-sur-Indre\",\"Restigné\",\"Reugny\",\"Richelieu\",\"Rigny-Ussé\",\"Rillé\",\n",
    "          \"Rilly-sur-Vienne\",\"Rivarennes\",\"Rivière\",\"Rochecorbon\",\"Rouziers-de-Touraine\",\"Saché\",\n",
    "          \"Saint-Antoine-du-Rocher\",\"Saint-Aubin-le-Dépeint\",\"Saint-Avertin\",\n",
    "          \"Saint-Benoît-la-Forêt\",\"Saint-Branchs\",\"Saint-Christophe-sur-le-Nais\",\n",
    "          \"Saint-Cyr-sur-Loire\",\"Saint-Épain\",\"Saint-Étienne-de-Chigny\",\"Saint-Flovier\",\n",
    "          \"Saint-Genouph\",\"Saint-Germain-sur-Vienne\",\"Saint-Hippolyte\",\"Saint-Jean-Saint-Germain\",\n",
    "          \"Saint-Laurent-de-Lin\",\"Saint-Laurent-en-Gâtines\",\"Saint-Martin-le-Beau\",\n",
    "          \"Saint-Nicolas-de-Bourgueil\",\"Saint-Nicolas-des-Motets\",\"Saint-Ouen-les-Vignes\",\n",
    "          \"Saint-Paterne-Racan\",\"Saint-Pierre-des-Corps\",\"Saint-Quentin-sur-Indrois\",\"Saint-Règle\",\n",
    "          \"Saint-Roch\",\"Saint-Senoch\",\"Sainte-Catherine-de-Fierbois\",\"Sainte-Maure-de-Touraine\",\n",
    "          \"Saunay\",\"Savigné-sur-Lathan\",\"Savigny-en-Véron\",\"Savonnières\",\"Sazilly\",\"Semblançay\",\n",
    "          \"Sennevières\",\"Sepmes\",\"Seuilly\",\"Sonzay\",\"Sorigny\",\"Souvigné\",\"Souvigny-de-Touraine\",\n",
    "          \"Sublaines\",\"Tauxigny-Saint-Bauld\",\"Tavant\",\"Theneuil\",\"Thilouze\",\"Thizay\",\n",
    "          \"Tournon-Saint-Pierre\",\"Tours\",\"Trogues\",\"Truyes\",\"Vallères\",\"Varennes\",\"Veigné\",\"Véretz\",\n",
    "          \"Verneuil-le-Château\",\"Verneuil-sur-Indre\",\"Vernou-sur-Brenne\",\"Villaines-les-Rochers\",\n",
    "          \"Villandry\",\"Villebourg\",\"Villedômain\",\"Villedômer\",\"Villeloin-Coulangé\",\"Villeperdue\",\n",
    "          \"Villiers-au-Bouin\",\"Vou\",\"Vouvray\",\"Yzeures-sur-Creuse\"]"
   ]
  },
  {
   "cell_type": "markdown",
   "metadata": {},
   "source": [
    "<h3>Accès aux valeurs</h3>"
   ]
  },
  {
   "cell_type": "markdown",
   "metadata": {},
   "source": [
    "On accède à la valeur d'indice <code>i</code> de la liste <code>a</code> en écrivant le nom de la liste suivi de l'indice entre crochets : <code>a[i]</code>. "
   ]
  },
  {
   "cell_type": "code",
   "execution_count": null,
   "metadata": {},
   "outputs": [],
   "source": [
    "a = [12,17,15,14]\n",
    "print(a[0])\n",
    "print(a[1])\n",
    "print(nbHabitants[2])\n",
    "print(communes[100])\n",
    "indice = 2\n",
    "print(\"La ville de\",communes[indice],\"est peuplée de\",nbHabitants[indice],\"habitants.\")    "
   ]
  },
  {
   "cell_type": "markdown",
   "metadata": {},
   "source": [
    "Le programme ci-dessous demande à l'utilisateur l'indice d'une commune, puis affiche le nom de la commune ainsi que son nombre d'habitants :"
   ]
  },
  {
   "cell_type": "code",
   "execution_count": null,
   "metadata": {},
   "outputs": [],
   "source": [
    "indice = int(input(\"Entrez le rang de la commune : \"))\n",
    "print(\"La ville de\",communes[indice],\"est peuplée de\",nbHabitants[indice],\"habitants.\")    "
   ]
  },
  {
   "cell_type": "markdown",
   "metadata": {},
   "source": [
    "<div style=\"background-color:yellow;font-size:20px\"><strong>Important à retenir :</strong> <span style=\"color:red;\"><strong>L'indice de la première valeur d'une liste est toujours 0.</strong></span></div> \n",
    "    "
   ]
  },
  {
   "cell_type": "markdown",
   "metadata": {},
   "source": [
    "C'est un peu comme pour les suites en mathématiques où le premier terme est souvent noté $u_0$.<br>\n",
    "Le dernier indice pour notre liste de 4 valeurs sera donc 3.</div>\n",
    "<br>\n",
    "    On obtiendra un message d'erreur si on dépasse les limites de la liste :"
   ]
  },
  {
   "cell_type": "code",
   "execution_count": null,
   "metadata": {},
   "outputs": [],
   "source": [
    "a = [12,17,15,14]\n",
    "print(a[4])"
   ]
  },
  {
   "cell_type": "markdown",
   "metadata": {},
   "source": [
    "On peut également modifier n'importe quelle valeur de la liste : "
   ]
  },
  {
   "cell_type": "code",
   "execution_count": null,
   "metadata": {},
   "outputs": [],
   "source": [
    "a[2] = 20\n",
    "print(a)"
   ]
  },
  {
   "cell_type": "markdown",
   "metadata": {},
   "source": [
    "<div class=\"alert alert-info\"><strong>Exercice 2 : </strong>Modifiez la première valeur de la liste <code>a</code>, puis affichez la liste modifiée.</div>"
   ]
  },
  {
   "cell_type": "code",
   "execution_count": null,
   "metadata": {},
   "outputs": [],
   "source": []
  },
  {
   "cell_type": "markdown",
   "metadata": {},
   "source": [
    "<span style=\"text-decoration:underline;\">Remarque</span> : Pour accéder au dernier élément de la liste <code>a</code>, plutôt que d'écrire <code>a[len(a)-1]</code>, il existe une astuce qui consiste à utiliser un indice négatif : <code>a[-1]</code> est le dernier élément de la liste, <code>a[-2]</code> est l'avant -dernier élément, etc..."
   ]
  },
  {
   "cell_type": "code",
   "execution_count": null,
   "metadata": {},
   "outputs": [],
   "source": [
    "a = [12,17,15,14]\n",
    "print(a[-1])"
   ]
  },
  {
   "cell_type": "markdown",
   "metadata": {},
   "source": [
    "<div class=\"alert alert-info\"><strong>Exercice 3 : </strong>Dans la liste ci-dessous : <br>\n",
    "    Quel est le plus grand indice possible? <input></input><br>\n",
    "    Quel est le plus petit indice négatif possible? <input></input></div>\n"
   ]
  },
  {
   "cell_type": "code",
   "execution_count": null,
   "metadata": {},
   "outputs": [],
   "source": [
    "liste = [1,2,3,4,5,6,7]"
   ]
  },
  {
   "cell_type": "markdown",
   "metadata": {},
   "source": [
    "<h3>Retour sur le problème du calcul de la moyenne</h3>"
   ]
  },
  {
   "cell_type": "markdown",
   "metadata": {},
   "source": [
    "On peut maintenant résoudre le problème du calcul de la moyenne de façon beaucoup plus élégante :"
   ]
  },
  {
   "cell_type": "code",
   "execution_count": null,
   "metadata": {},
   "outputs": [],
   "source": [
    "# Vous pouvez rajouter une ou plusieurs notes à la liste des notes\n",
    "notes = [12,17,15,14]\n",
    "somme = 0   #somme représente la somme de toutes les notes\n",
    "for i in range(len(notes)):\n",
    "    somme = somme + notes[i]\n",
    "moyenne = somme / len(notes)\n",
    "print(moyenne)"
   ]
  },
  {
   "cell_type": "markdown",
   "metadata": {},
   "source": [
    "Et voilà! Grâce aux listes, il est maintenant très simple de rajouter une nouvelle note. Plus besoin de modifier le programme, on ne modifie que la liste des notes. Essayez!"
   ]
  },
  {
   "cell_type": "markdown",
   "metadata": {},
   "source": [
    "<div class=\"alert alert-info\"><strong>Exercice 4 : </strong>Dans le programme précédent, ajoutez une ou plusieurs notes à la liste et recalculez la moyenne des notes.</div>"
   ]
  },
  {
   "cell_type": "markdown",
   "metadata": {},
   "source": [
    "<div class=\"alert alert-info\"><strong>Exercice 5 : </strong>En vous inspirant du programme précédent, écrivez un programme qui calcule et affiche le nombre total d'habitants en Indre-et-Loire.</div>"
   ]
  },
  {
   "cell_type": "code",
   "execution_count": null,
   "metadata": {},
   "outputs": [],
   "source": []
  },
  {
   "cell_type": "markdown",
   "metadata": {},
   "source": [
    "<a id=\"partie3\"></a>"
   ]
  },
  {
   "cell_type": "markdown",
   "metadata": {},
   "source": [
    "<h2 style=\"text-decoration:underline;\" id=\"partie3\">3- Générer une liste</h2>"
   ]
  },
  {
   "cell_type": "markdown",
   "metadata": {},
   "source": [
    "Il existe différentes façons de créer ou générer une liste."
   ]
  },
  {
   "cell_type": "markdown",
   "metadata": {},
   "source": [
    "<h3 style=\"text-decoration:underline;\">a) En écrivant la liste complète des éléments</h3>"
   ]
  },
  {
   "cell_type": "markdown",
   "metadata": {},
   "source": [
    "Lorqu'on connait à l'avance les éléments de la liste que l'on veut créer, il suffit d'écrire entre crochets la liste des valeurs, les valeurs étant séparées par une virgule :"
   ]
  },
  {
   "cell_type": "code",
   "execution_count": null,
   "metadata": {},
   "outputs": [],
   "source": [
    "maListe = [4,10,-9,7,5.4]\n",
    "print(maListe)\n",
    "print(maListe[2])\n",
    "print(len(maListe))"
   ]
  },
  {
   "cell_type": "markdown",
   "metadata": {},
   "source": [
    "<span style=\"text-decoration:underline\">Remarque</span> : Cette méthode est peu adaptée pour de longues listes. En pratique, on utilise fréquemment de très longues listes, comme par exemple la liste des 500 000 membres d'un site web. Dans ce cas, la liste est générée à partir d'un fichier."
   ]
  },
  {
   "cell_type": "markdown",
   "metadata": {},
   "source": [
    "<div class=\"alert alert-info\"><strong>Exercice 6 : </strong>Générer ci-dessous la liste des numéros des six départements de la région Centre-Val de Loire, puis l'afficher.</div>"
   ]
  },
  {
   "cell_type": "code",
   "execution_count": null,
   "metadata": {},
   "outputs": [],
   "source": [
    "départements = "
   ]
  },
  {
   "cell_type": "markdown",
   "metadata": {},
   "source": [
    "Parfois, on ne connait pas à l'avance les éléments de la liste. Cela peut se produire par exemple lorsqu'on demande à un utilisateur de saisir des valeurs que l'on souhaite stocker en mémoire.\n",
    "On peut alors procéder de la façon suivante :<br>\n",
    "    <ol>\n",
    "    <li>\n",
    "        Initialiser une liste ayant la longueur souhaitée, avec par exemple la valeur 0\n",
    "    </li>\n",
    "    <li>\n",
    "        Ecrire l'un après l'autre les éléments de la liste\n",
    "    </li>\n",
    "    </ol>"
   ]
  },
  {
   "cell_type": "markdown",
   "metadata": {},
   "source": [
    "<strong>Exemple :</strong>"
   ]
  },
  {
   "cell_type": "code",
   "execution_count": null,
   "metadata": {},
   "outputs": [],
   "source": [
    "valeurs = [0] * 5    # Ceci crée une liste de 5 éléments ayant tous la valeur 0\n",
    "for i in range(5):\n",
    "    valeurs[i] = int(input(\"Saisissez un nombre entier puis tapez sur Entrée : \"))\n",
    "print(\"Voici la liste des nombres que vous avez saisis :\",valeurs)"
   ]
  },
  {
   "cell_type": "markdown",
   "metadata": {},
   "source": [
    "<div class=\"alert alert-info\"><strong>Exercice 7 : </strong>Ecrire un programme qui :<br>\n",
    "    <ul>\n",
    "        <li>initialise une liste de longueur 10 avec des 0</li>\n",
    "        <li>demande à l'utilisateur de saisir un emplacement entre 0 et 9</li>\n",
    "        <li>écrit dans la liste la valeur 1 à l'emplacement choisi par l'utilisateur</li>\n",
    "        <li>affiche la liste complète</li>\n",
    "    <ul>\n",
    "</div>"
   ]
  },
  {
   "cell_type": "code",
   "execution_count": null,
   "metadata": {},
   "outputs": [],
   "source": []
  },
  {
   "cell_type": "markdown",
   "metadata": {},
   "source": [
    "<h3 style=\"text-decoration:underline;\">b) En ajoutant un à un les éléments de la liste</h3>"
   ]
  },
  {
   "cell_type": "markdown",
   "metadata": {},
   "source": [
    "Lorsqu'on ne connait pas à l'avance le nombre d'éléments de la liste, la méthode précédente ne fonctionne pas. On peut alors créer une liste vide, puis la rallonger petit à petit en lui ajoutant des éléments les uns après les autres, au moyen de la fonction <code>append</code> (\"append\" signifie \"ajouter, joindre\" en anglais) : "
   ]
  },
  {
   "cell_type": "code",
   "execution_count": null,
   "metadata": {},
   "outputs": [],
   "source": [
    "maListe = []\n",
    "maListe.append(6)\n",
    "maListe.append(7)\n",
    "maListe.append(10)\n",
    "print(maListe)\n",
    "print(maListe[2])\n",
    "print(len(maListe))\n",
    "maListe.append(4)\n",
    "print(maListe)"
   ]
  },
  {
   "cell_type": "markdown",
   "metadata": {},
   "source": [
    "Le programme ci-dessous demande à l'utilisateur de saisir des valeurs jusqu'à ce qu'il saisisse la valeur 0 :"
   ]
  },
  {
   "cell_type": "code",
   "execution_count": null,
   "metadata": {},
   "outputs": [],
   "source": [
    "n = 1\n",
    "maListe = []\n",
    "while n != 0:\n",
    "    n = int(input(\"Saisissez un nombre entier (0 pour arrêter) : \"))\n",
    "    if n != 0:\n",
    "        maListe.append(n)\n",
    "print(\"Voici la liste des nombres saisis :\",maListe)    "
   ]
  },
  {
   "cell_type": "markdown",
   "metadata": {},
   "source": [
    "<div class=\"alert alert-info\"><strong>Exercice 8 : </strong>Générer ci-dessous une liste contenant 5 éléments de votre choix en les ajoutant un à un à la fin de la liste.</div>"
   ]
  },
  {
   "cell_type": "code",
   "execution_count": null,
   "metadata": {},
   "outputs": [],
   "source": []
  },
  {
   "cell_type": "markdown",
   "metadata": {},
   "source": [
    "<strong>Remarque</strong> : Il existe aussi en Python une fonction d'insertion qui permet d'insérer un élément à n'importe quelle position dans la liste, et des fonctions de suppression qui permettent de supprimer n'importe quel élément de la liste. Les éléments consécutifs d'une liste sont stockés dans des emplacements contigus de la mémoire de la machine. Les fonctions d'insertion et de suppression obligent donc la machine à décaler d'un cran vers la gauche tous les éléments situés à droite de l'emplacement d'insertion ou de suppression. Il faut donc éviter d'utiliser ces fonctions trop fréquemment ou sur des listes très longues. Si l'on doit faire de nombreuses insertions et/ou suppressions, on utilisera une structure plus sophistiquée qu'une liste, appelée une liste chaînée (hors programme de 1ère Spécialité NSI).<br>\n",
    "\n",
    "Voici quelques exemples d'utilisation des fonction d'insertion /suppression :"
   ]
  },
  {
   "cell_type": "code",
   "execution_count": null,
   "metadata": {},
   "outputs": [],
   "source": [
    "liste = [2,4,6,8,4,10] # pop, del et remove\n",
    "liste.insert(3,5)   # insère la valeur 5 à l'indice 3, donc entre les valeurs 6 et 8\n",
    "print(liste)\n",
    "liste.remove(4)     # supprime la première valeur 4 de la liste\n",
    "print(liste)\n",
    "del liste[3]        # supprime la valeur d'indice 3 de la liste  \n",
    "print(liste)"
   ]
  },
  {
   "cell_type": "markdown",
   "metadata": {},
   "source": [
    "<strong>Fusion de listes :</strong> <br>On peut fusionner ou concaténer deux listes en les séparant par l'opérateur + . Cela renvoie une nouvelle liste qui est la concaténation des deux listes.<br>\n",
    "Voir l'exemple ci-dessous :"
   ]
  },
  {
   "cell_type": "code",
   "execution_count": null,
   "metadata": {},
   "outputs": [],
   "source": [
    "liste1 = [2,4,6,8]\n",
    "liste2 = [7,8,9]\n",
    "grosseListe = liste1 + liste2\n",
    "print(grosseListe)\n",
    "grosseListe = liste2 + liste1     # l'addition des listes n'est pas commutative!\n",
    "print(grosseListe)            # les listes liste1 et liste2 n'ont pas été modifiées  "
   ]
  },
  {
   "cell_type": "markdown",
   "metadata": {},
   "source": [
    "On peut aussi étendre une liste en lui adjoignant une autre liste à l'aide de la fonction <code>extend</code> comme l'illustre l'exemple ci-dessous :"
   ]
  },
  {
   "cell_type": "code",
   "execution_count": null,
   "metadata": {},
   "outputs": [],
   "source": [
    "liste1 = [2,4,6,8]\n",
    "liste2 = [7,8,9]\n",
    "liste1.extend(liste2)   # on ne crée pas de nouvelle liste, mais liste1 est modifiée\n",
    "print(liste1)\n",
    "print(liste2)   #liste2 n'est pas modifiée"
   ]
  },
  {
   "cell_type": "markdown",
   "metadata": {},
   "source": [
    "<h3 style=\"text-decoration:underline;\">c) En utilisant la fonction <code>range</code></h3>"
   ]
  },
  {
   "cell_type": "markdown",
   "metadata": {},
   "source": [
    "La fonction <code>range</code> (souvent utilisée dans les boucles <code>for</code>) génère automatiquement une liste d'entiers. <br><br>\n",
    "Elle peut prendre un, deux ou trois paramètres entiers :<br>\n",
    "<ul>\n",
    "    <li>\n",
    "        <code>range(n)</code> renvoie tous les entiers compris entre 0 inclus et n non inclus.\n",
    "    </li>\n",
    "    <li>\n",
    "        <code>range(p,n)</code> renvoie tous les entiers compris entre p inclus et n non inclus.\n",
    "    <li>\n",
    "        <code>range(p,n,pas)</code> renvoie tous les entiers compris entre p inclus et n non inclus avec un pas.<br>\n",
    "        Le pas peut être négatif. Dans ce cas, p doit être plus grand que n car p est la valeur de départ.\n",
    "    </li>\n",
    " </ul>\n",
    "        \n",
    "Remarque : en réalité, la fonction <code>range</code> renvoie un objet qui n'est pas tout à fait une liste. Pour obtenir une vraie liste, il faut convertir cet objet en liste avec la fonction <code>list</code>."
   ]
  },
  {
   "cell_type": "code",
   "execution_count": null,
   "metadata": {},
   "outputs": [],
   "source": [
    "liste1 = list(range(8))\n",
    "print(liste1)\n",
    "liste2 = list(range(10,20))\n",
    "print(liste2)\n",
    "liste3 = list(range(5,25,3))\n",
    "print(liste3)\n",
    "liste3 = list(range(25,3,-3))\n",
    "print(liste3)"
   ]
  },
  {
   "cell_type": "markdown",
   "metadata": {},
   "source": [
    "<div class=\"alert alert-info\"><strong>Exercice 9 : </strong><br>\n",
    "1) Générer les premiers termes d'une suite arithmétique de terme initial 3 et de raison 4.<br>\n",
    "2) Générer les premiers termes d'une suite arithmétique de terme initial 97 et de raison -5.\n",
    "</div>"
   ]
  },
  {
   "cell_type": "code",
   "execution_count": null,
   "metadata": {},
   "outputs": [],
   "source": [
    "# 1)\n"
   ]
  },
  {
   "cell_type": "code",
   "execution_count": null,
   "metadata": {},
   "outputs": [],
   "source": [
    "# 2)\n"
   ]
  },
  {
   "cell_type": "markdown",
   "metadata": {},
   "source": [
    "<h3 style=\"text-decoration:underline;\">d) Génération d'une liste en compréhension</h3>"
   ]
  },
  {
   "cell_type": "markdown",
   "metadata": {},
   "source": [
    "En mathématiques, on utilise souvent des formulations du type <strong>\"l'ensemble de tous les nombres de la forme 4n+3, pour n entier compris entre 0 et 5\"</strong>.\n",
    "Cela correspond à l'ensemble de nombres suivant : { 3 , 7 , 11 , 15 , 19 , 23 } <br>\n",
    "Le langage Python permet de définir une liste selon le même principe, avec une syntaxe très courte. Ainsi, la liste des nombres précédents peut être générée <strong>en compréhension</strong> de la façon suivante :"
   ]
  },
  {
   "cell_type": "code",
   "execution_count": null,
   "metadata": {},
   "outputs": [],
   "source": [
    "maListe = [ 4*n+3 for n in range(6)]\n",
    "print(maListe)"
   ]
  },
  {
   "cell_type": "markdown",
   "metadata": {},
   "source": [
    "<div class=\"alert alert-info\"><strong>Exercice 10 : </strong>Générer ci-dessous la liste des entiers pairs de 0 à 100 <strong>en compréhension</strong>.</div>"
   ]
  },
  {
   "cell_type": "code",
   "execution_count": null,
   "metadata": {},
   "outputs": [],
   "source": []
  },
  {
   "cell_type": "markdown",
   "metadata": {},
   "source": [
    "On peut ainsi obtenir facilement le tableau de valeurs d'une fonction, ce qui permet ensuite de représenter graphiquement cette fonction.<br>\n",
    "Voici comment obtenir la courbe représentative de la fonction carré sur l'intervalle $[-1;1]$ :"
   ]
  },
  {
   "cell_type": "code",
   "execution_count": null,
   "metadata": {},
   "outputs": [],
   "source": [
    "import matplotlib.pyplot as plt\n",
    "\n",
    "# les abscisses vont de -1 à 1 avec un pas de 0.01\n",
    "# on aurait pu écrire :\n",
    "# abscisses = list(range(-1,1.01,0.1))\n",
    "abscisses = [(i-100)/100 for i in range(201)] \n",
    "# ordonnées est la liste des carrés des abscisses\n",
    "ordonnées = [x**2 for x in abscisses]\n",
    "\n",
    "plt.plot(abscisses, ordonnées)\n",
    "plt.title('Courbe de la fonction carré sur [-1;1]')\n",
    "plt.xlabel('x')\n",
    "plt.ylabel('x²')\n",
    "plt.show()\n",
    "print(abscisses)"
   ]
  },
  {
   "cell_type": "markdown",
   "metadata": {},
   "source": [
    "<div class=\"alert alert-info\"><strong>Exercice 11 : </strong>Ecrire ci-dessous un programme qui trace la courbe représentative de la fonction <em>racine carrée</em> sur l'intervalle $[0;100]$.</div>"
   ]
  },
  {
   "cell_type": "code",
   "execution_count": null,
   "metadata": {},
   "outputs": [],
   "source": []
  },
  {
   "cell_type": "markdown",
   "metadata": {},
   "source": [
    "<strong>Liste aléatoire</strong> <br>\n",
    "On peut facilement générer une liste de nombres aléatoires en une seule ligne de code :"
   ]
  },
  {
   "cell_type": "code",
   "execution_count": null,
   "metadata": {},
   "outputs": [],
   "source": [
    "from random import *\n",
    "#randint(1,8) renvoie un nombre entier aléatoire compris entre 1 et 8 inclus\n",
    "maListe = [randint(1,8) for i in range(50)]  \n",
    "print(maListe)"
   ]
  },
  {
   "cell_type": "markdown",
   "metadata": {},
   "source": [
    "<div class=\"alert alert-info\"><strong>Exercice 12 : </strong>Ecrire un programme qui affiche le numéro d'un département de la région Centre choisi au hasard.<br><br>\n",
    "    Remarque : cet exercice porte sur la génération de nombres aléatoires avec <code>randint</code> et non sur la génération d'une liste en compréhension.</div>"
   ]
  },
  {
   "cell_type": "code",
   "execution_count": null,
   "metadata": {},
   "outputs": [],
   "source": []
  },
  {
   "cell_type": "markdown",
   "metadata": {},
   "source": [
    "<h3 style=\"text-decoration:underline;\">e) Filtrage d'une liste</h3>"
   ]
  },
  {
   "cell_type": "markdown",
   "metadata": {},
   "source": [
    "On peut créer une liste à partir d'une liste déjà existante en ne sélectionnant que certains éléments de la liste d'origine qui vérifient une certaine condition.\n",
    "\n",
    "<strong>Sélection avec une condition portant sur les indices : le slice</strong>\n",
    "\n",
    "\"slice\" signifie \"couper en tranches\" en anglais. On ne sélectionne qu'une portion de la liste comprise entre deux indices. \n",
    "<code>maListe[a:b]</code> sélectionne la tranche qui va de l'indice a inclus à l'indice b exclu.<br>\n",
    "On peut ajouter un pas :\n",
    "<code>maListe[a:b:c]</code> <br>\n",
    "Si le pas est négatif, la liste est renversée."
   ]
  },
  {
   "cell_type": "code",
   "execution_count": null,
   "metadata": {},
   "outputs": [],
   "source": [
    "maListe = list(range(25))\n",
    "print(maListe)\n",
    "liste1 = maListe[3:6]   # sélection des élements de l'indice 3 inclus à l'indice 6 exclu\n",
    "print(liste1)\n",
    "liste2 = maListe[:10]   # sélection des 10 premiers éléments (de l'indice 0 à l'indice 9)\n",
    "print(liste2)\n",
    "liste3 = maListe[15:]   # sélection de tous les éléments à partir de celui d'indice 15\n",
    "print(liste3)\n",
    "liste4 = maListe[::2]   # sélection de tous les éléments d'indice pair (de 2 en 2)\n",
    "print(liste4)\n",
    "liste5 = maListe[1::2]  # sélection de tous les éléments d'indice impair (de 2 en 2 en commençant à 1)\n",
    "print(liste5)\n",
    "liste6 = maListe[::-1]  # liste obtenue en parcourant tous les éléments à partir de la fin\n",
    "print(liste6)\n",
    "liste7 = maListe[::-2]  # liste obtenue en parcourant tous les éléments à partir de la fin de 2 en 2\n",
    "print(liste7)"
   ]
  },
  {
   "cell_type": "markdown",
   "metadata": {},
   "source": [
    "<strong>Sélection avec une condition portant sur les valeurs</strong>"
   ]
  },
  {
   "cell_type": "markdown",
   "metadata": {},
   "source": [
    "Lors de la génération d'une liste en compréhension, on peut ajouter une condition (avec le mot-clé <code>if</code>) qui permet d'exclure certaines valeurs de la liste.<br>\n",
    "Par exemple, le programme ci-dessous ne retient que les valeurs supérieures à 10 de la liste initiale :"
   ]
  },
  {
   "cell_type": "code",
   "execution_count": null,
   "metadata": {},
   "outputs": [],
   "source": [
    "listeInitiale = [15,12,7,9,10,18,6]\n",
    "nouvelleListe = [ n for n in listeInitiale if n >= 10 ]\n",
    "print(nouvelleListe)"
   ]
  },
  {
   "cell_type": "markdown",
   "metadata": {},
   "source": [
    "<div class=\"alert alert-info\"><strong>Exercice 13 : </strong>Ecrire un programme qui affiche la liste des <strong>nombres d'habitants</strong> des communes d'Indre-et-Loire de plus de 10 000 habitants.</div>"
   ]
  },
  {
   "cell_type": "code",
   "execution_count": null,
   "metadata": {},
   "outputs": [],
   "source": []
  },
  {
   "cell_type": "markdown",
   "metadata": {},
   "source": [
    "Le programme ci-dessous affiche la liste des communes d'Indre-et-Loire de plus de 10 000 habitants :"
   ]
  },
  {
   "cell_type": "code",
   "execution_count": null,
   "metadata": {},
   "outputs": [],
   "source": [
    "listeVilles = [communes[i] for i in range(len(communes)) if nbHabitants[i] >= 10000]\n",
    "print(listeVilles)"
   ]
  },
  {
   "cell_type": "markdown",
   "metadata": {},
   "source": [
    "<div class=\"alert alert-info\"><strong>Exercice 14 : </strong>Ecrire un programme qui affiche le nombre de communes d'Indre-et-Loire dont le nombre d'habitants se termine par un 0.\n",
    "</div>"
   ]
  },
  {
   "cell_type": "code",
   "execution_count": null,
   "metadata": {},
   "outputs": [],
   "source": []
  },
  {
   "cell_type": "markdown",
   "metadata": {},
   "source": [
    "<div class=\"alert alert-info\"><strong>Exercice 15 : </strong>Quel est le rôle du programme ci-dessous et comment s'appelle la méthode employée ici ?\n",
    "</div>"
   ]
  },
  {
   "cell_type": "code",
   "execution_count": null,
   "metadata": {},
   "outputs": [],
   "source": []
  },
  {
   "cell_type": "code",
   "execution_count": null,
   "metadata": {},
   "outputs": [],
   "source": [
    "liste = list(range(2,100))\n",
    "liste = [n for n in liste if n==2 or not(n%2 == 0)] # on supprime les nombres pairs sauf le premier\n",
    "liste = [n for n in liste if n==3 or not(n%3 == 0)] \n",
    "liste = [n for n in liste if n==5 or not(n%5 == 0)]\n",
    "liste = [n for n in liste if n==7 or not(n%7 == 0)]\n",
    "print(liste)"
   ]
  },
  {
   "cell_type": "markdown",
   "metadata": {},
   "source": [
    "<a id=\"partie4\"></a>"
   ]
  },
  {
   "cell_type": "markdown",
   "metadata": {},
   "source": [
    "<h2 style=\"text-decoration:underline;\" id=\"partie4\">4- Parcours d'une liste</h2>"
   ]
  },
  {
   "cell_type": "markdown",
   "metadata": {},
   "source": [
    "On peut facilement parcourir une liste à l'aide d'une boucle <code>for</code>. <br>\n",
    "Il existe pour cela deux méthodes en Python :<br>\n",
    "<ul>\n",
    "    <li>\n",
    "        Méthode 1 : La variable de boucle parcourt successivement tous les <strong>indices</strong> de la liste.\n",
    "    </li>\n",
    "    <li>\n",
    "        Méthode 2 : La variable de boucle parcourt successivement toutes les <strong>valeurs</strong> de la liste.\n",
    "    </li>\n",
    "</ul>"
   ]
  },
  {
   "cell_type": "code",
   "execution_count": null,
   "metadata": {},
   "outputs": [],
   "source": [
    "notes = [12,17,15,14]\n",
    "\n",
    "# Méthode 1\n",
    "print(\"Méthode 1 :\")\n",
    "\n",
    "for i in range(len(notes)) :   # i prend successivement toutes les valeurs des indices de la liste\n",
    "    print(notes[i])\n",
    "\n",
    "#Méthode 2\n",
    "print(\"Méthode 2 : \")\n",
    "\n",
    "for n in notes :    # n prend successivement toutes les valeurs de la liste\n",
    "    print(n)\n"
   ]
  },
  {
   "cell_type": "markdown",
   "metadata": {},
   "source": [
    "La méthode 2 est préférable car sa syntaxe est plus courte et plus lisible. Cependant, elle ne peut fonctionner que si l'on n'utilise pas l'indice de la valeur considérée dans la boucle. Si par exemple on cherche l'indice correspondant à la plus grande valeur de la liste, seule la méthode 1 pourra être mise en oeuvre."
   ]
  },
  {
   "cell_type": "markdown",
   "metadata": {},
   "source": [
    "<div class=\"alert alert-info\"><strong>Exercice 16 : </strong>Compléter le programme suivant afin qu'il affiche le nombre d'habitants de la ville la plus peuplée d'Indre-et-Loire.</div>"
   ]
  },
  {
   "cell_type": "code",
   "execution_count": null,
   "metadata": {},
   "outputs": [],
   "source": []
  },
  {
   "cell_type": "markdown",
   "metadata": {},
   "source": [
    "<div class=\"alert alert-info\"><strong>Exercice 17 : </strong>Compléter le programme suivant afin qu'il affiche le nom de la ville d'Indre-et-Loire qui a le plus d'habitants.</div>"
   ]
  },
  {
   "cell_type": "code",
   "execution_count": null,
   "metadata": {},
   "outputs": [],
   "source": []
  },
  {
   "cell_type": "markdown",
   "metadata": {},
   "source": [
    "<div class=\"alert alert-info\"><strong>Exercice 18 : </strong>Dans le programme ci-dessous, la liste <code>nbCas</code> contient le nombre de nouveaux cas de Covid-19 relevés chaque jour en France du 1er janvier 2020 au 2 avril 2021. Cette liste est représentée graphiquement en faisant appel à la bibliothèque <code>matplotlib</code>. On observe que les valeurs sont irrégulières avec des \"creux\" tous les sept jours dûs aux week end.<br>\n",
    "Afin de mieux voir les tendances et de supprimer cet effet \"week end\", on lisse la courbe en utilisant une <strong>moyenne mobile</strong> à 7 jours. Ceci consiste à remplacer chaque valeur par la moyenne des valeurs des 7 jours précédents.<br>\n",
    "\n",
    "Dans le programme, les 6 premières valeurs de la liste <code>moyenneMobile7jours</code> ont été initialisées à 15 000.<br>\n",
    "Compléter cette liste afin qu'elle contienne les moyennes mobiles à 7 jours correspondant à chaque journée.\n",
    "</div>"
   ]
  },
  {
   "cell_type": "code",
   "execution_count": null,
   "metadata": {},
   "outputs": [],
   "source": [
    "import matplotlib.pyplot as plt\n",
    "\n",
    "#nombre de nouveaux cas quotidiens de Covid-19 en France du 1er janvier 2021 au 10 mai 2021\n",
    "nbCas = [19348,3466,12489,4022,20489,25379,21703,19814,20177,15944,3582,19752,23852,21228,21271,\n",
    "        21406,16642,3736,23608,26784,22848,23292,23924,18436,4240,22086,26916,23770,22858,24392,\n",
    "        19235,4347,23337,26362,23448,22139,20586,19715,4317,18870,25387,21063,20701,21231,16546,\n",
    "        4376,19590,25018,22501,24116,22371,22046,4646,20064,31519,25403,25207,23996,19952,4703,\n",
    "        22857,26788,25279,23507,23306,21825,5327,23302,30303,27166,25229,29759,26343,6471,29975,\n",
    "        38501,34998,35088,35327,30581,15792,14678,65373,45641,41869,42619,37014,9094,30702,59038,\n",
    "        50659,46677,13917,66794,10793,8045,12951,84999,41243,43284,34895,8536,39113,43505,38045,\n",
    "        36442,35861,29344,6696,43098,34968,34318,32340,32633,24465,5952,30317,31539,26538,24299,\n",
    "        25670,9888,3760,24371,26000,21712,19124,20745,9128,3292]\n",
    "abscisses = list(range(len(nbCas)))\n",
    "moyenneMobile7jours = [15000] * 6\n",
    "\n",
    "plt.plot(abscisses, nbCas)\n",
    "plt.plot(moyenneMobile7jours)\n",
    "plt.title('Nombre de nouveaux cas quoditiens de Covid-19 en France depuis le 1er janvier 2021')\n",
    "plt.xlabel('numéro du jour')\n",
    "plt.ylabel('nombre de cas')\n",
    "plt.show()"
   ]
  },
  {
   "cell_type": "markdown",
   "metadata": {},
   "source": [
    "<strong>Arrêt prématuré du parcours</strong><br>\n",
    "Pour certains algorithmes, il est inutile de parcourir entièrement la liste du début à la fin.\n",
    "Dans ce cas, il est préférable d'utiliser une boucle <code>while</code> (tant que), qui permet de s'arrêter avant d'avoir atteint la fin de la liste. On économise alors du temps de calcul.<br>\n",
    "<strong><br>Exemple : </strong> Le programme ci-dessous renvoie <code>True</code> si la liste contient deux éléments consécutifs égaux, et <code>False</code> sinon :"
   ]
  },
  {
   "cell_type": "code",
   "execution_count": null,
   "metadata": {},
   "outputs": [],
   "source": [
    "liste = [2,4,8,7,7,6,4,8,3]      # Supprimez un des deux 7 pour modifier le résultat du programme\n",
    "i = 1\n",
    "doublon = False     # ce booléen prendra la valeur True si un doublon est trouvé\n",
    "while i < len(liste) and not doublon: # on arrête le parcours de la liste si on a déjà trouvé un doublon\n",
    "    print(i)\n",
    "    if liste[i] == liste[i-1]:\n",
    "        doublon = True\n",
    "    i = i + 1\n",
    "print(doublon)"
   ]
  },
  {
   "cell_type": "markdown",
   "metadata": {},
   "source": [
    "<div class=\"alert alert-info\"><strong>Exercice 19 : </strong>Dans chaque cas, indiquer s'il est préférable d'utiliser une boucle <code>for</code> ou une boucle <code>while</code>.\n",
    "<ol>\n",
    "    <li>\n",
    "        Calculer la somme de toutes les valeurs de la liste.\n",
    "    </li>\n",
    "      <li>\n",
    "        Déterminer la plus grande valeur de la liste.\n",
    "    </li>\n",
    "      <li>\n",
    "        Déterminer si la valeur 6 apparait au moins une fois dans la liste.\n",
    "    </li>\n",
    "      <li>\n",
    "        Compter le nombre d'apparitions de la valeur 6 dans la liste.\n",
    "    </li>\n",
    "      <li>\n",
    "        Déterminer si les valeurs de la liste sont rangées dans l'ordre croissant.\n",
    "    </li>\n",
    "</ol>\n",
    "    Indiquez vos réponses dans le cadre vert.\n",
    "</div>"
   ]
  },
  {
   "cell_type": "markdown",
   "metadata": {},
   "source": [
    "<div class=\"alert alert-success\" style=\"width:25%\"><strong>Réponses : </strong>\n",
    "    <ol>\n",
    "        <li>\n",
    "            <input type=\"checkbox\"> for &nbsp;&nbsp;&nbsp; <input type=\"checkbox\"> while          \n",
    "        </li>  \n",
    "          <li>\n",
    "            <input type=\"checkbox\"> for &nbsp;&nbsp;&nbsp; <input type=\"checkbox\"> while          \n",
    "        </li>  \n",
    "          <li>\n",
    "            <input type=\"checkbox\"> for &nbsp;&nbsp;&nbsp; <input type=\"checkbox\"> while          \n",
    "        </li>  \n",
    "          <li>\n",
    "            <input type=\"checkbox\"> for &nbsp;&nbsp;&nbsp; <input type=\"checkbox\"> while          \n",
    "        </li>  \n",
    "          <li>\n",
    "            <input type=\"checkbox\"> for &nbsp;&nbsp;&nbsp; <input type=\"checkbox\"> while          \n",
    "        </li>  \n",
    "    </ol>\n",
    "   \n",
    "</div>"
   ]
  },
  {
   "cell_type": "code",
   "execution_count": null,
   "metadata": {},
   "outputs": [],
   "source": []
  },
  {
   "cell_type": "markdown",
   "metadata": {},
   "source": [
    "<strong>Remarque</strong> : Pour le problème n°3 de l'exercice 19, il existe en Python un moyen très simple de savoir si un élément se trouve dans une liste : <br>\n",
    "<code>élément in liste</code> renvoie un booléen : <code>True</code> si <code>élément</code> appartient à <code>liste</code>, <code>False</code>.<br>\n",
    "Cette syntaxe est la même que celle utilisée dans les boucles <code> for élément in liste</code> mais le sens est différent ici :"
   ]
  },
  {
   "cell_type": "code",
   "execution_count": null,
   "metadata": {},
   "outputs": [],
   "source": [
    "maListe = [1,2,3,4,5,6,7]\n",
    "print(3 in maListe)\n",
    "print(8 in maListe)"
   ]
  },
  {
   "cell_type": "markdown",
   "metadata": {},
   "source": [
    "On peut également obtenir l'indice de la première occurence d'un élément dans une liste :"
   ]
  },
  {
   "cell_type": "code",
   "execution_count": null,
   "metadata": {},
   "outputs": [],
   "source": [
    "maListe = [1,1,2,2,3,3,4,4,5,5]\n",
    "print(maListe.index(3))    # renvoie l'indice de la première valeur 3 de la liste\n",
    "print(maListe.index(6))    # renvoie une erreur car 6 n'est pas dans la liste "
   ]
  },
  {
   "cell_type": "markdown",
   "metadata": {},
   "source": [
    "<div class=\"alert alert-info\"><strong>Exercice 20 : </strong>Le programme ci-dessous demande à l'utilisateur de saisir le nom d'une commune d'Indre-et-Loire.<br>\n",
    "Compléter ce programme (remplacer les <code>...</code>) pour qu'il affiche le nombre d'habitants de la commune saisie.<br>\n",
    "Pour cela, le programme devra parcourir la liste des noms des communes jusqu'à trouver le nom de la commune saisie.<br>\n",
    "Si la commune saisie n'existe pas, le programme devra afficher un message d'erreur.</div>"
   ]
  },
  {
   "cell_type": "code",
   "execution_count": null,
   "metadata": {},
   "outputs": [],
   "source": [
    "nom = input(\"Veuillez saisir le nom d'une commune : \")\n",
    "indice = 0\n",
    "trouvé = False\n",
    "while ... and not ...:\n",
    "    if communes[indice] == ...:\n",
    "        trouvé = True\n",
    "    indice = ...\n",
    "indice = indice - 1\n",
    "if trouvé:\n",
    "    print(\"La commune\",nom,\"a\",nbHabitants[indice],\"habitants.\")\n",
    "else:\n",
    "    print(\"La commune\",nom,\"n'existe pas en Indre-et-Loire.\")"
   ]
  },
  {
   "cell_type": "code",
   "execution_count": null,
   "metadata": {},
   "outputs": [],
   "source": [
    "nbHabitants[communes.index(input(\"Veuillez saisir le nom d'une commune : \"))]"
   ]
  },
  {
   "cell_type": "markdown",
   "metadata": {},
   "source": [
    "Remarque : il existe en Python une structure appelée \"Dictionnaire\" (hors programme de spécialité Mathématiques, mais au programme de spécialité NSI) qui permet de résoudre de façon plus simple le problème de l'exercice 20."
   ]
  },
  {
   "attachments": {
    "zip.jpg": {
     "image/jpeg": "[encoded data removed]"
    }
   },
   "cell_type": "markdown",
   "metadata": {},
   "source": [
    "<strong>Complément : Parcours de deux listes en parallèle</strong><br>\n",
    "La fonction <code>zip</code> permet de parcourir les éléments de deux listes en parallèle : au premier tour de boucle, on dispose du premier élément de chaque liste, puis du deuxième élément au deuxième tour de boucle et ainsi de suite. <br>\n",
    "\"zip\" signifie \"fermeture éclair\" en anglais.\n",
    "![zip.jpg](attachment:zip.jpg)"
   ]
  },
  {
   "cell_type": "markdown",
   "metadata": {},
   "source": [
    "L'exemple ci-dessous effectue le calcul de la somme de deux listes élément par élément :"
   ]
  },
  {
   "cell_type": "code",
   "execution_count": 1,
   "metadata": {},
   "outputs": [
    {
     "name": "stdout",
     "output_type": "stream",
     "text": [
      "[9, 10, 11, 12, 13]\n"
     ]
    }
   ],
   "source": [
    "liste1 = [2,4,6,8,10]\n",
    "liste2 = [7,6,5,4,3]\n",
    "listeSomme = []\n",
    "for a,b in zip(liste1,liste2):\n",
    "    listeSomme.append(a + b)   # au premier tour de la boucle, a vaut 2 et b vaut 7\n",
    "print(listeSomme)"
   ]
  },
  {
   "cell_type": "markdown",
   "metadata": {},
   "source": [
    "<div class=\"alert alert-info\"><strong>Exercice 21 (facultatif) : </strong>Compléter ce programme (qui utilise la fonction <code>zip</code>) permettant de calculer la moyenne pondérée des notes ci-dessous. Les coefficients de chaque note sont donnés dans une liste de même taille.</div>"
   ]
  },
  {
   "cell_type": "code",
   "execution_count": null,
   "metadata": {},
   "outputs": [],
   "source": [
    "notes = [6,9,10,14,13]\n",
    "coefficients = [2,1,4,3,2]\n",
    "sommeNotes = 0\n",
    "sommeCoeff = 0\n",
    "for ... in ...:\n",
    "    sommeCoeff = ...\n",
    "    sommeNotes = ...\n",
    "moyenne = ...\n",
    "print(moyenne)"
   ]
  },
  {
   "cell_type": "markdown",
   "metadata": {},
   "source": [
    "<strong>Exercice bilan :</strong> Entrelacer deux listes"
   ]
  },
  {
   "cell_type": "markdown",
   "metadata": {},
   "source": [
    "<div class=\"alert alert-info\"><strong>Exercice 22 (facultatif) : </strong>Ecrire un programme qui entrelace les deux listes <code>liste1</code> et <code>liste2</code> ci-dessous, et affiche la liste entrelacée.<br>\n",
    "Plusieurs méthodes sont possibles.</div>"
   ]
  },
  {
   "cell_type": "code",
   "execution_count": null,
   "metadata": {},
   "outputs": [],
   "source": [
    "liste1 = [4,8,6,0,6,4]\n",
    "liste2 = [5,1,9,3,7,3]\n",
    "\n",
    "# la liste à générer à partir des deux listes est [4,5,8,1,6,9,0,3,6,7,4,3]"
   ]
  },
  {
   "cell_type": "markdown",
   "metadata": {},
   "source": [
    "<a id=\"partie5\"></a>"
   ]
  },
  {
   "cell_type": "markdown",
   "metadata": {},
   "source": [
    "<h2 style=\"text-decoration:underline;\" id=\"partie5\">5- Tri d'une liste</h2>"
   ]
  },
  {
   "cell_type": "markdown",
   "metadata": {},
   "source": [
    "<div class=\"alert alert-info\"><strong>Exercice 23 : </strong>Quel est le rôle de l'algorithme ci-dessous?<br>    \n",
    "Indication : vous pouvez faire des essais en modifiant la liste de la première ligne.</div>"
   ]
  },
  {
   "cell_type": "code",
   "execution_count": null,
   "metadata": {},
   "outputs": [],
   "source": []
  },
  {
   "cell_type": "code",
   "execution_count": null,
   "metadata": {},
   "outputs": [],
   "source": [
    "liste = [5,8,1,9,7,6]\n",
    "for i in range(len(liste)):\n",
    "    for j in range(len(liste)-1):       \n",
    "        if liste[j] > liste[j+1]:\n",
    "            aux = liste[j]\n",
    "            liste[j] = liste[j+1]\n",
    "            liste[j+1] = aux\n",
    "print(liste)"
   ]
  },
  {
   "cell_type": "markdown",
   "metadata": {},
   "source": [
    "Les listes en Python disposent d'une fonction de tri préprogrammée, appelée <code>sort</code>, qui agit directement sur la liste (la liste est modifiée). \"sort\" signifie \"trier\" en anglais.<br>\n",
    "L'exemple ci-dessous indique comment utiliser cette fonction de tri :"
   ]
  },
  {
   "cell_type": "code",
   "execution_count": 6,
   "metadata": {},
   "outputs": [
    {
     "name": "stdout",
     "output_type": "stream",
     "text": [
      "[6, 7, 9, 1, 4, 2, 3] liste initiale\n",
      "[1, 2, 3, 4, 6, 7, 9] par ordre croissant\n",
      "[9, 7, 6, 4, 3, 2, 1] par ordre décroissant\n"
     ]
    }
   ],
   "source": [
    "liste = [6,7,9,1,4,2,3]\n",
    "print(liste, \"liste initiale\")\n",
    "liste.sort()     # par défaut, le tri se fait par ordre croissant\n",
    "print(liste,\"par ordre croissant\")\n",
    "liste.sort(reverse=True)      # tri par ordre décroissant\n",
    "print(liste,\"par ordre décroissant\")"
   ]
  },
  {
   "cell_type": "markdown",
   "metadata": {},
   "source": [
    "Les listes triées permettent de simplifier ou d'accélérer les algorithmes de recherche d'un élément dans une liste.<br>\n",
    "Il ne faut cependant pas oublier que le tri d'une liste peut demander beaucoup de calculs lorsque la  liste est très longue. Il faut donc s'assurer que le tri préalable de la liste en vaut la peine. <br><br>\n",
    "Les trois exercices suivants fournissent quelques exemples de situations pour lesquelles le tri préalable de la liste permet de résoudre plus facilement ou plus rapidement le problème posé :"
   ]
  },
  {
   "cell_type": "markdown",
   "metadata": {},
   "source": [
    "<div class=\"alert alert-info\"><strong>Exercice 24 : </strong>Compléter ce programme qui calcule la médiane du nombre d'habitants des communes d'Indre-et-Loire, le nombre d'habitants de la commune la moins peuplée et le nombre d'habitants de la commune la plus peuplée.</div>"
   ]
  },
  {
   "cell_type": "code",
   "execution_count": null,
   "metadata": {},
   "outputs": [],
   "source": [
    "nbHabitants.sort()\n",
    "print(\"Le plus petit nombre d'habitants est\", ... )\n",
    "print(\"Le plus grand nombre d'habitants est\", ... )\n",
    "print(\"La médiane du nombre d'habitants est\", ... )"
   ]
  },
  {
   "cell_type": "markdown",
   "metadata": {},
   "source": [
    "<div class=\"alert alert-info\"><strong>Exercice 25 (facultatif) : </strong>Compléter ce programme qui calcule le nombre de communes d'Indre-et-Loire qui possèdent le même nombre d'habitants qu'une autre commune du département.</div>"
   ]
  },
  {
   "cell_type": "code",
   "execution_count": null,
   "metadata": {},
   "outputs": [],
   "source": [
    "nbHabitants.sort()\n",
    "compteur = 0\n",
    "[...]\n",
    "print(compteur)"
   ]
  },
  {
   "cell_type": "markdown",
   "metadata": {},
   "source": [
    "<div class=\"alert alert-info\"><strong>Exercice 26 (facultatif) : </strong>Ecrire un programme qui simule 1000 lancers d'un dé, stocke les résultats dans une liste, trie la liste par ordre décroissant, puis compte le nombre de 6 obtenus sans parcourir entièrement la liste, puis affiche le nombre de 6.</div>"
   ]
  },
  {
   "cell_type": "code",
   "execution_count": null,
   "metadata": {},
   "outputs": [],
   "source": []
  },
  {
   "cell_type": "markdown",
   "metadata": {},
   "source": [
    "<a id=\"partie6\"></a>"
   ]
  },
  {
   "cell_type": "markdown",
   "metadata": {},
   "source": [
    "<h2 style=\"text-decoration:underline;\" id=\"partie6\">6- Tableaux à deux dimensions</h2>"
   ]
  },
  {
   "cell_type": "markdown",
   "metadata": {},
   "source": [
    "Les listes en Python peuvent contenir des éléments de n'importe quel type (entiers, flottants, chaînes de caractères, etc...), et même des listes. On peut ainsi construire des listes de listes, comme dans l'exemple ci-dessous, où l'on considère une liste de 3 listes contenant chacune 4 éléments :"
   ]
  },
  {
   "cell_type": "code",
   "execution_count": null,
   "metadata": {},
   "outputs": [],
   "source": [
    "table = [ [1,2,3,4],[5,6,7,8],[9,8,7,6] ]\n",
    "print(table[1])      # affichage de la 2ème liste\n",
    "print(table)         # affichage de la liste de listes\n",
    "print(table[2][1])   # affichage du 2ème élément de la 3ème liste  \n",
    "print(len(table))    # affichage du nombre de listes de la liste"
   ]
  },
  {
   "cell_type": "markdown",
   "metadata": {},
   "source": [
    "Les listes de listes sont utiles pour modéliser des tableaux à double entrée (ou des grilles ou des matrices). Pour mieux visualiser les choses, il est préférable d'afficher chacune des listes sur une nouvelle ligne comme ci-dessous :"
   ]
  },
  {
   "cell_type": "code",
   "execution_count": null,
   "metadata": {},
   "outputs": [],
   "source": [
    "for liste in table :\n",
    "    print(liste)"
   ]
  },
  {
   "cell_type": "markdown",
   "metadata": {},
   "source": [
    "Ainsi, chaque liste correspond à une ligne du tableau.<br>\n",
    "Lorsqu'on écrit <code>table[i][j]</code>, <code>i</code> correspond à l'indice de la ligne et <code>j</code> à l'indice de la colonne."
   ]
  },
  {
   "cell_type": "markdown",
   "metadata": {},
   "source": [
    "Pour parcourir un tableau à deux dimensions (une liste de listes), il est nécessaire d'utiliser deux boucles <strong>imbriquées</strong> : la boucle externe parcourt toutes les lignes tandis que la boucle interne parcourt toutes les colonnes de la ligne.<br>\n",
    "Le programme ci-dessous parcourt tous les éléments du tableau précédent pour calculer leur somme :"
   ]
  },
  {
   "cell_type": "code",
   "execution_count": null,
   "metadata": {},
   "outputs": [],
   "source": [
    "somme = 0\n",
    "for ligne in table :\n",
    "    for e in ligne :\n",
    "        somme = somme + e\n",
    "print(somme)"
   ]
  },
  {
   "cell_type": "markdown",
   "metadata": {},
   "source": [
    "Le programme ci-dessous montre comment générer un tableau à deux dimensions, ici la table de multiplication des entiers de 0 à 9 :"
   ]
  },
  {
   "cell_type": "code",
   "execution_count": null,
   "metadata": {},
   "outputs": [],
   "source": [
    "tableMultiplication = [ [0] * 10 for i in range(10)]  #Crée une table de taille 10x10 contenant des 0\n",
    "for i in range(10):\n",
    "    for j in range(10):\n",
    "        tableMultiplication[i][j] = i*j\n",
    "\n",
    "for ligne in tableMultiplication:\n",
    "        print(ligne)"
   ]
  },
  {
   "cell_type": "markdown",
   "metadata": {},
   "source": [
    "Le résultat de chaque multiplication est maintenant stocké dans la table. On peut facilement accéder au résultat de \"7x8\" comme ci-dessous :"
   ]
  },
  {
   "cell_type": "code",
   "execution_count": null,
   "metadata": {},
   "outputs": [],
   "source": [
    "tableMultiplication[7][8]"
   ]
  },
  {
   "cell_type": "markdown",
   "metadata": {},
   "source": [
    "Les tableaux à deux dimensions sont souvent utilisés pour représenter des images (tableaux de pixels)."
   ]
  }
 ],
 "metadata": {
  "kernelspec": {
   "display_name": "Python 3 (ipykernel)",
   "language": "python",
   "name": "python3"
  },
  "language_info": {
   "codemirror_mode": {
    "name": "ipython",
    "version": 3
   },
   "file_extension": ".py",
   "mimetype": "text/x-python",
   "name": "python",
   "nbconvert_exporter": "python",
   "pygments_lexer": "ipython3",
   "version": "3.10.4"
  },
  "widgets": {
   "application/vnd.jupyter.widget-state+json": {
    "state": {},
    "version_major": 2,
    "version_minor": 0
   }
  }
 },
 "nbformat": 4,
 "nbformat_minor": 4
}

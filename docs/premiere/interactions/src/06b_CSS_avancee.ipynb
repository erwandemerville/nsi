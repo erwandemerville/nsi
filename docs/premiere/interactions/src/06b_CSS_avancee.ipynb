{
 "cells": [
  {
   "cell_type": "markdown",
   "id": "b2bf992d",
   "metadata": {},
   "source": [
    "# CSS avancée  \n",
    "Reprenons et précisons quelques règles CSS. Dans ce chapitre nous allons pousser un peu le fonctionement des rêgles CSS pour voir que l'on peut allre très loin dans la mise en forme d'un site HTML."
   ]
  },
  {
   "cell_type": "markdown",
   "id": "483057d7",
   "metadata": {},
   "source": [
    " \n",
    "\n",
    "# I. Introduction au CSS\n",
    "\n",
    "## 1) Qu'est-ce ?\n",
    "Le CSS : Cascading Style Sheets (Feuille de style en cascade) est le langage permettant la mise en forme (le style) du contenu HTML. En fait, le CSS s'applique également à d'autres langages fondés sur ce principe de balises, <a href=\"https://developer.mozilla.org/fr/docs/Web/SVG/Tutorial/SVG_and_CSS\">comme le SVG (exemple ici)</a> ou le XML.\n",
    "\n",
    "\n",
    "## 2) Où l'écrit-on ?\n",
    "Les **règles CSS** peuvent être : \n",
    "* regroupées dans **un ou plusieurs fichiers textes externes**, d'extension .css, qui seront liés à nos pages HTML. **C'est la solution à favoriser**. La déclaration du chemin de ces feuilles se fait au moyen d'un élément HTML <code>&lt;link&gt;</code> situé dans la section <code>&lt;head&gt;</code> de la page. Par exemple, si la feuille est dans le dossier `styles` situé au même endroit que la page actuelle : on écrira :\n",
    "    ```HTML\n",
    "    <head>\n",
    "        ...\n",
    "        <!--Feuille de style externe -->\n",
    "        <link rel=\"stylesheet\" href=\"styles/ma_feuille.css\">  \n",
    "        ...\n",
    "    </head>\n",
    "    ```\n",
    "\n",
    "\n",
    "\n",
    "\n",
    "* **écrites dans un élément HTML <code>&lt;style&gt;</code> figurant dans l'élément** <code>&lt;head&gt;</code>  **de la page HTML** (on parle alors de **feuille de style interne**). Cette feuille de style a alors la priorité sur des feuilles de style. Notre fichier HTML a alors cette structure :\n",
    "    ```HTML\n",
    "    <head>\n",
    "        ...\n",
    "        <!--Feuille de style interne, au sein d'un élément HTML <style> -->\n",
    "        <style>             \n",
    "            h1 {\n",
    "                color:rgb(125, 200, 17);\n",
    "                ...\n",
    "               }\n",
    "        </style>      \n",
    "    </head>\n",
    "    ```\n",
    "    \n",
    "* **dans un attribut `style` d'un élément HTML à mettre en forme**, dans la section `<body>` de la page. Cette solution est plus difficile à maintenir, elle est donc à éviter. Mais dans les codes sources de sites anciens, vous pouvez trouver des choses comme : \n",
    "     ```HTML\n",
    "    <body>\n",
    "        ...\n",
    "        <!--Attribut style d'un élément HTML -->\n",
    "        <p style=\"font-weight:bold\"> texte en gras  </p>\n",
    "        ...\n",
    "    </body>\n",
    "    ```"
   ]
  },
  {
   "cell_type": "markdown",
   "id": "a2683c88",
   "metadata": {},
   "source": [
    "## 3) A quoi ressemble du code CSS ?"
   ]
  },
  {
   "cell_type": "markdown",
   "id": "9003d266",
   "metadata": {},
   "source": [
    "<div style=\"width:500px; margin:auto;\">\n",
    "    \n",
    "```css\n",
    "/* Exemple de fichier css */    \n",
    "    \n",
    "body {\n",
    "  max-width: 400px;\n",
    "  margin: 5px auto;\n",
    "}\n",
    "\n",
    "h1 {\n",
    "  font-size: 1.5em;\n",
    "  color: rgb(255, 0, 255);\n",
    "  background-color: #ffffaa;\n",
    "}\n",
    "\n",
    "p {\n",
    "  font-size: 2em;\n",
    "  font-family: \"Brush Script MT\";\n",
    "}\n",
    "```\n",
    "\n",
    "</div>"
   ]
  },
  {
   "cell_type": "markdown",
   "id": "5869f7a2",
   "metadata": {},
   "source": [
    "* La première règle appliquée à l'élément HTML `<body>` indique que le contenu de l'élément ne pourra dépasser 400 pixels.\n",
    "* La seconde spécifie une marge haute et basse de 5 pixels et une marge droite et gauche calculées automatiquement à partir de la taille de fenêtre de façon à centrer le contenu du `<body>` (sans dépasser 400 pixels, donc).\n",
    "* Les trois règles suivantes concernent tous les titres `<h1>` et spécifient sa police (*font* en anglais) avec une taille 1,5 fois égale à la taille qui serait normalement utilisée, une couleur de texte donnée par ses trois composantes RGB (R:255, G:0 et B:255) et une couleur de fond donnée par ses trois composantes RGB mais exprimées en hexadécimal : R:ff (donc 255), G:ff (255) et B:aa (170)\n",
    "* Enfin les deux dernières règles concernent le contenu des éléments HTML `<p>`: une taille de police doublée et une police \"Brush Script MT\".\n",
    "\n"
   ]
  },
  {
   "cell_type": "markdown",
   "id": "658f0182",
   "metadata": {},
   "source": [
    "## Syntaxe d'une règle CSS\n",
    "\n",
    "La syntaxe générale d'une règle CSS prend la forme : "
   ]
  },
  {
   "cell_type": "markdown",
   "id": "fdb13542",
   "metadata": {},
   "source": [
    "<div style=\"border: 5px solid green; width:400px; margin:auto; font-size:1.2em;\">\n",
    "   \n",
    "\n",
    "```css\n",
    "/* Syntaxe d'une règle CSS */    \n",
    "\n",
    "selecteur {\n",
    "    propriete: valeur;\n",
    "}\n",
    "```  "
   ]
  },
  {
   "cell_type": "markdown",
   "id": "d59270b5",
   "metadata": {},
   "source": [
    "<div style=\"margin:auto; background-color:#fef; font-size:1.2em; color:red;\" class=\"alert alert-danger\">\n",
    "    \n",
    "**Important** : Toute règle mal écrite sera ignorée, et potentiellement les suivantes aussi, typiquement :\n",
    "* un oubli de `;`, \n",
    "* un `=` à la place d'un `:`, \n",
    "* une paire d'accolades mal refermées.\n",
    "* une propriété qui ne s'applique pas au bon élément (mais à un élément parent), ou mal orthographiée. En CSS, les propriétés sont toujours des **mots anglais** (~couleur~ $\\rightarrow$ color).\n",
    "    \n",
    "Une règle CSS qui ne fonctionne pas est peut-être le signe d'une erreur antérieure, souvent dans le même bloc de règles (bloc délimité par des accolades).\n",
    "    \n",
    "</div>"
   ]
  },
  {
   "cell_type": "markdown",
   "id": "4fe03829",
   "metadata": {},
   "source": [
    "## 4) Documentation et exemples"
   ]
  },
  {
   "cell_type": "markdown",
   "id": "71304dd0",
   "metadata": {},
   "source": [
    "Il existe **ENORMEMENT** de règles CSS possibles, certaines règles permettant des effets d'animation très sophistiqués mais finalement se décrivant très simplement avec du texte.\n",
    "Voici une <a href=\"https://developer.mozilla.org/fr/docs/Web/CSS/Reference\">documentation complète</a> de ces propriétés. \n",
    "\n",
    "Le site <a href=\"http://www.csszengarden.com/219/\">CSS Zen Garden</a> propose une page web mise en forme avec différentes feuilles de style. Le contenu de la page (les textes, les listes, les titres) est rigoureusement le même quelque soit le style choisi, mais on a l'impression d'être sur des sites différents, tant le rendu change.\n",
    "\n",
    "Ne pas hésiter à consulter les codes des feuilles CSS proposées en téléchargement, si les thèmes vous plaisent."
   ]
  },
  {
   "cell_type": "markdown",
   "id": "e2df3ffd",
   "metadata": {},
   "source": [
    "# II. Les sélecteurs CSS"
   ]
  },
  {
   "cell_type": "markdown",
   "id": "b9f2e9da",
   "metadata": {},
   "source": [
    "## 1) Sélecteur d'élément HTML"
   ]
  },
  {
   "cell_type": "markdown",
   "id": "ce7e2563",
   "metadata": {},
   "source": [
    "Le sélecteur est le nom de l'élément HTML. Sur l'exemple ci-dessous, **tous les éléments `<h2>` de notre page** vont être mis en forme."
   ]
  },
  {
   "cell_type": "markdown",
   "id": "1e35f5a1",
   "metadata": {},
   "source": [
    "<div style=\"border: 5px solid green; width:500px; margin:auto; font-size:1.2em;\">\n",
    "\n",
    "```css\n",
    "/* Selecteur de type élement HTML */    \n",
    "    \n",
    "h2 {\n",
    "  font-size: 1.5em;\n",
    "}\n",
    "```\n",
    "    \n",
    " </div>"
   ]
  },
  {
   "cell_type": "markdown",
   "id": "efeec0aa",
   "metadata": {},
   "source": [
    "Beaucoup de propriétés peuvent s'appliquer à plusieurs sélecteurs, comme `width`, `color` ou `font-size`. \n",
    "On peut factoriser de telles déclarations en les **séparant les sélecteurs par une virgule** :"
   ]
  },
  {
   "cell_type": "markdown",
   "id": "9e0bd388",
   "metadata": {},
   "source": [
    "<div style=\"border: 5px solid green; width:500px; margin:auto; font-size:1.2em;\">\n",
    "\n",
    "```css\n",
    "/* déclaration à plusieurs sélecteurs */\n",
    "    \n",
    "h2, p, ul, ol {\n",
    "  font-size: 1.5em;\n",
    "}\n",
    "```\n",
    "    \n",
    "</div>"
   ]
  },
  {
   "cell_type": "markdown",
   "id": "dc2e81e8",
   "metadata": {},
   "source": [
    "La règle ci-dessus multiplie par 1.5 la taille de la police pour les éléments `h2`, `p`, `ul` et `ol`."
   ]
  },
  {
   "cell_type": "markdown",
   "id": "fc9c7911",
   "metadata": {},
   "source": [
    "<div class=\"alert alert-info\"> <strong>Exercice 1</strong>\n",
    "    \n",
    "1. Créez vous un site web : `\"mes_tests_css\"`, comprenant :\n",
    "    * une page html standard\n",
    "    * un dossier pour le css. \n",
    "    * un fichier `main.css`\n",
    "    On pourra reprendre le modèle suivant pour la page html, ou copier coller votre précédent site web.\n",
    "    \n",
    "    ```html\n",
    "    <!DOCTYPE html>  \n",
    "    <html lang=\"fr\"> <!-- pour le référencement et la recherche de mots clés -->  \n",
    "        <head>\n",
    "            <title> mon titre </title> \n",
    "            <meta charset = \"utf-8\"> \n",
    "            <link rel = \"stylesheet\" href = \"styles/main.css\"> \n",
    "            </head>\n",
    "        <body>\n",
    "            \n",
    "            <!-- Contenu HTML -- à écrire ici -->\n",
    "            \n",
    "        </body> \n",
    "    </html>\n",
    "    ```\n",
    "\n",
    "2. Ecrivez le code css dans votre fichier `main.css` permettant d'obtenir un fond jaune (propriéte `background-color`) aux titres h1 et h2 de votre page. Mettez la couleur des paragraphes en violet, ainsi que celle des listes numérotées et non numérotées. La valeur de couleur peut être donnée : \n",
    "    * en utilisant [un des 140 noms de couleurs html prédéfinies](<https://htmlcolorcodes.com/fr/noms-de-couleur/>),\n",
    "    * en utilisant leur code RGB hexadécimal composé de 6 chiffres. Les deux premiers codent le rouge (rouge vif : #ff0000), les deux du milieu le vert (vert vif : #00ff00) et les deux derniers le bleu (bleu vif: #0000ff). \n",
    "    * en utilisant la fonction `rgb(x, y, z)` avec , x, y, z entiers compris entre 0 et 255.\n",
    "\n"
   ]
  },
  {
   "cell_type": "markdown",
   "id": "28e9fb41",
   "metadata": {},
   "source": [
    "## 2) Sélecteur de classe"
   ]
  },
  {
   "cell_type": "markdown",
   "id": "fff3691f",
   "metadata": {},
   "source": [
    "La méthode précédente cible *tous* éléments HTML du type spécifié et leur applique la règle CSS. Mais vous pourriez vouloir ne cibler que certains éléments de votre page web et leur appliquer un style commun. Pour ce faire, vous pouvez définir une **classe CSS** : \n",
    "\n",
    "* Dans le fichier CSS: **le sélecteur est le nom de la classe préfixée par un '.'**\n",
    "* Dans le fichier HTML: vous spécifiez pour chaque élément HTML concerné un **attribut `class`** égal au nom de la classe, sans le '.'"
   ]
  },
  {
   "cell_type": "markdown",
   "id": "be6a1199",
   "metadata": {},
   "source": [
    "<div style=\"border: 5px solid green; width:700px; margin:auto; font-size:1.2em;\">\n",
    "\n",
    "```css\n",
    "/* Fichier CSS : \n",
    "    cible les éléments HTML ayant l'attribut class=\"special\" */\n",
    ".special {\n",
    "  color: red;\n",
    "  background-color: yellow;\n",
    "}\n",
    "```\n",
    "\n",
    "```html\n",
    "<!-- Fichier HTML -->\n",
    "<h2> titre normal </h2>\n",
    "<p> paragraphe normal</p>\n",
    "<h2 class=\"special\"> Titre rouge sur fond jaune </h2>\n",
    "<p class=\"special\"> paragraphe rouge sur fond jaune </p>\n",
    "\n",
    "```\n",
    "</div>"
   ]
  },
  {
   "cell_type": "markdown",
   "id": "99ca25c5",
   "metadata": {},
   "source": [
    "On peut affecteur plusieurs classes à un même élément en les séparant par une espace après l'attribut `class`, sur le modèle :\n",
    "```html\n",
    "<element class=\"classe1 classe2 ...\">...</element>\n",
    "```\n",
    "et on cible les éléments ayant les deux classe avec la syntaxe suivante :"
   ]
  },
  {
   "cell_type": "markdown",
   "id": "3e10ad32",
   "metadata": {},
   "source": [
    "<div style=\"border: 5px solid green; width:700px; margin:auto; font-size:1.2em;\">\n",
    "\n",
    "```css\n",
    "/* Fichier CSS : \n",
    "    cible les éléments appartenant aux deux classes 1 et 2 */\n",
    "classe1.classe2 {\n",
    "  Regles-CSS;\n",
    "}\n",
    "```\n",
    "</div>"
   ]
  },
  {
   "cell_type": "markdown",
   "id": "7a914665",
   "metadata": {},
   "source": [
    "Dans une classe donnée, on peut vouloir cibler un type d'élement particulier. Par exemple, si la classe `special` concerne des éléments `<h2>`, `<p>`, `<ul>`, `<a>`, on peut ne vouloir cibler que les éléments `<p>` de cette classe. On utilisera la syntaxe : "
   ]
  },
  {
   "cell_type": "markdown",
   "id": "f191232a",
   "metadata": {},
   "source": [
    "<div style=\"border: 5px solid green; width:700px; margin:auto; font-size:1.2em;\">\n",
    "\n",
    "```css\n",
    "/* Fichier CSS : \n",
    "    cible les éléments HTML de type p ayant la classe \"special\" */\n",
    "p.special {\n",
    "  color: blue;\n",
    "  background-color: orange;\n",
    "}\n",
    "```\n",
    "</div>"
   ]
  },
  {
   "cell_type": "markdown",
   "id": "c7359a8f",
   "metadata": {},
   "source": [
    "## 3) Sélecteur d'identifiant"
   ]
  },
  {
   "cell_type": "markdown",
   "id": "4d17b909",
   "metadata": {},
   "source": [
    "Quand un seul élément est concerné par une mise en forme, on peut lui attribuer un **identifiant** dans le fichier HTML au moyen d'un **attribut `id`** et y faire référence dans le fichier CSS au moyen d'un **hashtag** (`#nom_id`) de la façon suivante. **Un identifiant ne peut être utilisé qu'une seule fois par document HTML**. "
   ]
  },
  {
   "cell_type": "markdown",
   "id": "1903a9c6",
   "metadata": {},
   "source": [
    "<div style=\"border: 5px solid green; width:750px; margin:auto; font-size:1.2em;\">\n",
    "\n",
    "```css\n",
    "/* Fichier CSS : \n",
    "    cible l'élément HTML avec l'attribut id=\"titre-principal\" */\n",
    "#titre-principal {\n",
    "  font-size:2em;\n",
    "}\n",
    "```\n",
    "\n",
    "```html\n",
    "<!-- Fichier HTML -->\n",
    "<h1 id=\"titre-principal\"> titre de taille double par rapport à la taille de base </h1>\n",
    "```\n",
    "</div>"
   ]
  },
  {
   "cell_type": "markdown",
   "id": "7466c5d1",
   "metadata": {},
   "source": [
    "Les identifiants s'utilisent donc comme les classes. Si possible, **privilégier les classes**, d'autant qu'on peut affecter plusieurs classes à un même élément."
   ]
  },
  {
   "cell_type": "markdown",
   "id": "ff97db30",
   "metadata": {},
   "source": [
    "## 4) Sélecteur d'attribut"
   ]
  },
  {
   "cell_type": "markdown",
   "id": "c2bfd455",
   "metadata": {},
   "source": [
    "De nombreux éléments HTML ont des attributs. Par exemple:\n",
    "* les liens hypertexte ont un attribut `href`,\n",
    "* les images ont, entre autres, les attributs `src` et `alt`,\n",
    "* Tous les éléments peuvent avoir des attributs figurant dans la liste des attributs universels HTML, comme `class` ou `id`.\n",
    "\n",
    "CSS permet de **sélectionner certains éléments HTML s'ils possèdent l'attribut recherché, ou bien en fonction de la valeur de leur attribut** :"
   ]
  },
  {
   "cell_type": "markdown",
   "id": "2eaf653b",
   "metadata": {},
   "source": [
    "<div style=\"border: 5px solid green; width:750px; margin:auto; font-size:1.2em;\">\n",
    "\n",
    "```css\n",
    " \n",
    "    /* Cible les liens HTML qui ont un attribut title */\n",
    "    \n",
    "a[title] {\n",
    "  color: purple;\n",
    "} \n",
    "    \n",
    "    /* Cible les list-items qui ont pour classe \"highlight\" */\n",
    "    \n",
    "li[class=\"highlight\"] {\n",
    "    font-size: 200%;\n",
    "}\n",
    "\n",
    "```\n",
    "</div>"
   ]
  },
  {
   "cell_type": "markdown",
   "id": "4b19af5e",
   "metadata": {},
   "source": [
    "Si l'on souhaite sélectionner un attribut sur une portion de sa valeur, on peut utiliser d'autres opérateurs que * :\n",
    "* `elem[attr^=\"val\"]` cible l'élément `elem` d'attribut `attr` dont la valeur **commence** par \"val\"\n",
    "* `elem[attr$=\"val\"]` cible l'élément `elem` d'attribut `attr` dont la valeur **termine** par \"val\"\n",
    "* `elem[attr*=\"val\"]` cible l'élément `elem` d'attribut `attr` dont la valeur **contient** \"val\"\n",
    "\n",
    "Par exemple, si on veut mettre en forme tous les liens qui ont `\"wikipedia\"` comme source, on écrira:\n"
   ]
  },
  {
   "cell_type": "markdown",
   "id": "5189c22e",
   "metadata": {},
   "source": [
    "<div style=\"border: 5px solid green; width:400px; margin:auto; font-size:1.2em;\">\n",
    "\n",
    "\n",
    "```css\n",
    "a[href*=\"wikipedia\"] {\n",
    "    color: RebeccaPurple;\n",
    "}\n",
    "```"
   ]
  },
  {
   "cell_type": "markdown",
   "id": "176dd767",
   "metadata": {},
   "source": [
    "Consulter la documentation pour <a href=\"https://developer.mozilla.org/fr/docs/Web/CSS/Attribute_selectors\">voir tous les opérateurs possibles</a>"
   ]
  },
  {
   "cell_type": "markdown",
   "id": "9c7e4dde",
   "metadata": {},
   "source": [
    "## 5) Les pseudo-classes \n",
    "\n",
    "Il est possible de cibler un élément HTML lorsqu'il est dans un certain état. Par exemple, la pseudo-classe **`:hover`** appliquée à l'élément HTML `<a>` cible les liens quand on les survole à la souris, ce qui peut permettre de définir une règle CSS mettant en évidence le lien. Les pseudo-classes sont construites avec le sympole `:` situé entre l'élément auquel on l'applique et le nom de la pseudo-classe. Ce qui donne pour cet exemple:\n",
    "\n",
    "\n",
    "\n"
   ]
  },
  {
   "cell_type": "markdown",
   "id": "67f87872",
   "metadata": {},
   "source": [
    "<div style=\"border: 5px solid green; width:600px; margin:auto; font-size:1.2em;\">\n",
    "\n",
    "```css\n",
    " \n",
    "    /* Pseudo-classe :hover appliquée à <a>. \n",
    "    Cible liens HTML survolés à la souris */\n",
    "    \n",
    "a:hover {\n",
    "  color: HotPink;\n",
    "  font-weight:bold;\n",
    "  font-size:1.2em;\n",
    "  background-color: yellow\n",
    "}\n",
    "```"
   ]
  },
  {
   "cell_type": "markdown",
   "id": "0462b2ff",
   "metadata": {},
   "source": [
    "<div class=\"alert alert-info\"> <strong>Exercice </strong> :\n",
    "Ecrire une page HTML avec un lien hypertexte, et tester ce code CSS. Survolez le lien à la souris, bien sûr."
   ]
  },
  {
   "cell_type": "markdown",
   "id": "74e1cea1",
   "metadata": {},
   "source": [
    "## 6) Les pseudo-éléments"
   ]
  },
  {
   "cell_type": "markdown",
   "id": "ea9baa32",
   "metadata": {},
   "source": [
    "Ils ciblent une partie de l'élément à mettre en forme, par exemple la première ligne d'un paragraphe. Ils sont construits avec un double symbole `::`<br><br>\n",
    "\n",
    "<div style=\"border: 5px solid green; width:800px; margin:auto; font-size:1.2em;\">\n",
    "    \n",
    "```css\n",
    "    /* Pseudo-élement p::first-line. \n",
    "    Cible uniquement la 1ère ligne de chaque paragraphe */\n",
    "    \n",
    "p::first-line {\n",
    "    font-size:2em;\n",
    "}\n"
   ]
  },
  {
   "cell_type": "markdown",
   "id": "722dd210",
   "metadata": {},
   "source": [
    "# III. Le Document Object Model (DOM)"
   ]
  },
  {
   "cell_type": "markdown",
   "id": "96793948",
   "metadata": {},
   "source": [
    "## 1)  Le DOM et les outils de développement"
   ]
  },
  {
   "cell_type": "markdown",
   "id": "23ffc80c",
   "metadata": {},
   "source": [
    "Le *Document Object Model* est une représentation du document HTML stockable en mémoire sur votre ordinateur. Il a une **structure d'arbre** dont les nœuds sont les éléments HTML de la page, les attributs ainsi que le contenu des éléments HTML. \n",
    "On peut <a href=\"https://developer.mozilla.org/fr/docs/Learn/CSS/First_steps/How_CSS_works#une_repr%C3%A9sentation_concr%C3%A8te_du_dom\">retrouver ici une représentation du DOM</a>"
   ]
  },
  {
   "cell_type": "markdown",
   "id": "ecafda51",
   "metadata": {},
   "source": [
    "Les nœuds sont définis par leurs relations à d'autres nœuds du DOM. Certains éléments sont les parents de nœuds enfants (*child nodes*) et les nœuds enfants peuvent avoir des frères et sœurs (*siblings*). **On peut inspecter le DOM d'une page HTML par exemple grâce à l'outil de développement de Firefox DevTools (clic droit -> inspecter)**, permettant également d'examiner (et éventuellement modifier) le CSS d'une page web, même écrite par quelqu'un d'autre. \n",
    " \n",
    "Le DOM est utilisé par le CSS pour cibler des éléments à mettre en forme en fonction de leurs liens de parenté avec d'autres éléments. Par exemple, il est possible de cibler les liens qui sont fils d'un élement HTML `<nav>`. Il est utilisé en Javascript de manière similaire, pour récupérer les contenus de ces éléments (nous y reviendrons).\n",
    "\n",
    "* On dit qu'**un élément HTML `X` est parent d'un élement HTML `Y`** s'il existe une suite de noeuds et d'arêtes constituant un chemin allant de `X` à `Y`. On dira encore que **`Y` est un descendant de `X`**. Autrement dit, `X` peut être le père de `Y`, ou son grand-père, ou tout parent de n'importe quel niveau, quel que soit le nombre de \"sauts\" à effectuer.\n",
    "\n",
    "* On dit que **`Y` est l'enfant direct d'un noeud `X`** quand `X` est le père du noeud `Y`."
   ]
  },
  {
   "cell_type": "markdown",
   "id": "6cee0108",
   "metadata": {},
   "source": [
    "<div class=\"alert alert-info\"> <strong>Exercice </strong> : On considère la page HTML ci-dessous.\n",
    "\n",
    "```html\n",
    "<!DOCTYPE html>\n",
    "<html>\n",
    "    <head>\n",
    "        <title> TP12 </title> \n",
    "        <meta charset = \"utf-8\">   \n",
    "    </head>\n",
    "\n",
    "    <body>\n",
    "        <h1> Technologies du web </h1>\n",
    "        <p> Pour développer des appli web, il est très utile de maitriser : </p>\n",
    "        <ul>\n",
    "            <li> <a href=\"https://fr.wikipedia.org/wiki/Hypertext_Markup_Language\">le HTML</a> </li>\n",
    "            <li> le CSS </li>\n",
    "            <li> le Javascript </li>\n",
    "        </ul>\n",
    "    </body>\n",
    "</html>\n",
    "```\n",
    "\n",
    "1. Dans le DOM de cette page HTML, quel est l'élément racine ?\n",
    "2. Quels sont les enfants de l'élément HTML `<body>` ?\n",
    "3. Quels sont les enfants *directs* de l'élément HTML <`body>` ?\n",
    "4. Quels sont les parents de l'élément HTML `<p>` ?\n",
    "5. Quels sont les frères de l'élément HTML `<p>`"
   ]
  },
  {
   "cell_type": "raw",
   "id": "63586d48",
   "metadata": {},
   "source": [
    "Réponses : \n",
    "1)\n",
    "\n",
    "2)\n",
    "\n",
    "3) \n",
    "\n",
    "4)\n",
    "\n",
    "5)"
   ]
  },
  {
   "cell_type": "markdown",
   "id": "9676bd07",
   "metadata": {},
   "source": [
    "<div class=\"alert alert-info\"> <strong>Exercice </strong> : Consulter avec Firefox la page HTML suivante\n",
    "    <a href=\"https://fr.wikipedia.org/wiki/Hypertext_Markup_Language\">https://fr.wikipedia.org/wiki/Hypertext_Markup_Language</a> et au moyen de l'outil de développement DevTools , cibler un des élements du sommaire, par exemple \"Evolution du langage\". (clic droit -> inspecter)<br/><br/>\n",
    "Rq. Avec le navigateur Chrome, vous pouvez ouvrir les outils de développement en effectuant un clic droit sur l'élément à inspecter et en choisissant \"inspecter\" dans le menu déroulant.<br/><br/>\n",
    "  \n",
    "1. A quelle classe l'ancre (élément `<a>`) appartient-elle ?\n",
    "2. Choisissez l'onglet éditeur de styles (qui rassemble les différentes feuilles css) et rajouter à la fin de la feuille `load.php` contenant 308 règles une règle :\n",
    "    * ciblant les liens appartenant à cette classe et en train d'être survolés\n",
    "    * mettant en rouge la couleur du texte.\n",
    "    * mettant en gras le texte.\n",
    "3. Vérifiez que quand vous passez le curseur sur les liens du sommaire, ils sont mis en forme, mais que pour les autres liens de la page, non.\n",
    "    \n"
   ]
  },
  {
   "cell_type": "code",
   "execution_count": null,
   "id": "a39b3ca8",
   "metadata": {},
   "outputs": [],
   "source": [
    "Votre réponse :\n",
    "    "
   ]
  },
  {
   "cell_type": "markdown",
   "id": "fb67bd36",
   "metadata": {},
   "source": [
    "## 2) Application CSS : le combinateur  `> `"
   ]
  },
  {
   "cell_type": "markdown",
   "id": "355a6912",
   "metadata": {},
   "source": [
    "Placé entre deux sélecteurs, il permet de cibler le sélecteur de droite qui est un enfant direct du sélecteur de gauche. "
   ]
  },
  {
   "cell_type": "markdown",
   "id": "5218e8eb",
   "metadata": {},
   "source": [
    "<div style=\"border: 5px solid green; width:820px; margin:auto; font-size:1.2em;\">\n",
    "    \n",
    "```css\n",
    "    /* Combinateur enfant direct */          \n",
    "Selecteur1 > Selecteur2 {\n",
    "        Declaration CSS;\n",
    "    }\n",
    "\n",
    "    /* Cible les liens situés dans un list-item (mais pas dans un paragraphe) */\n",
    "li > a {\n",
    "    color:red;\n",
    "    }\n",
    "```\n",
    "   "
   ]
  },
  {
   "cell_type": "markdown",
   "id": "b1c98823",
   "metadata": {},
   "source": [
    "## 3) Application CSS : le combinateur  descendant ` ` (espace)"
   ]
  },
  {
   "cell_type": "markdown",
   "id": "d63cd9cb",
   "metadata": {},
   "source": [
    "Placé entre deux sélecteurs, il permet de cibler le sélecteur de droite qui est un descendant du sélecteur de gauche (même lointain). "
   ]
  },
  {
   "cell_type": "markdown",
   "id": "256a4838",
   "metadata": {},
   "source": [
    "<div style=\"border: 5px solid green; width:820px; margin:auto; font-size:1.2em;\">\n",
    "    \n",
    "```css\n",
    "    /* Combinateur descendant */          \n",
    "Selecteur1  Selecteur2 {\n",
    "        Declaration CSS;\n",
    "    }\n",
    "\n",
    "    /* Cible les liens dont un parent même indirect est div */\n",
    "div a {\n",
    "    color:red;\n",
    "    }\n",
    "```\n",
    "   "
   ]
  },
  {
   "cell_type": "markdown",
   "id": "7e96fae0",
   "metadata": {},
   "source": [
    "## 4) Application CSS : les combinateurs voisins : `~`, et voisin adjacent  : `+`"
   ]
  },
  {
   "cell_type": "markdown",
   "id": "0f8003f1",
   "metadata": {},
   "source": [
    "* Il existe également un combinateur ciblant les frères (ou voisins) d'un sélecteur : le combinateur `~`. Ce qui peut être utile pour cibler les éléments suivant un titre, par exemple. On trouvera <a href=\"https://developer.mozilla.org/fr/docs/Web/CSS/General_sibling_combinator\">une référence ici</a>.\n",
    "\n",
    "* De même, on peut cibler un voisin direct avec le combinateur `+`. On trouvera <a href=\"https://developer.mozilla.org/fr/docs/Web/CSS/Adjacent_sibling_combinator\">une référence là</a>.\n",
    "\n",
    "\n"
   ]
  },
  {
   "cell_type": "markdown",
   "id": "9fe033a8",
   "metadata": {},
   "source": [
    "<div style=\"border: 5px solid green; width:840px; margin:auto; font-size:1.2em;\">\n",
    "    \n",
    "```css\n",
    "/* Parmi tous les éléments <img>, cibler tous les éléments <p> qui les suivent. */\n",
    "img ~ p {\n",
    "  color: red;\n",
    "}\n",
    "    \n",
    "/* Ne cible que les paragraphes situé directement après une image */\n",
    "img + p {\n",
    "  font-style: bold;\n",
    "}\n",
    "```"
   ]
  },
  {
   "cell_type": "markdown",
   "id": "e21596d3",
   "metadata": {},
   "source": [
    "<div style=\"margin:auto; background-color:#fef; font-size:1.2em; color:red;\" class=\"alert alert-danger\">\n",
    "    \n",
    "**A retenir** : le CSS permet, par ses sélecteurs et combinateurs de cibler a peu près n'importe quel élément ou groupe d'élément de la page, en fonction\n",
    "* de son **type html**         (`nom-identifiant`)\n",
    "* de sa (ou ses) **classe**(s) (`.classe`)\n",
    "* de son **identifiant**       (`#identifiant`)\n",
    "* de ses **attributs html**    (`element[attr]`)\n",
    "* de sa **position relative dans le DOM** grâce aux combinateurs (enfant: `>`, descendant: ` `, voisin: `~`, voisin direct: `+`)\n",
    "    \n",
    "    \n",
    "</div>"
   ]
  },
  {
   "cell_type": "markdown",
   "id": "9552b78d",
   "metadata": {},
   "source": [
    "<div class=\"alert alert-info\"> <strong>Exercice </strong> : On considère la règle CSS ci-dessous. Lister les éléments concernés par cette règle.\n",
    "    \n",
    "```css\n",
    "a, nav ul li, .a-retenir, #titre1, p:hover {\n",
    "  color: red;\n",
    "}\n",
    "```    \n"
   ]
  },
  {
   "cell_type": "raw",
   "id": "a12c451c",
   "metadata": {},
   "source": [
    "Votre réponse :\n",
    "\n"
   ]
  },
  {
   "cell_type": "markdown",
   "id": "e586cc68",
   "metadata": {},
   "source": [
    "# IV. Cascade, spécificité et Héritage\n",
    "## 1) Cascade et spécificité\n",
    "Le CSS signifie : Feuille de Style en Cascade. Pourquoi Cascade ? Car ll faut régler le problème des règles contradictoires. Imaginons que je déclare les deux règles suivantes. De quel couleur est le paragraphe ? \n",
    "\n",
    "```css\n",
    "p {\n",
    "  color: red;\n",
    "  background-color: yellow;\n",
    "}\n",
    "    \n",
    "p {\n",
    "    color:green;\n",
    "}\n",
    "```\n",
    "\n",
    "**Le principe de Cascade signifie qu'à spécificité égale, les règles les plus récentes l'emportent sur les plus anciennes, en cas de conflit.** Ainsi, les paragraphes seront écrits en vert sur fond jaune (la propriété de fond jaune n'est pas contredite par la règle suivante). \n",
    "\n",
    "Sans rentrer dans les détails, **la spécificité indique le degré de généralité d'une règle.** Plus la spécificité est élevée, plus elle s'applique à un élément précis (et donc moins elle est générale). **Les règles les plus spécifiques l'emportent sur les règles générales, en cas de conflit.**\n",
    "\n",
    "* Un sélecteur d'identifiant (#) est très spécifique : l'identifiant est unique. \n",
    "* Un sélecteur de classe (.) est un peu moins spécifique : il cible un groupe d'éléments auxquels on a attribué cette classe\n",
    "* Un sélecteur d'élément est très général : il s'applique à tous les éléments d'un certain type. \n",
    "\n",
    "En résumé : **identifiant (#) > classe (.) > élément**. \n",
    "\n"
   ]
  },
  {
   "cell_type": "markdown",
   "id": "d346e39e",
   "metadata": {},
   "source": [
    "<div class=\"alert alert-info\"> <strong>Exercice </strong> : Prédire de quelle couleur sera un paragraphe ayant pour classe rouge et pour identifiant <code>#a-retenir</code>. Le vérifier sur son site web (ou dans JSBin)\n",
    "    \n",
    "1. Cas 1:\n",
    "    ```css        \n",
    "    .rouge {\n",
    "        color: red;\n",
    "        }\n",
    "    \n",
    "    #a-retenir{\n",
    "        color: blue;\n",
    "        }\n",
    "    \n",
    "    p {\n",
    "        color:green;    \n",
    "        }\n",
    "    \n",
    "    #a-retenir{\n",
    "        color: pink;\n",
    "        }\n",
    "    \n",
    "    ```\n",
    "\n",
    "2. Cas 2:\n",
    "    ```css        \n",
    "    p.rouge {\n",
    "        color:green;    \n",
    "        }\n",
    "    \n",
    "    p {\n",
    "        color: blue;\n",
    "        }\n",
    "    \n",
    "    .rouge {\n",
    "        color: red;\n",
    "        }\n",
    "    \n",
    "    ```\n",
    "\n"
   ]
  },
  {
   "cell_type": "raw",
   "id": "74abd3e5",
   "metadata": {},
   "source": [
    "Votre réponse :\n",
    "\n",
    "1)\n",
    "\n",
    "2)"
   ]
  },
  {
   "cell_type": "markdown",
   "id": "0f3cdace",
   "metadata": {},
   "source": [
    "## 2) Héritage"
   ]
  },
  {
   "cell_type": "markdown",
   "id": "9d86caee",
   "metadata": {},
   "source": [
    "Puisqu'on parle de parents et d'enfants, il est normal de parler d'héritage. **Certaines propriétés fixées pour un parent peuvent se transmettre par défaut aux enfants si l'on ne leur spécifie aucune valeur**. Si on spécifie une valeur à l'enfant, alors elle l'emporte celle du parant. \n",
    "\n",
    "Mais toutes les propriétés ne sont pas héritables. Il faut consulter la documentation pour savoir précisément lesquelles. \n",
    "\n",
    "Par exemple : si on spécifie une couleur à l'élément HTML `body`, les paragraphes, les listes, les titres... bref, tous les noeuds descendants hériteront par défaut de cette couleur. \n",
    "\n",
    "Par contre, la propriété `width` n'est pas héritable : si l'on spécifie qu'un `article` à pour largeur 50% (de la place maximale qu'il peut occuper), alors les éléments qu'il contient n'auront pas pour autant leur taille réduite de moitié par rapport à la place maximale qu'ils peuvent occuper."
   ]
  },
  {
   "cell_type": "markdown",
   "id": "09485164",
   "metadata": {},
   "source": [
    "<div style=\"margin:auto; background-color:#fef; font-size:1.2em; color:red;\" class=\"alert alert-danger\">\n",
    "    \n",
    "**A retenir** : \n",
    "    \n",
    "Avec ces concepts de **spécificité**, de **cascade** et d'**héritage**, le CSS donne un moyen au navigateur pouvoir décider pour tout élément quelle règle CSS lui appliquer, même si des règles sont conflictuelles ou que certaines règles ne sont pas spécifiées pour certains éléments.\n",
    "    \n",
    "    \n",
    "</div>"
   ]
  },
  {
   "cell_type": "markdown",
   "id": "489a0aac",
   "metadata": {},
   "source": [
    "# V. Pour aller plus loin"
   ]
  },
  {
   "cell_type": "markdown",
   "id": "e43216dd",
   "metadata": {},
   "source": [
    "Si le sujet vous intéresse, lisez la documentation sur le **modèle de boite (box-model)** qui explique comment tout élément html du `<body>` est assimilable graphiquement à une boite possèdant des marges extérieures (`margin`) et des marges internes (`padding`), ainsi que des bords (`border`). Agencer de manière élégante ces boîtes est ce qui permet d'obtenir de jolis sites web. Par défaut, les boites s'empilent verticalement les unes sous les autres, en occupant toute la largeur disponible. \n",
    "\n",
    "C'est le réglage des marges, des bords et du style d'empilement de ces boites qui permet d'obtenir des thèmes élégants et lisibles. D'où le fait que vous rencontrez énormement de balises `<div>` sur les sites web crées par des outils de création de site web. Ce sont des conteneurs purs, qui n'auront que comme but d'avoir les bonnes dimensions, les bonnes marges et le bon type d'empilement pour présenter votre contenu.\n",
    "\n",
    "<a href=\"https://developer.mozilla.org/fr/docs/Learn/CSS/Building_blocks/The_box_model\">Documentation ici</a>"
   ]
  },
  {
   "cell_type": "markdown",
   "id": "eda03b9c",
   "metadata": {},
   "source": [
    "Source : <a href=\"https://developer.mozilla.org/fr/docs/Learn/CSS\">MDN Web Docs - CSS</a>"
   ]
  },
  {
   "cell_type": "code",
   "execution_count": null,
   "id": "c0e49bf7",
   "metadata": {},
   "outputs": [],
   "source": []
  }
 ],
 "metadata": {
  "kernelspec": {
   "display_name": "Python 3 (ipykernel)",
   "language": "python",
   "name": "python3"
  },
  "language_info": {
   "codemirror_mode": {
    "name": "ipython",
    "version": 3
   },
   "file_extension": ".py",
   "mimetype": "text/x-python",
   "name": "python",
   "nbconvert_exporter": "python",
   "pygments_lexer": "ipython3",
   "version": "3.9.13"
  }
 },
 "nbformat": 4,
 "nbformat_minor": 5
}

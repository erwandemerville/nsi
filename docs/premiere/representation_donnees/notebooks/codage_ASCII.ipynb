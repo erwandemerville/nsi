{
 "cells": [
  {
   "cell_type": "markdown",
   "id": "d3108da2-0ef3-42ac-a8d8-1b3cfac20518",
   "metadata": {},
   "source": [
    "# Codage de chaînes de caractères en ASCII\n",
    "\n",
    "## 1NSI - 12 - Codage caractères - `est_lettre`"
   ]
  },
  {
   "cell_type": "markdown",
   "id": "61668a31-e8fa-404d-b42f-7cf97f96cde1",
   "metadata": {},
   "source": [
    "1. À l’aide de la commande Pyhton `ord()`, identifiez la valeur décimale du caractère `A` et du caractère `Z`.\n",
    "\n",
    "2. Quel est l’intervalle de codage décimal des majuscules ? des minuscules ?\n",
    "\n",
    "3. Lisez attentivement la documentation de la fonction `est_lettre()` prenant car un caractère en paramètre,\n",
    "et renvoyant `True` si car est une lettre (majuscule ou minuscule), et `False` sinon.\n",
    "\n",
    "4. Complétez la fonction `est_lettre()`"
   ]
  },
  {
   "cell_type": "code",
   "execution_count": null,
   "id": "3a387688-66ba-443d-be8f-592e31461737",
   "metadata": {},
   "outputs": [],
   "source": [
    "from doctest import run_docstring_examples\n",
    "\n",
    "def est_lettre(car) :\n",
    "    \"\"\"\n",
    "    renvoie True si le caractère est une lettre\n",
    "    \n",
    "    Exemples\n",
    "    --------\n",
    "    >>> est_lettre('z')\n",
    "    True\n",
    "    >>> est_lettre('Z')\n",
    "    True\n",
    "    >>> est_lettre('1')\n",
    "    False\n",
    "    >>> est_lettre('!')\n",
    "    False\n",
    "    \"\"\"\n",
    "    # Précondition\n",
    "    assert type(car) is str\n",
    "\n",
    "    # Code à compléter\n",
    "    \n",
    "    \n",
    "\n",
    "# Test de la fonction\n",
    "run_docstring_examples(est_lettre, globals(), verbose = True)"
   ]
  },
  {
   "cell_type": "markdown",
   "id": "cfb56ff2-efc6-4df1-bd6f-fb494b251430",
   "metadata": {},
   "source": [
    "## 1NSI - 12 - Codage caractères - `est_lettre_majuscule`"
   ]
  },
  {
   "cell_type": "markdown",
   "id": "602d8d08-2fca-4c04-a586-5242c4e82243",
   "metadata": {},
   "source": [
    "1. À l’aide de la commande Pyhton `ord()`, identifiez la valeur décimale du caractère `A` et du caractère `Z`.\n",
    "\n",
    "2. Quel est l’intervalle de codage décimal des majuscules ?\n",
    "\n",
    "3. Lisez attentivement la documentation de la fonction `est_lettre_majuscule()` prenant car un caractère en paramètre,\n",
    "et renvoyant `True` si car est une lettre majuscule, et `False` sinon.\n",
    "\n",
    "4. Complétez la fonction `est_lettre_majuscule()`"
   ]
  },
  {
   "cell_type": "code",
   "execution_count": null,
   "id": "3593e5b2-1a0c-407e-8730-8711a9f9df85",
   "metadata": {},
   "outputs": [],
   "source": [
    "from doctest import run_docstring_examples\n",
    "\n",
    "def est_lettre_majuscule(car):\n",
    "    \"\"\"\n",
    "    renvoie True si le caractère est une lettre majuscule\n",
    "\n",
    "    Exemples\n",
    "    --------\n",
    "    >>> est_lettre_majuscule('A')\n",
    "    True\n",
    "    >>> est_lettre_majuscule('a')\n",
    "    False\n",
    "    >>> est_lettre_majuscule('1')\n",
    "    False\n",
    "    \"\"\"\n",
    "    # Précondition\n",
    "    assert type(car) is str\n",
    "\n",
    "    # Code à compléter\n",
    "    \n",
    "    \n",
    "    \n",
    "\n",
    "# Test de la fonction\n",
    "run_docstring_examples(est_lettre_majuscule, globals(), verbose = True)"
   ]
  }
 ],
 "metadata": {
  "kernelspec": {
   "display_name": "Python 3 (ipykernel)",
   "language": "python",
   "name": "python3"
  },
  "language_info": {
   "codemirror_mode": {
    "name": "ipython",
    "version": 3
   },
   "file_extension": ".py",
   "mimetype": "text/x-python",
   "name": "python",
   "nbconvert_exporter": "python",
   "pygments_lexer": "ipython3",
   "version": "3.11.5"
  }
 },
 "nbformat": 4,
 "nbformat_minor": 5
}

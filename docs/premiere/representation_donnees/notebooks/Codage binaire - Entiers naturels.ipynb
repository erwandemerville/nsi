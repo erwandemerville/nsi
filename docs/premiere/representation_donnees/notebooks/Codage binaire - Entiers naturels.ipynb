{
 "cells": [
  {
   "cell_type": "markdown",
   "metadata": {
    "deletable": false,
    "editable": false
   },
   "source": [
    "# Rappels sur le codage des données"
   ]
  },
  {
   "cell_type": "markdown",
   "metadata": {
    "deletable": false
   },
   "source": [
    "## Nombres entiers naturels \n",
    "\n",
    "Rappels :  \n",
    "Tout entier naturel peut être écrit comme la somme de n termes où chacun des termes est le produit d'un chiffre égal à 0 ou 1 appelé **bit** avec une puissance de 2<sup>n</sup> où n $\\in$ \\[ 0 , n \\].  \n",
    "\n",
    "On peut donc écrire : $\\forall$a, a$\\in \\mathbb{N}, a = \\sum\\limits_{j=0}^n$ **b**$_j \\times 2^j$ où **b**$_j$ est un bit égal à **0** ou **1**.  \n",
    "*exemple :* **137** = **1** $\\times$ 2<sup>7</sup> $+$ **0** $\\times$ 2<sup>6</sup> $+$ **0** $\\times$ 2<sup>5</sup> $+$ **0** $\\times$ 2<sup>4</sup> $+$ **1** $\\times$ 2<sup>3</sup> $+$ **0** $\\times$ 2<sup>2</sup> $+$ **0** $\\times$ 2<sup>1</sup> $+$ **1** $\\times$ 2<sup>0</sup>  \n",
    "\n",
    "**Afin de simplifer l'écriture du nombre entier**, on ne retient que la suite de bits, où le bit de poids faible ( b$_0 \\times$ 2<sup>0</sup> ) est placé à droite, et le bit de poids fort ( b$_n \\times$ 2<sup>n</sup> ) est placé à gauche.  \n",
    "\n",
    "*exemple :* **137 = \\b 1 0 0 0 1 0 0 1**  \n",
    "\n",
    "Note : pour éviter toute confusion avec un entier composé que de chiffres 0 et 1, on place l'indication **\\b** devant la série de bits.\n"
   ]
  },
  {
   "cell_type": "code",
   "execution_count": null,
   "metadata": {
    "deletable": false,
    "editable": false
   },
   "outputs": [],
   "source": [
    "# La fonction builtin bin( ... ) permet d'obtenir le codage binaire d'un entier naturel\n",
    "bin(137)"
   ]
  },
  {
   "cell_type": "markdown",
   "metadata": {
    "deletable": false,
    "editable": false
   },
   "source": [
    "<p style=\"background:#BBFFFF; color:#0000FF; font-family: Verdana, Geneva, sans-serif; font-size: 1.3em\">\n",
    "    <b>Exercice 1 :</b>\n",
    "</p>  \n",
    "\n",
    "Compléter le code de la fonction <code> int_to_bin ( val:int )->list : </code> en langage Python qui :\n",
    "- reçoit en argument un entier naturel\n",
    "- renvoie une liste de 0 et de 1 qui correspond au codage binaire de cet entier\n"
   ]
  },
  {
   "cell_type": "code",
   "execution_count": null,
   "metadata": {},
   "outputs": [],
   "source": [
    "def int_to_bin ( val:int )->list:\n",
    "    \"\"\" \n",
    "    Conversion d'un entier naturel en liste de bits (code binaire).\n",
    "    Reçoit : val, un entier,\n",
    "    Renvoie : code[], une liste de 0 et de 1 qui correspond au code binaire de val\n",
    "    \"\"\"\n",
    "    exp = 0 # 2^0 -> premier bit : bit de poids faible\n",
    "    code = [] if val else [0] \n",
    "    while val > 0 :\n",
    "        if  < ... > : # Comparaison bit à bit entre val et la puissance de 2\n",
    "            < ... >      # Ajouter un digit à la liste\n",
    "            < ... >      # Mettre à jour la valeur de val\n",
    "        else :\n",
    "            < ... >      # Ajouter un digit à la liste\n",
    "        exp += 1\n",
    "    < ... >   # \"retourner\" la liste pour replacer le bit de poids faible à droite\n",
    "    return code"
   ]
  },
  {
   "cell_type": "code",
   "execution_count": null,
   "metadata": {
    "deletable": false,
    "editable": false
   },
   "outputs": [],
   "source": [
    "# Test n°1\n",
    "int_to_bin( 137 ) # Sortie attendue : [1, 0, 0, 0, 1, 0, 0, 1]"
   ]
  },
  {
   "cell_type": "code",
   "execution_count": null,
   "metadata": {
    "deletable": false,
    "editable": false
   },
   "outputs": [],
   "source": [
    "# Test n°2\n",
    "int_to_bin( 0 ) # sortie attendue : [0]"
   ]
  },
  {
   "cell_type": "markdown",
   "metadata": {
    "deletable": false,
    "editable": false
   },
   "source": [
    "<p style=\"background:#BBFFFF; color:#0000FF; font-family: Verdana, Geneva, sans-serif; font-size: 1.3em\">\n",
    "    <b>Exercice 2 :</b>\n",
    "</p>  \n",
    "\n",
    "Coder la fonction <code> bin_to_int ( code:list )->int : </code> en langage Python qui :\n",
    "- reçoit en argument une liste de 0 et de 1 qui correspond au codage binaire d'un entier naturel\n",
    "- renvoie un entier naturel qui correspond à la liste de bits reçue en argument\n"
   ]
  },
  {
   "cell_type": "code",
   "execution_count": null,
   "metadata": {},
   "outputs": [],
   "source": [
    "def bin_to_int ( code:list)->int :\n",
    "    \"\"\" \n",
    "    Conversion d'une liste de 0 et de 1 ( code binaire ) en entier naturel.\n",
    "    Reçoit : code[], une liste de 0 et de 1,\n",
    "    Renvoie : val, l'entier naturel qui correspond au code binaire contenu dans code[].\n",
    "    \"\"\"\n",
    "    < ... >"
   ]
  },
  {
   "cell_type": "code",
   "execution_count": null,
   "metadata": {
    "deletable": false,
    "editable": false
   },
   "outputs": [],
   "source": [
    "# Test n°1\n",
    "bin_to_int( [1, 0, 0, 0, 1, 0, 0, 1] ) # Sortie attendue : 137"
   ]
  },
  {
   "cell_type": "code",
   "execution_count": null,
   "metadata": {
    "deletable": false,
    "editable": false
   },
   "outputs": [],
   "source": [
    "# Test n°2\n",
    "bin_to_int( [0] ) # sortie attendue : 0"
   ]
  },
  {
   "cell_type": "markdown",
   "metadata": {
    "deletable": false,
    "editable": false
   },
   "source": [
    "<p style=\"background:#BBFFFF; color:#0000FF; font-family: Verdana, Geneva, sans-serif; font-size: 1.3em\">\n",
    "    <b>Exercice 3 :</b>\n",
    "</p>  \n",
    "\n",
    "Modifier le code de la fonction <code> bin_to_int ( code:list ) -> int : </code> afin de vérifier que :\n",
    "- le type de l'argument <code> code </code> est bien une variable de type <code>list</code>. \n",
    "- la liste ne contient bien que des '1' et des '0'  \n",
    "\n",
    "Si ces conditions ne sont pas remplies, la fonction doit retourner <code> None </code>"
   ]
  },
  {
   "cell_type": "code",
   "execution_count": null,
   "metadata": {},
   "outputs": [],
   "source": [
    "\"\"\" Vous pouvez vous renseigner dans la documentation de Python sur l'usage de la fonction isinstance( ... ) \"\"\"\n",
    "def bin_to_int_2 () :\n",
    "    < ... >"
   ]
  },
  {
   "cell_type": "code",
   "execution_count": null,
   "metadata": {
    "deletable": false,
    "editable": false
   },
   "outputs": [],
   "source": [
    "# Test n°1\n",
    "bin_to_int_2( [1, 0, 0, 0, 1, 0, 0, 1] ) # Sortie attendue : 137"
   ]
  },
  {
   "cell_type": "code",
   "execution_count": null,
   "metadata": {
    "deletable": false,
    "editable": false
   },
   "outputs": [],
   "source": [
    "# Test n°2\n",
    "bin_to_int_2( [1, 0, 3, 0] ) # l'argument contient [3] -> Sortie attendue : None"
   ]
  },
  {
   "cell_type": "code",
   "execution_count": null,
   "metadata": {
    "deletable": false,
    "editable": false
   },
   "outputs": [],
   "source": [
    "# Test n°3\n",
    "bin_to_int_2( (1, 0) ) # l'argument de type tuple -> Sortie attendue : None"
   ]
  }
 ],
 "metadata": {
  "celltoolbar": "Éditer les Méta-Données",
  "kernelspec": {
   "display_name": "Python 3 (ipykernel)",
   "language": "python",
   "name": "python3"
  },
  "language_info": {
   "codemirror_mode": {
    "name": "ipython",
    "version": 3
   },
   "file_extension": ".py",
   "mimetype": "text/x-python",
   "name": "python",
   "nbconvert_exporter": "python",
   "pygments_lexer": "ipython3",
   "version": "3.11.5"
  }
 },
 "nbformat": 4,
 "nbformat_minor": 4
}

{
 "cells": [
  {
   "cell_type": "markdown",
   "metadata": {
    "deletable": false,
    "editable": false
   },
   "source": [
    "# Rappels sur le codage des données 2/3"
   ]
  },
  {
   "cell_type": "markdown",
   "metadata": {
    "deletable": false,
    "editable": false
   },
   "source": [
    "##  Nombres entiers relatifs \n",
    "\n",
    "Rappels :\n",
    "### Bit de signe\n",
    "Les nombres binaires correspondants à des entiers naturels sont dits **signés**.  \n",
    "\n",
    "Le bit de poids forts (le plus à gauche) donne une indication sur le signe du nombre codé en binaire :\n",
    "- 0 -> le nombre est positif,\n",
    "- 1 -> le nombre est négatif.  \n",
    "\n",
    "### Le bit de signe ne sufit pas !\n",
    "**Le bit de signe ne suffit pas pour coder les entiers négatifs**.  \n",
    "Exemple de calcul : $4 - 2$ le résultat doit donc donner 2 soit *0b* 0000 00010 si on code les nombres sur 8 bits.  \n",
    "*0b* **0**000 0100 -> 4  \n",
    "*0b* **1**000 0010 -> -2   \n",
    "Or, comme nous allons le voir, **ce code ne convient pas pour -2 !**  \n",
    "\n",
    "Si on additionne ces deux nombres bit à bit, on obtient :  \n",
    "*0b* **1**000 0110 -> 4 + (-2) = 2  \n",
    "On voit bien que le résultat obtenu ne correspond pas au code binaire de 2 !!!  \n",
    "\n",
    "Il est donc nécessaire d'avoir recours à une autre méthode pour obtenir le code binaire d'un entier négatif.\n",
    "\n",
    "### Complémenter à 1 puis ajouter 1\n",
    "**Méthode :** Pour exprimer un entier relatif en code binaire :\n",
    "- 1ere étape : obtenir le code binaire de la valeur absolue du nombre (valeur positive),\n",
    "- 2eme étape : effectuer le complément à 1 de chaque bit (inverser la valeur de chaque bit 0 <-> 1),\n",
    "- 3eme étape : ajouter 1 au code binaire obtenu après le complément à 1.  \n",
    "\n",
    "*Ex : -120 codé sur 8 bits*\n",
    "- 1ere étape : *0b* 0111 1000 ( valeur absolue : 120 )\n",
    "- 2eme étape : *0b* 1000 0111 ( complémenter à 1 )\n",
    "- 3eme étape : *0b* 1000 1000 ( ajouter 1 )  \n",
    "\n",
    "*Vérification : effectuons le calcul 122 - 120 = 2, on doit donc obtenir 0b 0000 0010*  \n",
    "*0b* 0111 1010 \n",
    "<span style=\"font-size:0.8em; font-style:italic;\">\n",
    "    ( 122 )\n",
    "</span>  \n",
    "*0b* 1000 1000 \n",
    "<span style=\"font-size:0.8em; font-style:italic;\">\n",
    "    ( -120 )\n",
    "</span>   \n",
    "*0b* 0000 0010  -> 2 ( CQFD / Note : le neuvième bit à 1 n'est pas pris en compte (dépassement / overflow) )  \n"
   ]
  },
  {
   "cell_type": "code",
   "execution_count": null,
   "metadata": {
    "deletable": false,
    "editable": false
   },
   "outputs": [],
   "source": [
    "# ATTENTION : la fonction builtin bin( ... ) ne permet pas d'obtenir le codage binaire d'un entier relatif négatif !!!\n",
    "bin(-120)"
   ]
  },
  {
   "cell_type": "markdown",
   "metadata": {
    "deletable": false,
    "editable": false
   },
   "source": [
    "<p style=\"background:#BBFFFF; color:#0000FF; font-family: Verdana, Geneva, sans-serif; font-size: 1.3em\">\n",
    "    <b>Exercice 1 :</b>\n",
    "</p> \n",
    "Donner le code binaire des entiers relatifs indiqués dans les cellules ci-dessous :"
   ]
  },
  {
   "cell_type": "code",
   "execution_count": 2,
   "metadata": {},
   "outputs": [],
   "source": [
    "# 1-1 Code binaire de -67 codé sur 8 bits :  \n",
    "\n",
    "code = [ ...]"
   ]
  },
  {
   "cell_type": "markdown",
   "metadata": {
    "deletable": false,
    "editable": false
   },
   "source": [
    "  <details>\n",
    "    <summary style=\"cursor: pointer; background:#ddd;\">Solution n°1 ⌄</summary>\n",
    "    -67  -> [ 1, 0, 1, 1, 1, 1, 0, 1 ] \n",
    "  </details>"
   ]
  },
  {
   "cell_type": "code",
   "execution_count": null,
   "metadata": {},
   "outputs": [],
   "source": [
    "# 1-2 Code binaire de -128 codé sur 8 bits :  \n",
    "\n",
    "code = [ ... ]"
   ]
  },
  {
   "cell_type": "markdown",
   "metadata": {
    "deletable": false,
    "editable": false
   },
   "source": [
    "  <details>\n",
    "    <summary style=\"cursor: pointer; background:#ddd;\">Solution n°2 ⌄</summary>\n",
    "    -128  -> [1, 1, 0, 0, 0, 0, 0, 0, 0]\n",
    "  </details>"
   ]
  },
  {
   "cell_type": "code",
   "execution_count": null,
   "metadata": {},
   "outputs": [],
   "source": [
    "# 1-3 Code binaire de -1 codé sur 8 bits :  \n",
    "\n",
    "code = [ ... ]"
   ]
  },
  {
   "cell_type": "markdown",
   "metadata": {
    "deletable": false,
    "editable": false
   },
   "source": [
    "  <details>\n",
    "    <summary style=\"cursor: pointer; background:#ddd;\">Solution n°3 ⌄</summary>\n",
    "    -1  -> [ 1, 1, 1, 1, 1, 1, 1, 1 ] \n",
    "  </details>"
   ]
  },
  {
   "cell_type": "markdown",
   "metadata": {
    "deletable": false,
    "editable": false
   },
   "source": [
    "<p style=\"background:#BBFFFF; color:#0000FF; font-family: Verdana, Geneva, sans-serif; font-size: 1.3em\">\n",
    "    <b>Exercice 2 :</b>\n",
    "</p>  \n",
    "\n",
    "Afin de prendre des bonnes habitudes, il est **fortement conseillé** de diviser son algorithme en plusieurs fonctions.  \n",
    "Cette méthode a de multiples avantages :\n",
    "- elle facilite le **débogage** puisque le code est réalisé étape par étape\n",
    "- elle facilite la **maintenance** car la lisibilité est nettement plus simple\n",
    "- elle permet le **travail collaboratif** puisque chaque codeur peut focaliser son travail sur une fonction\n",
    "- elle permet la **portabilité** d'une partie du code dans un autre projet\n",
    "- elle permet la **modularité** : le fait de se constituer des bibliothèques de fonctions utiles  \n",
    "- ...  \n",
    "\n",
    "Je vous propose donc de procéder en 4 étapes :  \n",
    "Etape 0 : vous pouvez reprendre le code de votre fonction int_to_bin(...) qui permet d'obtenir le code binaire d'un entier naturel *( voir notebook Rappels sur le codage binaire : 1/3 )*.  \n",
    "Etape 1 : coder une fonction qui permet d'étendre la liste des bits d'un code bianire à 7 bits si nécessaire.  \n",
    "Etape 2 : coder une fonction qui effectue le complément à 1 d'une liste de bits.  \n",
    "Etape 3 : coder une fonction qui additionne 1 bit à bit à un code binaire contenu dans une liste de bits.  \n",
    "Etape 4 : coder la fonction principale qui renvoie le code binaire d'un entier relatif compris entre -128 et 127 inclus.  \n",
    "\n",
    "**Vous pouvez développer vos fonctions les unes après les autres sous Thonny puis les importer dans le notebook une fois les test de validité effectués (copier/coller).** Vous profiterez ainsi de l'aide en ligne dans la console de l'IDE Thonny."
   ]
  },
  {
   "cell_type": "code",
   "execution_count": null,
   "metadata": {},
   "outputs": [],
   "source": [
    "# Etape 0 : fonction int_to_bin ( ... ) -> reprendre le code dans le notebook sur le codage binaire 1/3\n",
    "\n",
    "def int_to_bin ( val:int)->list :\n",
    "    < ... >"
   ]
  },
  {
   "cell_type": "markdown",
   "metadata": {
    "deletable": false,
    "editable": false
   },
   "source": [
    "\n",
    "<span style=\"background:#DDEEFF; color:#0000FF; font-family: Verdana, Geneva, sans-serif; font-size: 1em\">\n",
    "    <b>Question 2.1 :</b>\n",
    "</span>   \n",
    "\n",
    "Donner le code d'une fonction <code> completer_7bits ( code:list ) : </code> en langage Python qui :  \n",
    "- reçoit code\\[ \\] en argument : une **liste de bits**  \n",
    "- modifie en place la liste code\\[ \\] si nécessaire de telle sorte que celle-ci contienne 7 bits.  \n",
    "On considère que la longueur de code\\[ \\] passée en argument sera au maximum d'une longueur de 7.  \n",
    "*exemple :\n",
    "> bits = \\[1, 0, 1\\]  \n",
    "**completer_7bits (** bits **)**  \n",
    "print( bits )  \n",
    "\\>\\>\\> \\[0, 0, 0, 0, 1, 0, 1\\]"
   ]
  },
  {
   "cell_type": "code",
   "execution_count": null,
   "metadata": {},
   "outputs": [],
   "source": [
    "def completer_7bits ( code:list):\n",
    "    < ... >"
   ]
  },
  {
   "cell_type": "markdown",
   "metadata": {
    "deletable": false,
    "editable": false
   },
   "source": [
    "<span style=\"background:#DDEEFF; color:#0000FF; font-family: Verdana, Geneva, sans-serif; font-size: 1em\">\n",
    "    <b>Question 2.2 :</b>\n",
    "</span>   \n",
    "\n",
    "Donner le code d'une fonction <code> completement_a_1 ( code:list ) : </code> en langage Python qui :  \n",
    "- reçoit code\\[ \\] en argument : une **liste de bits**  \n",
    "- modifie en place la liste code[] de telle sorte que l'opération corresponde au complément à 1 sur la liste de bits. \n",
    "*exemple :*\n",
    "> bits = \\[0, 0, 1, 1, 0, 0, 1\\]  \n",
    "**completement_a_1 (** bits **)**  \n",
    "print( bits )  \n",
    "\\>\\>\\> \\[1, 1, 0, 0, 1, 1, 0\\]"
   ]
  },
  {
   "cell_type": "code",
   "execution_count": null,
   "metadata": {},
   "outputs": [],
   "source": [
    "def completement_a_1 ( code:list ):\n",
    "    < ... >"
   ]
  },
  {
   "cell_type": "markdown",
   "metadata": {
    "deletable": false,
    "editable": false
   },
   "source": [
    "<span style=\"background:#DDEEFF; color:#0000FF; font-family: Verdana, Geneva, sans-serif; font-size: 1em\">\n",
    "    <b>Question 2.3 :</b>\n",
    "</span>   \n",
    "\n",
    "Donner le code d'une fonction <code> ajouter_1_bit_a_bit ( code:list ) : </code> en langage Python qui :  \n",
    "- reçoit code\\[ \\] en argument : une **liste de 7 bits**  \n",
    "- modifie en place la liste code\\[ \\] de telle sorte que l'opération corresponde à la somme bit à bit de code\\[ \\] et de 1. \n",
    "*exemple :*\n",
    "> bits = \\[0, 0, 1, 0, 1, 1, 1\\]  \n",
    "**ajouter_1_bit_a_bit (** bits **)**  \n",
    "print( bits )  \n",
    "\\>\\>\\> \\[0, 0, 1, 1, 0, 0, 0\\]"
   ]
  },
  {
   "cell_type": "code",
   "execution_count": null,
   "metadata": {},
   "outputs": [],
   "source": [
    "def ajouter_1_bit_a_bit ( code:list ):\n",
    "    < ... >"
   ]
  },
  {
   "cell_type": "markdown",
   "metadata": {
    "deletable": false,
    "editable": false
   },
   "source": [
    "<span style=\"background:#DDEEFF; color:#0000FF; font-family: Verdana, Geneva, sans-serif; font-size: 1em\">\n",
    "    <b>Question 2.4 :</b>\n",
    "</span>   \n",
    "\n",
    "Donner le code de la fonction <code> int_to_8bits_signed ( val:int )->list : </code> en langage Python qui :\n",
    "- reçoit en argument un **entier relatif** compris entre -128 et 127 inclus\n",
    "- renvoie une liste de huit 0 et ou de 1 qui correspond au **codage binaire signé** de cet entier  \n",
    "\n",
    "Si la valeur passée en argument n'est pas dans le domaine de validité défini, la fonction renvoie <code> None </code>."
   ]
  },
  {
   "cell_type": "code",
   "execution_count": null,
   "metadata": {},
   "outputs": [],
   "source": [
    "def int_to_8bits_signed ( val:int )->list:\n",
    "    < ... > "
   ]
  },
  {
   "cell_type": "markdown",
   "metadata": {
    "deletable": false,
    "editable": false
   },
   "source": [
    "#### Vérifications :"
   ]
  },
  {
   "cell_type": "code",
   "execution_count": null,
   "metadata": {
    "deletable": false,
    "editable": false
   },
   "outputs": [],
   "source": [
    "int_to_8bits_signed ( 137 ) # Sortie attendue : None"
   ]
  },
  {
   "cell_type": "code",
   "execution_count": null,
   "metadata": {
    "deletable": false,
    "editable": false
   },
   "outputs": [],
   "source": [
    "int_to_8bits_signed ( 122 ) # Sortie attendue : [0, 1, 1, 1, 1, 0, 1, 0]"
   ]
  },
  {
   "cell_type": "code",
   "execution_count": null,
   "metadata": {
    "deletable": false,
    "editable": false
   },
   "outputs": [],
   "source": [
    "int_to_8bits_signed ( -120 ) # sortie attendue : [1, 0, 0, 0, 1, 0, 0, 0]"
   ]
  },
  {
   "cell_type": "code",
   "execution_count": null,
   "metadata": {
    "deletable": false,
    "editable": false
   },
   "outputs": [],
   "source": [
    "int_to_8bits_signed ( -1 ) # sortie attendue : [1, 1, 1, 1, 1, 1, 1, 1]"
   ]
  }
 ],
 "metadata": {
  "celltoolbar": "Éditer les Méta-Données",
  "kernelspec": {
   "display_name": "Python 3 (ipykernel)",
   "language": "python",
   "name": "python3"
  },
  "language_info": {
   "codemirror_mode": {
    "name": "ipython",
    "version": 3
   },
   "file_extension": ".py",
   "mimetype": "text/x-python",
   "name": "python",
   "nbconvert_exporter": "python",
   "pygments_lexer": "ipython3",
   "version": "3.11.5"
  }
 },
 "nbformat": 4,
 "nbformat_minor": 4
}

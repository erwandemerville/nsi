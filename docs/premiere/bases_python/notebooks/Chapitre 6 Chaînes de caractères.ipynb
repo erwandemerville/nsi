{
 "cells": [
  {
   "cell_type": "markdown",
   "metadata": {},
   "source": [
    "<h1><center><span style=\"border-style:solid;border-width:1px;border-radius:5px;\n",
    "    padding:5px;background-color:yellow;box-shadow: 6px 6px 6px black;\">Chapitre 6 - Chaînes de caractères</span></center></h1>"
   ]
  },
  {
   "cell_type": "markdown",
   "metadata": {},
   "source": [
    "<h2>Sommaire</h2>\n",
    "<ol>\n",
    "    <li>\n",
    "        <a href=\"#partie1\">Représentation et affichage d'une chaîne de caractères</a>\n",
    "    </li>\n",
    "    <li>\n",
    "        <a href=\"#partie2\">Cas des chaînes qui contiennent des guillemets ou des apostrophes</a>\n",
    "    </li>\n",
    "    <li>\n",
    "        <a href=\"#partie3\">Quelques caractères spéciaux</a>\n",
    "    </li>\n",
    "    <li>\n",
    "        <a href=\"#partie4\">Variables contenant une chaîne de caractères</a>\n",
    "    </li> \n",
    "     <li>\n",
    "        <a href=\"#partie5\">Longueur d'une chaîne</a>\n",
    "    </li> \n",
    "      <li>\n",
    "        <a href=\"#partie6\">Conversion d'un nombre en chaîne de caractères et inversement</a>\n",
    "    </li> \n",
    "      <li>\n",
    "        <a href=\"#partie7\">Egalité de chaînes de caractères</a>\n",
    "    </li> \n",
    "      <li>\n",
    "        <a href=\"#partie8\">Accès aux caractères individuels d'une chaîne de caractères</a>\n",
    "    </li> \n",
    "      <li>\n",
    "        <a href=\"#partie9\">Concaténation de chaînes</a>\n",
    "    </li> \n",
    "      <li>\n",
    "        <a href=\"#partie10\">Codage des caractères en informatique</a>\n",
    "    </li> \n",
    "      <li>\n",
    "        <a href=\"#partie11\">Ordre sur les chaînes de caractères</a>\n",
    "    </li> \n",
    "      <li>\n",
    "        <a href=\"#partie12\">Majuscules et minuscules</a>\n",
    "    </li>      \n",
    "      <li>\n",
    "        <a href=\"#partie13\">Autres fonctionnalités sur les chaînes en Python</a>\n",
    "    </li> \n",
    "</ol>"
   ]
  },
  {
   "cell_type": "markdown",
   "metadata": {},
   "source": [
    "<p style=\"text-align:justify\">On traite ici le sujet des <strong>chaînes de caractères</strong>, qui sont des objets de type <strong>string</strong> (<code>str</code>) en Python, destinés à contenir des textes ou des messages. Notons qu'il n'existe pas en Python de type \"<em>caractère</em>\" comme dans d'autres langages de programmation. En Python, un caractère est simplement une chaîne composée d'un seul caractère. Les chaînes de caractères présentent de nombreuses similitudes avec les listes qui seront étudiées dans le chapitre suivant.</p>"
   ]
  },
  {
   "cell_type": "markdown",
   "metadata": {},
   "source": [
    "<a id=\"partie1\"></a>"
   ]
  },
  {
   "cell_type": "markdown",
   "metadata": {},
   "source": [
    "<h2 style=\"text-decoration:underline;\" id=\"partie1\">1- Représentation et affichage d'une chaîne de caractères</h2>"
   ]
  },
  {
   "cell_type": "markdown",
   "metadata": {},
   "source": [
    "<p style=\"text-align:justify\">Une chaîne de caractères s'écrit entre guillemets qui peuvent être simples (c'est-à-dire des apostrophes) comme pour la chaîne 'Bonjour' ou doubles comme pour la chaîne \"Bonjour\". Une chaîne de caractères peut contenir aussi bien un seul caractère (et même zéro caractère) qu'un roman tout entier.\n",
    "</p>"
   ]
  },
  {
   "cell_type": "code",
   "execution_count": null,
   "metadata": {},
   "outputs": [],
   "source": [
    "type('Bonjour')"
   ]
  },
  {
   "cell_type": "markdown",
   "metadata": {},
   "source": [
    "L'instruction <code>print</code> permet d'afficher une chaîne de caractères sans les guillemets qui l'entourent :"
   ]
  },
  {
   "cell_type": "code",
   "execution_count": null,
   "metadata": {},
   "outputs": [],
   "source": [
    "print(\"Bonjour\")"
   ]
  },
  {
   "cell_type": "markdown",
   "metadata": {},
   "source": [
    "<a id=\"partie2\"></a>"
   ]
  },
  {
   "cell_type": "markdown",
   "metadata": {},
   "source": [
    "<h2 style=\"text-decoration:underline;\" id=\"partie1\">2- Cas des chaînes qui contiennent des guillemets ou des apostrophes</h2>"
   ]
  },
  {
   "cell_type": "markdown",
   "metadata": {},
   "source": [
    "Si l'on souhaite représenter un texte qui contient lui-même des guillemets doubles, on entourera la chaîne avec des guillemets simples :</p>"
   ]
  },
  {
   "cell_type": "code",
   "execution_count": null,
   "metadata": {},
   "outputs": [],
   "source": [
    "print('Elle lui a dit \"Bonjour!\" puis elle est repartie.')"
   ]
  },
  {
   "cell_type": "markdown",
   "metadata": {},
   "source": [
    "Inversement, si l'on souhaite représenter un texte qui contient des guillemets simples (apostrophes), on entourera la chaîne avec des guillemets doubles :"
   ]
  },
  {
   "cell_type": "code",
   "execution_count": null,
   "metadata": {},
   "outputs": [],
   "source": [
    "print(\"Je m'appelle Pierre.\")"
   ]
  },
  {
   "cell_type": "markdown",
   "metadata": {},
   "source": [
    "<div class=\"alert alert-info\"><strong>Exercice 1 : </strong> \n",
    "    Ecrire un programme qui affiche les deux messages suivants avec une instruction <code>print</code> :\n",
    "        <ul>\n",
    "            <li><code>Le mot \"amphigourique\" est rarement utilisé.</code></li>\n",
    "            <li><code>L'informatique</code></li>\n",
    "        </ul>\n",
    "</div>"
   ]
  },
  {
   "cell_type": "code",
   "execution_count": null,
   "metadata": {},
   "outputs": [],
   "source": []
  },
  {
   "cell_type": "markdown",
   "metadata": {},
   "source": [
    "<a id=\"partie3\"></a>"
   ]
  },
  {
   "cell_type": "markdown",
   "metadata": {},
   "source": [
    "<h2 style=\"text-decoration:underline;\" id=\"partie1\">3- Quelques caractères spéciaux</h2>"
   ]
  },
  {
   "cell_type": "markdown",
   "metadata": {},
   "source": [
    "Pour afficher certains caractères spéciaux que l'on ne peut pas saisir directement dans une chaîne, on utilise comme caractère d'échappement l'antislash (backslash en anglais) <code>\\\\</code> :\n",
    "<ul>\n",
    "    <li>\n",
    "        <code>\\n</code> : nouvelle ligne (aller à la ligne)\n",
    "    </li>\n",
    "     <li>\n",
    "        <code>\\t</code> : tabulation\n",
    "    </li>\n",
    "     <li>\n",
    "        <code>\\'</code> : apostrophe (utilisable dans une chaîne qui est entre apostrophes)\n",
    "    </li>\n",
    "     <li>\n",
    "         <code>\\\\</code> : antislash <code>\\</code>\n",
    "    </li>    \n",
    "</ul>"
   ]
  },
  {
   "cell_type": "code",
   "execution_count": null,
   "metadata": {},
   "outputs": [],
   "source": [
    "print('Bonjour\\nCeci est un très long texte\\t sur plusieurs lignes.\\nJe ne sais pas trop quoi raconter mais ce matin je me suis levé à l\\'aube.')"
   ]
  },
  {
   "cell_type": "markdown",
   "metadata": {},
   "source": [
    "Remarque : Un antislash en fin de ligne (sans aucun caractère après l'antislash, même pas un espace) permet d'écrire une instruction très longue sur plusieurs lignes.<br>\n",
    "L'instruction ci-dessous est une réécriture de l'instruction précédente, avec des longueurs de lignes plus raisonnables :"
   ]
  },
  {
   "cell_type": "code",
   "execution_count": null,
   "metadata": {},
   "outputs": [],
   "source": [
    "print('Bonjour\\nCeci est un très long texte\\t sur plusieurs lignes.\\nJe ne sais pas trop quoi \\\n",
    "raconter mais ce matin je me suis levé à l\\'aube.')"
   ]
  },
  {
   "cell_type": "markdown",
   "metadata": {},
   "source": [
    "<a id=\"partie4\"></a>"
   ]
  },
  {
   "cell_type": "markdown",
   "metadata": {},
   "source": [
    "<h2 style=\"text-decoration:underline;\" id=\"partie1\">4- Variables contenant une chaîne de caractères</h2>"
   ]
  },
  {
   "cell_type": "markdown",
   "metadata": {},
   "source": [
    "Une chaîne peut être stockée dans une variable :"
   ]
  },
  {
   "cell_type": "code",
   "execution_count": null,
   "metadata": {},
   "outputs": [],
   "source": [
    "a = 'rrr'\n",
    "b = a\n",
    "print(b)"
   ]
  },
  {
   "cell_type": "markdown",
   "metadata": {},
   "source": [
    "Rappel : la fonction <code>input</code> renvoie une chaîne de caractère saisie par l'utilisateur. On stocke généralement cette chaîne dans une variable."
   ]
  },
  {
   "cell_type": "markdown",
   "metadata": {},
   "source": [
    "<a id=\"partie5\"></a>"
   ]
  },
  {
   "cell_type": "markdown",
   "metadata": {},
   "source": [
    "<h2 style=\"text-decoration:underline;\" id=\"partie1\">5- Longueur d'une chaîne</h2>"
   ]
  },
  {
   "cell_type": "markdown",
   "metadata": {},
   "source": [
    "La fonction <code>len</code> renvoie la longueur d'une chaîne de caractères (len est l'abréviation de \"length\" qui signifie \"longueur\" en anglais) : "
   ]
  },
  {
   "cell_type": "code",
   "execution_count": null,
   "metadata": {},
   "outputs": [],
   "source": [
    "len('Bonjour')"
   ]
  },
  {
   "cell_type": "markdown",
   "metadata": {},
   "source": [
    "Remarque : les espaces et les retours à la ligne sont comptés comme des caractères, mais pas les caractères d'échappement :"
   ]
  },
  {
   "cell_type": "code",
   "execution_count": null,
   "metadata": {},
   "outputs": [],
   "source": [
    "len('a b c')"
   ]
  },
  {
   "cell_type": "code",
   "execution_count": null,
   "metadata": {},
   "outputs": [],
   "source": [
    "len('a\\nb\\nc')"
   ]
  },
  {
   "cell_type": "markdown",
   "metadata": {},
   "source": [
    "<a id=\"partie6\"></a>"
   ]
  },
  {
   "cell_type": "markdown",
   "metadata": {},
   "source": [
    "<h2 style=\"text-decoration:underline;\" id=\"partie1\">6- Conversion d'un nombre en chaîne de caractères et inversement</h2>"
   ]
  },
  {
   "cell_type": "markdown",
   "metadata": {},
   "source": [
    "La fonction <code>str(nombre)</code> permet de transformer le nombre donné en argument (de type <code>int</code> ou <code>float</code>) en une chaîne de caractères :"
   ]
  },
  {
   "cell_type": "code",
   "execution_count": null,
   "metadata": {},
   "outputs": [],
   "source": [
    "str(5)"
   ]
  },
  {
   "cell_type": "code",
   "execution_count": null,
   "metadata": {},
   "outputs": [],
   "source": [
    "str(4.6)"
   ]
  },
  {
   "cell_type": "markdown",
   "metadata": {},
   "source": [
    "<div class=\"alert alert-info\"><strong>Exercice 2 : </strong> \n",
    "Reprendre l'exercice 6 du chapitre 5 sans utiliser de boucle <code>while</code> :<br>\n",
    "Ecrire un programme qui demande à l'utilisateur de saisir un nombre entier strictement positif et qui affiche le nombre de chiffres de ce nombre.\n",
    "</div>"
   ]
  },
  {
   "cell_type": "code",
   "execution_count": null,
   "metadata": {},
   "outputs": [],
   "source": []
  },
  {
   "cell_type": "markdown",
   "metadata": {},
   "source": [
    "Inversement, une chaîne peut être transformée en type numérique avec les fonctions <code>int</code> et <code>float</code>.\n",
    "Ceci est nécessaire lorqu'on utilise la fonction <code>input</code> qui renvoie une chaîne de caractères et que l'on attend une valeur numérique. "
   ]
  },
  {
   "cell_type": "code",
   "execution_count": null,
   "metadata": {},
   "outputs": [],
   "source": [
    "int(\"100\")"
   ]
  },
  {
   "cell_type": "code",
   "execution_count": null,
   "metadata": {},
   "outputs": [],
   "source": [
    "float(\"37.2\")"
   ]
  },
  {
   "cell_type": "markdown",
   "metadata": {},
   "source": [
    "<a id=\"partie7\"></a>"
   ]
  },
  {
   "cell_type": "markdown",
   "metadata": {},
   "source": [
    "<h2 style=\"text-decoration:underline;\" id=\"partie1\">7- Egalité de chaînes de caractères</h2>"
   ]
  },
  {
   "cell_type": "markdown",
   "metadata": {},
   "source": [
    "Comme pour les nombres, on peut tester l'égalité ou la non-égalité de deux chaînes de caractères avec les opérateurs <code>==</code> et <code>!=</code>."
   ]
  },
  {
   "cell_type": "markdown",
   "metadata": {},
   "source": [
    "<div class=\"alert alert-info\"><strong>Exercice 3 : </strong> \n",
    "    Tester l'égalité des chaînes \"Bonjour\" et \"BONJOUR\".</div>"
   ]
  },
  {
   "cell_type": "code",
   "execution_count": null,
   "metadata": {},
   "outputs": [],
   "source": []
  },
  {
   "cell_type": "markdown",
   "metadata": {},
   "source": [
    "<a id=\"partie8\"></a>"
   ]
  },
  {
   "cell_type": "markdown",
   "metadata": {},
   "source": [
    "<h2 style=\"text-decoration:underline;\" id=\"partie1\">8- Accès aux caractères individuels d'une chaîne de caractères</h2>"
   ]
  },
  {
   "cell_type": "markdown",
   "metadata": {},
   "source": [
    "On accède aux caractères qui constituent une chaîne avec la notation <code>[]</code>.<br>\n",
    "Attention, la numérotation commence à 0. Ainsi, <code>mot[0]</code> désigne le premier caractère de la chaîne <code>mot</code>.<br><br>\n",
    "Remarques : \n",
    "<ul>\n",
    "    <li>\n",
    "On utilise la même syntaxe pour les chaînes de caractères que pour les listes (ou les tableaux en informatique) qui seront vues dans le prochain chapitre.</li>\n",
    "    <li>On ne peut pas modifier une chaîne de caractères déjà existante. Il faut créer une nouvelle chaîne à chaque fois qu'on souhaite apporter une modification à une chaîne. Ainsi, le code suivant provoque une erreur : </li>       "
   ]
  },
  {
   "cell_type": "code",
   "execution_count": null,
   "metadata": {},
   "outputs": [],
   "source": [
    "mot = \"mare\"\n",
    "mot[1] = \"u\""
   ]
  },
  {
   "cell_type": "markdown",
   "metadata": {},
   "source": [
    "<div class=\"alert alert-info\"><strong>Exercice 4 : </strong> \n",
    "    Ecrire un programme qui affiche la <strong>première</strong> lettre d'un mot saisi par l'utilisateur.\n",
    "    </div>"
   ]
  },
  {
   "cell_type": "code",
   "execution_count": null,
   "metadata": {},
   "outputs": [],
   "source": []
  },
  {
   "cell_type": "markdown",
   "metadata": {},
   "source": [
    "<div class=\"alert alert-info\"><strong>Exercice 5 : </strong> \n",
    "    Ecrire un programme qui affiche la <strong>dernière</strong> lettre d'un mot saisi par l'utilisateur.\n",
    "    </div>"
   ]
  },
  {
   "cell_type": "code",
   "execution_count": null,
   "metadata": {},
   "outputs": [],
   "source": []
  },
  {
   "cell_type": "markdown",
   "metadata": {},
   "source": [
    "Remarque : En Python, un raccourci pour accéder au dernier caractère d'une chaîne consiste à utiliser l'indice -1.<br>\n",
    "Ainsi, <code>mot[-1]</code> désigne le dernier caractère de la chaîne <code>mot</code>."
   ]
  },
  {
   "cell_type": "markdown",
   "metadata": {},
   "source": [
    "<div class=\"alert alert-info\"><strong>Exercice 6 : </strong> \n",
    "    Ecrire un programme qui demande à l'utilisateur de saisir un mot, et qui affiche ce mot verticalement (sur une colonne).\n",
    "</div>"
   ]
  },
  {
   "cell_type": "code",
   "execution_count": null,
   "metadata": {},
   "outputs": [],
   "source": []
  },
  {
   "cell_type": "markdown",
   "metadata": {},
   "source": [
    "<div class=\"alert alert-info\"><strong>Exercice 7 : </strong> \n",
    "    Ecrire une fonction <code>estPrésent(lettre,message)</code> qui renvoie <code>True</code> ou <code>False</code> selon que la lettre est présente ou non dans le message.\n",
    "</div>"
   ]
  },
  {
   "cell_type": "code",
   "execution_count": null,
   "metadata": {},
   "outputs": [],
   "source": [
    "   \n",
    "\n",
    "assert(estPrésent('a','abracadabra') == True)\n",
    "assert(estPrésent('r','abracadabra') == True)\n",
    "assert(estPrésent('R','abracadabra') == False)"
   ]
  },
  {
   "cell_type": "markdown",
   "metadata": {},
   "source": [
    "<div class=\"alert alert-info\"><strong>Exercice 8 : </strong> \n",
    "    Ecrire une fonction <code>nbOccurences(lettre,message)</code> qui renvoie le nombre d'occurences d'une lettre (ou d'un caractère) dans un message.\n",
    "</div>"
   ]
  },
  {
   "cell_type": "code",
   "execution_count": null,
   "metadata": {},
   "outputs": [],
   "source": [
    "def nbOccurences(lettre,message):\n",
    "    pass\n",
    "\n",
    "assert(nbOccurences('a','abracadabra') == 5)\n",
    "assert(nbOccurences('A','abracadabra') == 0)"
   ]
  },
  {
   "cell_type": "markdown",
   "metadata": {},
   "source": [
    "On peut parcourir une chaîne à l'aide d'une boucle en utilisant une syntaxe raccourcie, qui permet de faire en sorte que la variable de boucle contienne directement les caractères successifs de la chaîne :"
   ]
  },
  {
   "cell_type": "code",
   "execution_count": null,
   "metadata": {},
   "outputs": [],
   "source": [
    "mot = \"table\"\n",
    "for c in mot:\n",
    "    print(c)"
   ]
  },
  {
   "cell_type": "markdown",
   "metadata": {},
   "source": [
    "<div class=\"alert alert-info\"><strong>Exercice 9 : </strong> \n",
    "    Reprendre l'exercice 8 en utilisant la syntaxe raccourcie.\n",
    "</div>"
   ]
  },
  {
   "cell_type": "code",
   "execution_count": null,
   "metadata": {},
   "outputs": [],
   "source": []
  },
  {
   "cell_type": "markdown",
   "metadata": {},
   "source": [
    "<a id=\"partie9\"></a>"
   ]
  },
  {
   "cell_type": "markdown",
   "metadata": {},
   "source": [
    "<h2 style=\"text-decoration:underline;\" id=\"partie1\">9- Concaténation de chaînes</h2>"
   ]
  },
  {
   "cell_type": "markdown",
   "metadata": {},
   "source": [
    "A partir de deux chaînes de caractères, on peut construire une nouvelle chaîne qui est la concaténation des deux chaînes. On utilise pour cela l'opérateur <code>+</code> :"
   ]
  },
  {
   "cell_type": "code",
   "execution_count": null,
   "metadata": {},
   "outputs": [],
   "source": [
    "message = \"Bonjour\"\n",
    "espace = \" \"\n",
    "prénom = \"Anna\"\n",
    "phrase = message + espace + prénom\n",
    "print(phrase)"
   ]
  },
  {
   "cell_type": "markdown",
   "metadata": {},
   "source": [
    "On peut utiliser la syntaxe abrégée pour la concaténation :"
   ]
  },
  {
   "cell_type": "code",
   "execution_count": null,
   "metadata": {},
   "outputs": [],
   "source": [
    "mot = 'vert'\n",
    "mot += \"e\"\n",
    "print(mot)"
   ]
  },
  {
   "cell_type": "markdown",
   "metadata": {},
   "source": [
    "On pourrait croire à première vue que l'on modifie la chaîne initiale en la rallongeant d'un caractère, mais en fait on crée ici une nouvelle chaîne, qui est stockée à un emplacement différent de celui de la chaîne initiale. Ceci peut poser des problèmes d'efficacité si on utilise des chaînes très longues ou si on effectue de nombreux ajouts.<br>\n",
    "Pour ce genre de situation, il existe des moyens plus efficaces mais plus complexes à utiliser et hors programme de Première Spécialité NSI."
   ]
  },
  {
   "cell_type": "markdown",
   "metadata": {},
   "source": [
    "<span style=\"text-decoration:underline;\">Remarque</span> : Python offre aussi la possibilité de  \"multiplier\" une chaîne par un nombre entier :"
   ]
  },
  {
   "cell_type": "code",
   "execution_count": null,
   "metadata": {},
   "outputs": [],
   "source": [
    "5 * \"Tic Tac \""
   ]
  },
  {
   "cell_type": "markdown",
   "metadata": {},
   "source": [
    "<a id=\"partie10\"></a>"
   ]
  },
  {
   "cell_type": "markdown",
   "metadata": {},
   "source": [
    "<h2 style=\"text-decoration:underline;\" id=\"partie1\">10- Codage des caractères en informatique</h2>\n",
    "\n",
    "En informatique, chaque caractère est représenté ou codé par un nombre entier, compris entre 32 et 126 pour les caractères les plus courants, appelé le code ASCII (American Standard Code for Information Interchange) : \n",
    "<ul>\n",
    "    <li>\n",
    "        32 : espace\n",
    "    </li>\n",
    "    <li>\n",
    "        48-57 : chiffres 0-9\n",
    "    </li>\n",
    "    <li>\n",
    "        65-90 : lettres majuscules A-Z\n",
    "    </li>\n",
    "    <li>\n",
    "        97-122 : lettres minuscules a-z\n",
    "    </li>    \n",
    "</ul>\n",
    "\n",
    "La liste des 128 premiers codes est donnée ici : https://fr.wikipedia.org/wiki/American_Standard_Code_for_Information_Interchange\n",
    "\n",
    "Les lettres accentuées et autres caractères spéciaux possèdent un code supérieur à 128.<br>\n",
    "Attention, les 32 premiers caractères sont des caractères de contrôle un peu particuliers (retour en arrière, saut de ligne, etc..), il vaut mieux éviter de les afficher. Plus de détails ici : https://fr.wikipedia.org/wiki/Caract%C3%A8re_de_contr%C3%B4le\n",
    "\n",
    "\n",
    "On dispose en Python de deux fonctions pour passer d'un caractère à son code et inversement :\n",
    "    <ul>\n",
    "        <li>\n",
    "            <code>chr(code)</code> : renvoie le caractère (sous forme d'une chaîne) correpondant au code donné en paramètre\n",
    "        </li>\n",
    "        <li>\n",
    "            <code>ord(caractère)</code> : renvoie le code correpondant au caractère (chaîne d'un seul caractère) donné en paramètre\n",
    "        </li>\n",
    "    </ul>"
   ]
  },
  {
   "cell_type": "code",
   "execution_count": null,
   "metadata": {},
   "outputs": [],
   "source": [
    "chr(65)"
   ]
  },
  {
   "cell_type": "code",
   "execution_count": null,
   "metadata": {},
   "outputs": [],
   "source": [
    "ord('B')"
   ]
  },
  {
   "cell_type": "markdown",
   "metadata": {},
   "source": [
    "<div class=\"alert alert-info\"><strong>Exercice 10 : </strong>    \n",
    "Ecrire un programme qui affiche toutes les lettres de l'alphabet en minuscule sur une seule ligne.</div>"
   ]
  },
  {
   "cell_type": "code",
   "execution_count": null,
   "metadata": {},
   "outputs": [],
   "source": []
  },
  {
   "cell_type": "markdown",
   "metadata": {},
   "source": [
    "<a id=\"partie11\"></a>"
   ]
  },
  {
   "cell_type": "markdown",
   "metadata": {},
   "source": [
    "<h2 style=\"text-decoration:underline;\" id=\"partie1\">11- Ordre sur les chaînes de caractères</h2>"
   ]
  },
  {
   "cell_type": "markdown",
   "metadata": {},
   "source": [
    "On peut comparer les chaînes de caractères entre elles avec les symboles <code><</code>, <code>></code>, <code><=</code> et <code>>=</code>.\n",
    "    L'ordre utilisé est l'<strong>ordre lexicographique</strong>. Le principe est le même que celui de l'ordre alphabétique : on compare d'abord le premier caractère de chaque chaîne. En cas d'égalité, on compare le deuxième caractère etc...<br>\n",
    "D'après le code ASCII, les chiffres sont inférieurs aux lettres majuscules, qui sont elles-mêmes inférieures aux lettres minuscules, qui sont elles-mêmes inférieures aux lettres accentuées."
   ]
  },
  {
   "cell_type": "code",
   "execution_count": null,
   "metadata": {},
   "outputs": [],
   "source": [
    "\"ananas\" < \"ane\""
   ]
  },
  {
   "cell_type": "code",
   "execution_count": null,
   "metadata": {},
   "outputs": [],
   "source": [
    "\"Zèbre\" < \"ane\""
   ]
  },
  {
   "cell_type": "code",
   "execution_count": null,
   "metadata": {},
   "outputs": [],
   "source": [
    "\"cheval\" < \"âne\""
   ]
  },
  {
   "cell_type": "markdown",
   "metadata": {},
   "source": [
    "<div class=\"alert alert-info\"><strong>Exercice 11 : </strong> \n",
    "    Les compraisons suivantes renvoient-elles <code>True</code> ou <code>False</code> ?\n",
    "<code>\n",
    "\"123\" < \"13\"\n",
    "\"a8\" < \"8A\" \n",
    "\"z\" < \"anticonstitutionnellement\"\n",
    "</code>\n",
    "</div>"
   ]
  },
  {
   "cell_type": "code",
   "execution_count": null,
   "metadata": {},
   "outputs": [],
   "source": []
  },
  {
   "cell_type": "markdown",
   "metadata": {},
   "source": [
    "<div class=\"alert alert-info\"><strong>Exercice 12 : </strong> \n",
    "Ecrire un programme qui demande à l'utilisateur de saisir successivement deux mots écrits en minuscules (on évitera les lettres accentuées) puis qui les affiche l'un après l'autre dans l'ordre alphabétique.</div>"
   ]
  },
  {
   "cell_type": "code",
   "execution_count": null,
   "metadata": {},
   "outputs": [],
   "source": []
  },
  {
   "cell_type": "markdown",
   "metadata": {},
   "source": [
    "<div class=\"alert alert-info\"><strong>Exercice 13 : </strong> \n",
    "Comme chaque année, lors de la rentrée universitaire, de nombreux étudiants viennent s’inscrire à la bibliothèque et une longue file d’attente se forme. Afin d’essayer d'accélérer les choses, les fiches d’inscription de tous les étudiants ont déjà été préparées et ils n’ont plus qu’à les récupérer.\n",
    "\n",
    "Trois personnes sont en charge de distribuer les fiches : la première s’occupe des étudiants dont le nom commence par une lettre comprise entre A et F (inclus), la seconde personne des étudiants dont le nom commence par une lettre comprise entre G et P (inclus) et la troisième du reste des étudiants.\n",
    "\n",
    "Quand un nouvel étudiant arrive, il donne son nom et il faut lui indiquer quelle personne il doit aller voir. Les noms des étudiants commencent par une lettre majuscule.\n",
    "    \n",
    "Ecrire une fonction <code>personne(étudiant)</code> qui renvoie le numéro (1, 2 ou 3) de la personne que l'étudiant doit aller voir.<br>\n",
    "    Ajouter ensuite plusieurs instructions <code>assert</code> pour tester chacun des cas.<br>\n",
    "<em>Source : France IOI</em>\n",
    "</div>"
   ]
  },
  {
   "cell_type": "code",
   "execution_count": null,
   "metadata": {},
   "outputs": [],
   "source": []
  },
  {
   "cell_type": "markdown",
   "metadata": {},
   "source": [
    "<a id=\"partie12\"></a>"
   ]
  },
  {
   "cell_type": "markdown",
   "metadata": {},
   "source": [
    "<h2 style=\"text-decoration:underline;\" id=\"partie1\">12- Majuscules et minuscules</h2>"
   ]
  },
  {
   "cell_type": "markdown",
   "metadata": {},
   "source": [
    "Une chaîne de caractères est en réalité un \"objet\" qui dispose de fonctions (appelées des méthodes) toutes faites qui peuvent être appelées à tout moment sur l'objet concerné.\n",
    "Les bases de la programmation orientée objet seront étudiées en Terminale Spécialité NSI.<br>\n",
    "Par exemple, la fonction (ou méthode) <code>upper</code> appliquée à une chaîne de caractères renvoie la chaîne écrite en majuscules : "
   ]
  },
  {
   "cell_type": "code",
   "execution_count": null,
   "metadata": {},
   "outputs": [],
   "source": [
    "chaine = 'Bonjour'\n",
    "chaine.upper()"
   ]
  },
  {
   "cell_type": "markdown",
   "metadata": {},
   "source": [
    "Remarque : La fonction <code>upper</code> renvoie une nouvelle chaîne sans modifier la chaîne à laquelle elle s'applique."
   ]
  },
  {
   "cell_type": "code",
   "execution_count": null,
   "metadata": {},
   "outputs": [],
   "source": [
    "chaine"
   ]
  },
  {
   "cell_type": "markdown",
   "metadata": {},
   "source": [
    "Voici quelques méthodes concernant les chaînes de caractères : <table>\n",
    "    <tr><th style=\"border:1px solid #000000; text-align: center;\">Nom</th><th style=\"border:1px solid #000000; text-align: center;\">Type de la valeur de retour</th><th style=\"border:1px solid #000000; text-align: center;\">Rôle</th></tr>\n",
    "    <tr><td style=\"border:1px solid #000000; text-align: center;\"><code>upper</code></td><td style=\"border:1px solid #000000; text-align: center;\">String</td><td style=\"border:1px solid #000000; text-align: center;\">Renvoie la chaîne écrite en majuscules</td></tr> \n",
    "     <tr><td style=\"border:1px solid #000000; text-align: center;\"><code>lower</code></td><td style=\"border:1px solid #000000; text-align: center;\">String</td><td style=\"border:1px solid #000000; text-align: center;\">Renvoie la chaîne écrite en minuscules</td></tr> \n",
    "     <tr><td style=\"border:1px solid #000000; text-align: center;\"><code>isupper</code></td><td style=\"border:1px solid #000000; text-align: center;\">Boolean</td><td style=\"border:1px solid #000000; text-align: center;\">Renvoie True si la chaîne est écrite en majuscules, False sinon</td></tr> \n",
    "      <tr><td style=\"border:1px solid #000000; text-align: center;\"><code>islower</code></td><td style=\"border:1px solid #000000; text-align: center;\">Boolean</td><td style=\"border:1px solid #000000; text-align: center;\">Renvoie True si la chaîne est écrite en minuscules, False sinon</td></tr>\n",
    "      <tr><td style=\"border:1px solid #000000; text-align: center;\"><code>isalpha</code></td><td style=\"border:1px solid #000000; text-align: center;\">Boolean</td><td style=\"border:1px solid #000000; text-align: center;\">Renvoie True si la chaîne ne comporte que des lettres, False sinon</td></tr> \n",
    "      <tr><td style=\"border:1px solid #000000; text-align: center;\"><code>isnumeric</code></td><td style=\"border:1px solid #000000; text-align: center;\">Boolean</td><td style=\"border:1px solid #000000; text-align: center;\">Renvoie True si la chaîne ne comporte que des chiffres, False sinon</td></tr> \n",
    "</table>"
   ]
  },
  {
   "cell_type": "markdown",
   "metadata": {},
   "source": [
    "<div class=\"alert alert-info\"><strong>Exercice 14 : </strong> \n",
    "Ecrire une fonction <code>transforme(mot)</code> qui prend en paramètre un mot écrit avec des majuscules et/ou des minuscules, et qui renvoie ce mot avec la première lettre en majuscule et les autres lettres en minuscule.\n",
    "</div>"
   ]
  },
  {
   "cell_type": "code",
   "execution_count": 5,
   "metadata": {},
   "outputs": [
    {
     "name": "stdout",
     "output_type": "stream",
     "text": [
      "Fraise\n"
     ]
    }
   ],
   "source": [
    "def transforme(mot):\n",
    "    résultat = mot[0].upper()\n",
    "    for i in range(1,len(mot)):\n",
    "        résultat = résultat + mot[i].lower()\n",
    "    return résultat\n",
    "\n",
    "print(transforme(\"fraiSe\"))\n",
    "\n",
    "assert(transforme(\"fraise\") == \"Fraise\")\n",
    "assert(transforme(\"FRAISE\") == \"Fraise\")\n",
    "assert(transforme(\"fRAISE\") == \"Fraise\")\n",
    "assert(transforme(\"Fraise\") == \"Fraise\")"
   ]
  },
  {
   "cell_type": "code",
   "execution_count": 7,
   "metadata": {},
   "outputs": [
    {
     "data": {
      "text/plain": [
       "'Fraise'"
      ]
     },
     "execution_count": 7,
     "metadata": {},
     "output_type": "execute_result"
    }
   ],
   "source": [
    "\"frAiSe\".capitalize()"
   ]
  },
  {
   "cell_type": "markdown",
   "metadata": {},
   "source": [
    "<a id=\"partie13\"></a>"
   ]
  },
  {
   "cell_type": "markdown",
   "metadata": {},
   "source": [
    "<h2 style=\"text-decoration:underline;\" id=\"partie1\">13- Autres fonctionnalités sur les chaînes de caractères en Python</h2>"
   ]
  },
  {
   "cell_type": "markdown",
   "metadata": {},
   "source": [
    "Il existe de nombreuses autres fonctionnalités (ou méthodes) sur les chaînes de caractères.<br>\n",
    "Voir ici: https://docs.python.org/fr/3/library/stdtypes.html?#string-methods"
   ]
  }
 ],
 "metadata": {
  "kernelspec": {
   "display_name": "Python 3 (ipykernel)",
   "language": "python",
   "name": "python3"
  },
  "language_info": {
   "codemirror_mode": {
    "name": "ipython",
    "version": 3
   },
   "file_extension": ".py",
   "mimetype": "text/x-python",
   "name": "python",
   "nbconvert_exporter": "python",
   "pygments_lexer": "ipython3",
   "version": "3.10.4"
  }
 },
 "nbformat": 4,
 "nbformat_minor": 4
}

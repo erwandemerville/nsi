{
 "cells": [
  {
   "cell_type": "markdown",
   "id": "66722594-453c-46a4-bc03-f16460d0c3db",
   "metadata": {},
   "source": [
    "# DM n°1 - Implémentations de listes chaînées\n",
    "\n",
    "<div class=\"alert alert-block alert-warning\">\n",
    "    \n",
    "Les images présentes dans ce notebook nécessitent d'être connecté à **internet** pour être affichées.\n",
    "\n",
    "</div>\n",
    "\n",
    "Nous avons vu en classe une manière de **représenter** les **listes chaînées** en utilisant une classe `Cellule`.  \n",
    "Une liste chaînée était alors **soit** :\n",
    "\n",
    "- une **liste vide**, représentée par l'objet `None`\n",
    "- une **liste** de la forme `Cellule(<élement 1>, Cellule(<élement 2>, Cellule(<élement 3>, ...)))`\n",
    "\n",
    "Dans le cadre de ce **DM**, on verra **deux nouvelles façons d'implémenter** les **listes chaînées**."
   ]
  },
  {
   "cell_type": "markdown",
   "id": "6bdeb1a9-963f-480b-b09b-b105f3258576",
   "metadata": {},
   "source": [
    "## Introduction\n",
    "\n",
    "L'élément de base d'une **liste simplement chaînée** est une **cellule** constituée de **deux parties**.\n",
    "\n",
    "- La première contient une **donnée** - dans notre cas on travaillera avec des **entiers**;\n",
    "- la seconde contient un **pointeur** (i.e. une adresse mémoire) vers une **autre cellule** (ou un pointeur nul).\n",
    "\n",
    "Une liste est alors une **succession de cellules**, chacune pointant sur la **suivante**, et la **dernière** ayant un **pointeur nul**, c'est-à-dire ne pointant sur rien.\n",
    "\n",
    "Voici par exemple une représentation d'une liste contenant les entiers 2, 4, 1 et 5.\n",
    "\n",
    "<img src=\"https://nsi.erwandemerville.fr/terminale/listes/exercices/dm1/01.png\" alt=\"Liste simplement chaînée\" title=\"Liste simplement chaînée\" />\n",
    "\n",
    "À noter que les cellules n'ont pas à être placées de façon contigüe en mémoire - ce qui va donner à cette structure plus de souplesse qu'aux tableaux.\n",
    "\n",
    "### Remarques :\n",
    " * Avec cette définition, il n'y a pas d'accès direct aux valeurs des éléments. On avance dans la liste à partir de la tête, jusqu'à l'élément souhaité.\n",
    " * Cette représentation occupe un espace mémoire important puisqu'il faut stocker pour chaque cellule, une valeur et une adresse.\n",
    " * On verra qu'elle est néanmoins performante en temps d'éxécution pour certaines opérations comme l'insertion ou la suppression."
   ]
  },
  {
   "cell_type": "markdown",
   "id": "88e5dd7e-5a57-45c8-9656-a9ffae0dc89a",
   "metadata": {},
   "source": [
    "## Partie 1 - Implémentation avec deux classes\n",
    "\n",
    "Nous allons utiliser le **paradigme** de la **programmation orientée objet** pour implémenter les listes chaînées en python et définir deux classes : une classe `Cellule` qui définit une **cellule** et la classe `Liste` qui définit une **liste chaînée**, classe pour laquelle nous ajouterons ensuite des méthodes pour effectuer des **opérations usuelles** sur les listes.\n",
    "\n",
    "Voici une première définition des classes `Cellule` et `Liste`, que vous compléterez au fil des exercices suivants :"
   ]
  },
  {
   "cell_type": "code",
   "execution_count": null,
   "id": "abbcdb90-f34c-4289-a14d-4cb6114cc720",
   "metadata": {},
   "outputs": [],
   "source": [
    "class Cellule:\n",
    "    ''' Une cellule d'une liste chaînée. '''\n",
    "\n",
    "    def __init__(self, v, s=None):\n",
    "        ''' Constructeur de Cellule.\n",
    "        :param v: (int) la valeur entière de la cellule\n",
    "        :param s: (Cellule) référence de la cellule suivante, None par défaut '''\n",
    "        \n",
    "        self.valeur = v  # valeur contenue dans la cellule\n",
    "        self.suivant = s  # cellule suivante\n",
    "\n",
    "class Liste:\n",
    "    '''Une liste chaînée'''\n",
    "    \n",
    "    def __init__(self, tete=None):\n",
    "        '''Constructeur de Liste.\n",
    "        :param tete: (Cellule) référence de la premiere cellule '''\n",
    "        \n",
    "        self.tete=tete\n",
    "\n",
    "    def __str__(self):\n",
    "        ''' Renvoie une représentation textuelle de la liste.\n",
    "        :return: (str) une chaîne de caractères représentant la liste '''\n",
    "\n",
    "        pass\n",
    "\n",
    "    def est_vide(self):\n",
    "        ''' Renvoie True si la liste est vide, False sinon\n",
    "        :return: (bool) True ou False '''\n",
    "        \n",
    "        pass\n",
    "        \n",
    "    def __len__(self):\n",
    "        ''' Renvoie la longueur de la liste\n",
    "        :return: (int) la longueur de la liste '''\n",
    "        \n",
    "        pass\n",
    "    \n",
    "    def nieme_element(self, i):\n",
    "        ''' Renvoie l'élement d'indice i donné, les éléments sont indexés à partir de 0.\n",
    "        :param i: (int) l'indice de l'élément à récupérer\n",
    "        :return: (int) l'élément d'indice i de la liste '''\n",
    "        \n",
    "        pass\n",
    "\n",
    "    def inserer(self, x, i):\n",
    "        ''' Insère l'élément x à l'indice i de la liste.\n",
    "        :param x: (int) élément à insérer dans la liste\n",
    "        :param i: (int) l'indice de l'élément à récupérer\n",
    "        :return: (None) ne renvoie rien '''\n",
    "        \n",
    "        pass\n",
    "\n",
    "    def supprimer(self, i):\n",
    "        ''' Supprime l'élément d'indice i donné.\n",
    "        :param i: (int) l'indice de l'élément à récupérer\n",
    "        :return: (None) ne renvoie rien '''\n",
    "\n",
    "        pass"
   ]
  },
  {
   "cell_type": "markdown",
   "id": "916542ba-cb88-44bc-af62-498172fa8528",
   "metadata": {},
   "source": [
    "La classe `Cellule` contient **deux attributs** initialisés par le constructeur `__init__` :\n",
    "\n",
    "- `valeur` : contient la valeur de la cellule définie,\n",
    "- `suivant` : contient l'adresse mémoire de la **cellule suivante**, par défaut la valeur `None` s'il n'y a **pas de cellule suivante** (c'est-à-dire s'il s'agit de la **dernière cellule**).\n",
    "\n",
    "La classe `Liste` contient **un seul attribut** `tete`, qui pointe :\n",
    "\n",
    "- vers l'objet `None` si la **liste est vide**,\n",
    "- vers la **première cellule de la liste** sinon.\n",
    "\n",
    "<div class=\"alert alert-block alert-warning\">\n",
    "    <strong>Toutes les fonctions demandées devront être écrites de manière itérative, et non récursive</strong>.\n",
    "</div>"
   ]
  },
  {
   "cell_type": "markdown",
   "id": "3595a1f0-40ef-43c8-b691-910c81da086e",
   "metadata": {},
   "source": [
    "<div class=\"alert alert-block alert-info\">     \n",
    "    \n",
    "### Exercice 1\n",
    "\n",
    "Écrire la **méthode** `__str(self)__` de `Liste` qui doit donner un affichage textuel de la liste.\n",
    "\n",
    "Si par exemple `L` est la liste présentée en introduction, `print(L)` doit renvoyer `'[2,4,1,5]'`.  \n",
    "Si la liste est vide, alors la chaîne `'[]'` est renvoyée.\n",
    "\n",
    "Tester ensuite la méthode en exécutant le code ci-dessous. Si votre méthode est bien écrite, vous ne devriez pas obtenir d'erreur.\n",
    "\n",
    "</div>"
   ]
  },
  {
   "cell_type": "code",
   "execution_count": null,
   "id": "4e920fba-a4b8-4e73-89af-5990757a2879",
   "metadata": {},
   "outputs": [],
   "source": [
    "# Création d'une première liste non vide\n",
    "# MÉTHODE 1 (en créant d'abord chaque cellule séparément)\n",
    "c1 = Cellule(2)\n",
    "c2 = Cellule(4)\n",
    "c3 = Cellule(1)\n",
    "c4 = Cellule(5)\n",
    "c1.suivant = c2\n",
    "c2.suivant = c3\n",
    "c3.suivant = c4\n",
    "lst = Liste(c1)\n",
    "\n",
    "# Création d'une deuxième liste non vide\n",
    "# MÉTHODE 2 (en créant directement la liste)\n",
    "lst2 = Liste(Cellule(1, Cellule(6, Cellule(3, Cellule(7)))))\n",
    "\n",
    "# Création d'une liste vide\n",
    "lst_vide = Liste()\n",
    "\n",
    "# Affichage des deux listes\n",
    "print(lst)\n",
    "print(lst2)\n",
    "print(lst_vide)\n",
    "\n",
    "# Assertions vérifiant que l'affichage soit bien le bon\n",
    "assert str(lst) == \"[2, 4, 1, 5]\"\n",
    "assert str(lst2) == \"[1, 6, 3, 7]\"\n",
    "assert str(lst_vide) == \"[]\""
   ]
  },
  {
   "cell_type": "markdown",
   "id": "74535d28-703a-41ca-b410-f1c84dad68fc",
   "metadata": {},
   "source": [
    "À noter que l'on est pas obligé de mettre le **successeur** de la **dernière cellule** à `None`, puisque le **paramètre** `s` du **constructeur** de `Cellule` vaut déjà `None` par défaut."
   ]
  },
  {
   "cell_type": "markdown",
   "id": "f417e483-d1dd-4300-96cb-94eeabc94b0a",
   "metadata": {},
   "source": [
    "<div class=\"alert alert-block alert-info\">   \n",
    "    \n",
    "### Exercice 2\n",
    "   Créer une **liste chaînée** `ma_liste` représentant la liste `[4, 6, 2, 8, 7]`.  \n",
    "   Vous pouvez pour cela utiliser une des deux méthodes présentées dans le bloc précédent, c'est-à-dire soit créer chaque cellule dans une variable différente puis *lier les cellules* entre elles (*méthode 1*), soit créer directement la liste en une seule variable (*méthode 2*).\n",
    "</div>"
   ]
  },
  {
   "cell_type": "code",
   "execution_count": null,
   "id": "99d71e92-3b49-45e9-99ab-7f3d9dc72624",
   "metadata": {},
   "outputs": [],
   "source": [
    "# Création de ma liste chaînée\n",
    "ma_liste = ...\n",
    "\n",
    "assert str(ma_liste) == [4, 6, 2, 8, 7]"
   ]
  },
  {
   "cell_type": "markdown",
   "id": "2e7c1fae-045b-4076-bfaf-19beb0970097",
   "metadata": {},
   "source": [
    "<div class=\"alert alert-block alert-info\">   \n",
    "    \n",
    "### Exercice 3\n",
    "   Compléter la méthode `est_vide(self)` qui revoie `True` si la liste chaînée est vide et `False` sinon.  \n",
    "   Vérifier le bon fonctionnement de la méthode en exécutant le bloc de code suivant.\n",
    "</div>"
   ]
  },
  {
   "cell_type": "code",
   "execution_count": null,
   "id": "10d0155c-3c7d-4b1a-8b36-bc02b02f3a97",
   "metadata": {},
   "outputs": [],
   "source": [
    "L = Liste(Cellule(1))\n",
    "\n",
    "assert Liste().vide() == True\n",
    "assert L.vide() == False"
   ]
  },
  {
   "cell_type": "markdown",
   "id": "c22206f9-38e1-49ee-9cae-9ada05a97c6d",
   "metadata": {},
   "source": [
    "<div class=\"alert alert-block alert-info\">   \n",
    "    \n",
    "### Exercice 4\n",
    "\n",
    "Écrire la **méthode** `__len__(self)` qui renvoie la longueur de la liste chaînée, c'est à dire le nombre de cellules qui la compose.  \n",
    "Vérifier le bon fonctionnement de la méthode en exécutant le bloc de code suivant.\n",
    "\n",
    "Quel est le **coût algorithmique** (constant, linéaire, quadratique...) de cette méthode ? Pourquoi ?\n",
    "</div>"
   ]
  },
  {
   "cell_type": "code",
   "execution_count": null,
   "id": "fbdb7855-70b6-491a-a255-2522ad11ccf0",
   "metadata": {},
   "outputs": [],
   "source": [
    "# Tests de l'exercice 4\n",
    "l1 = Liste(Cellule(1, Cellule(2, Cellule(3))))\n",
    "\n",
    "assert len(Liste()) == 0\n",
    "assert len(l1) == 3"
   ]
  },
  {
   "cell_type": "markdown",
   "id": "6483eef5-c6b3-440b-a7a3-fbbf3629bdf2",
   "metadata": {},
   "source": [
    "<div class=\"alert alert-block alert-info\">   \n",
    "    \n",
    "### Exercice 5\n",
    "\n",
    "Écrire la **méthode** `nieme_element(self, i)` qui renvoie l'élement d'indice `i`, numéroté à partir de 0. Si l'indice est invalide, une exception `IndexError` sera **levée**.  \n",
    "Vérifier le bon fonctionnement de la méthode en exécutant le bloc de code suivant.\n",
    "\n",
    "Quel sera la **coût algorithmique** de cette méthode **dans le pire des cas** ? (Et quel serait ce **pire des cas** ?)\n",
    "</div>"
   ]
  },
  {
   "cell_type": "code",
   "execution_count": null,
   "id": "1ce42051-608d-4b38-8143-932296a8dbaf",
   "metadata": {},
   "outputs": [],
   "source": [
    "# Tests de l'exercice 5\n",
    "l1 = Liste(Cellule(0, Cellule(1, Cellule(2))))\n",
    "\n",
    "assert l1[0] == 0\n",
    "assert l1[1] == 1\n",
    "assert l1[2] == 2"
   ]
  },
  {
   "cell_type": "markdown",
   "id": "2c3033aa-0880-4044-b560-80d2a29876f8",
   "metadata": {},
   "source": [
    "<div class=\"alert alert-block alert-info\">   \n",
    "    \n",
    "### Exercice 6\n",
    "Écrire la **méthode** `inserer(self, x, i)` qui insère l'élément `x` à l'indice `i` donné en paramètre numéroté à partir de $0$.  \n",
    "La structure que nous avons choisi ici est **mutable**, cela signifie que la méthode **ne renvoie rien**, mais modifie directement la liste. \n",
    "Vérifier le bon fonctionnement de la méthode en exécutant le bloc de code suivant.\n",
    "\n",
    "Quel sera le **coût algorithmique** de cette méthode pour insérer un élément **au début de la liste** ?\n",
    "</div>"
   ]
  },
  {
   "cell_type": "markdown",
   "id": "e89d41ae-4e16-47e5-b89f-ff5f85500b94",
   "metadata": {},
   "source": [
    "<div class=\"alert alert-block alert-success\">  \n",
    "\n",
    "<img src='https://nsi.erwandemerville.fr/terminale/listes/exercices/dm1/02.png' style='float:right;' width=400>    \n",
    "\n",
    "Le but de cet exercice est d'écrire la méthode `inserer(self, x, i)` qui insère l'élément `x` à l'indice donné en paramètre numéroté à partir de $0$.\n",
    "- On envisagera d'abord les cas particuliers où :\n",
    "    - La liste est vide.\n",
    "    - `i` est égal à $0$ (insertion en début de liste).<br /><br />\n",
    "- Cas général (voir exemple ci-contre) :\n",
    "    - On avance dans la liste jusqu'à la cellule d'indice `i-1`\n",
    "    - On crée une nouvelle cellule de valeur `x` et liée à la cellule d'indice `i`\n",
    "    - On lie la cellule d'indice `i-1` à la nouvelle cellule<br /><br />\n",
    "- <u>Bonus</u> : Si l'indice est absurde, **lever une exception** `IndexError` (ajouter des tests adéquats)\n",
    "\n",
    "</div>"
   ]
  },
  {
   "cell_type": "code",
   "execution_count": null,
   "id": "cda3b5fe-58f8-4e69-a901-8fd338e53389",
   "metadata": {},
   "outputs": [],
   "source": [
    "# Insérer dans une liste vide\n",
    "L1 = Liste()\n",
    "print(L1)\n",
    "L1.inserer(1,0)\n",
    "print(L1)\n",
    "\n",
    "# Génération de la liste 1,1,3,5\n",
    "L = Liste(Cellule(1, Cellule(1, Cellule(3, Cellule(5)))))\n",
    "print(L)\n",
    "\n",
    "#inserer dans la liste\n",
    "L.inserer(2,3)\n",
    "print(L)\n",
    "\n",
    "#insérer à la fin de la liste\n",
    "L.inserer(8, len(L))\n",
    "print(L)"
   ]
  },
  {
   "cell_type": "markdown",
   "id": "612f1e0f-dc9a-4dc7-bcf9-cd21fafe5cb9",
   "metadata": {},
   "source": [
    "<div class=\"alert alert-block alert-info\">   \n",
    "    \n",
    "### Exercice 7\n",
    "Écrire la fonction la **méthode** `supprimer(self, i)` qui supprime l'élément d'indice `i` donné en paramètre numéroté à partir de $0$.  \n",
    "La structure que nous avons choisi ici est **mutable**, cela signifie que la méthode **ne renvoie rien**, mais modifie directement la liste.  \n",
    "Vérifier le bon fonctionnement de votre méthode en exécutant le bloc de code suivant.\n",
    "\n",
    "Quel sera le **coût algorithmique** de cette méthode pour **supprimer** l'élément **en début de liste** ?\n",
    "</div>"
   ]
  },
  {
   "cell_type": "markdown",
   "id": "e7322fce-d67a-4514-b612-bf677bda1cfb",
   "metadata": {},
   "source": [
    "<div class=\"alert alert-block alert-success\">  \n",
    "\n",
    "<img src='https://nsi.erwandemerville.fr/terminale/listes/exercices/dm1/03.png' style='float:right;' width=450>    \n",
    "\n",
    "Le but de cet exercice est d'écrire la méthode `supprimer(self, i)` qui supprime l'élément à l'indice `i` donné en paramètre numéroté à partir de $0$.\n",
    "- On envisagera d'abord le cas particulier où `i` est égal à $0$ (le premier élément est supprimé)<br /><br />\n",
    "- Cas général (voir exemple ci-contre) :\n",
    "    - On avance dans la liste jusqu'à la cellule d'indice `i-1`\n",
    "    - On lie la cellule d'indice `i-1` à la cellule d'indice `i+1`<br /><br />\n",
    "- <u>Bonus</u> : Si l'indice est absurde, **lever une exception** `IndexError` (ajouter des tests adéquats)\n",
    "\n",
    "</div>"
   ]
  },
  {
   "cell_type": "code",
   "execution_count": null,
   "id": "9019d8a0-bc2d-4221-b92d-e4f0ba838634",
   "metadata": {},
   "outputs": [],
   "source": [
    "# Tests suppression d'éléments\n",
    "\n",
    "# génération de la liste 1,1,3,5\n",
    "L = Liste(Cellule(1, Cellule(1, Cellule(1, Cellule(2, Cellule(3, Cellule(5)))))))\n",
    "print(L)\n",
    "\n",
    "# supprimer au début de la liste\n",
    "L.supprimer(0)\n",
    "print(L)\n",
    "\n",
    "# supprimer dans la liste\n",
    "L.supprimer(2)\n",
    "print(L)\n",
    "L.supprimer(2)\n",
    "print(L)\n",
    "L.supprimer(2)\n",
    "print(L)\n",
    "\n",
    "# supprimer à la fin de la liste\n",
    "L.supprimer(len(L)-1)\n",
    "print(L)\n",
    "\n",
    "# supprimer le seul élément de la liste\n",
    "L.supprimer(0)\n",
    "print(L)"
   ]
  },
  {
   "cell_type": "markdown",
   "id": "235f8cd4-2c85-4b9d-aeeb-907bc80d8225",
   "metadata": {},
   "source": [
    "## Partie 2 - Implémentation avec des tuples\n",
    "\n",
    "On propose pour cette partie une **autre implémentation** des **listes chaînées** à l'aide de **tuples**.\n",
    "\n",
    "Une **liste chaînée** est ici **soit** :\n",
    "\n",
    "- une **liste vide** représentée par l'objet `None`,\n",
    "- une **liste** de la forme `(<élément 1>, (<élément 2>, (<élément 3>, None)))`\n",
    "\n",
    "<div class=\"alert alert-block alert-warning\">\n",
    "    <strong>Toutes les fonctions demandées devront être écrites de manière récursive</strong>.\n",
    "</div>"
   ]
  },
  {
   "cell_type": "markdown",
   "id": "b70f060f-3ec8-45a0-9e51-0003095ffe79",
   "metadata": {},
   "source": [
    "Exécuter le bloc ci-dessous pour créer **deux listes chaînées**.  \n",
    "Ces listes seront utilisées pour les **tests** des *exercices 2 et 3*."
   ]
  },
  {
   "cell_type": "code",
   "execution_count": null,
   "id": "f82c9071-cce9-4d6e-adc0-93ce6ce3f2cc",
   "metadata": {},
   "outputs": [],
   "source": [
    "# Création de deux listes\n",
    "lst_vide = None  # une liste vide []\n",
    "lst = (5, (6, (4, (8, None))))  # une liste contenant les éléments [5, 6, 4, 8]"
   ]
  },
  {
   "cell_type": "markdown",
   "id": "9e0ca9f1-7ddf-4d01-8e02-eba983f7b3ba",
   "metadata": {},
   "source": [
    "<div class=\"alert alert-block alert-info\">   \n",
    "    \n",
    "### Exercice 1\n",
    "Écrire dans le bloc ci-dessous la **fonction** `longueur(lst)` qui prend une **liste chaînée** en **entrée** et qui **renvoie** la **longueur de la liste**.  \n",
    "Vérifier le bon fonctionnement de votre fonction en exécutant le bloc pour tester les assertions.\n",
    "\n",
    "</div>"
   ]
  },
  {
   "cell_type": "code",
   "execution_count": null,
   "id": "bdef6d1d-7c7a-4b20-8dde-8601c1e902e3",
   "metadata": {},
   "outputs": [],
   "source": [
    "def longueur(lst):\n",
    "    ''' Renvoie la longueur de la liste lst.\n",
    "    :param lst: (tuple | None) une liste\n",
    "    :return (int): la longueur de la liste '''\n",
    "\n",
    "    pass  # À COMPLÉTER\n",
    "\n",
    "assert longueur(lst_vide) == 0\n",
    "assert longueur(lst) = 4"
   ]
  },
  {
   "cell_type": "markdown",
   "id": "531b8108-9376-41d7-97f0-931a86a1329e",
   "metadata": {},
   "source": [
    "<div class=\"alert alert-block alert-info\">   \n",
    "    \n",
    "### Exercice 2\n",
    "Écrire dans le bloc ci-dessous la **fonction** `nieme_element(lst, i)` qui prend une **liste chaînée** et un **indice** en **entrée** et qui **renvoie** l'**élément d'indice** `i`.  \n",
    "Vérifier le bon fonctionnement de votre fonction en exécutant le bloc pour tester les assertions.\n",
    "\n",
    "</div>"
   ]
  },
  {
   "cell_type": "code",
   "execution_count": null,
   "id": "1f0d3083-0baf-4f10-8538-5792c73a3ee8",
   "metadata": {},
   "outputs": [],
   "source": [
    "def nieme_element(lst, i):\n",
    "    ''' Renvoie l'élément d'indice i de la liste.\n",
    "    :param lst: (tuple) une liste non vide\n",
    "    :param i: (int) un indice\n",
    "    :return: (int) l'élément d'indice i de la liste '''\n",
    "\n",
    "    if lst is None:  # Si la liste est vide, on lève une erreur\n",
    "        raise ValueError(\"La liste ne doit pas être vide !\")\n",
    "    else:\n",
    "        pass  # À COMPLÉTER\n",
    "\n",
    "assert nieme_element(lst, 2) == 4\n",
    "assert nieme_element(lst, 3) == 8"
   ]
  },
  {
   "cell_type": "markdown",
   "id": "0c4d9d5f-a32d-4a56-8cb9-980d2f94125a",
   "metadata": {},
   "source": [
    "<div class=\"alert alert-block alert-info\">   \n",
    "    \n",
    "### Exercice 3\n",
    "Écrire dans le bloc ci-dessous la **fonction** `inserer_debut(lst, elt)` et `inserer_fin(lst, elt)` qui prennent une **liste chaînée** en entrée et **renvoient une nouvelle liste** contenant les éléments de la liste de départ, avec l'élément `elt` ajouté respectivement au **début** et à la **fin** de la liste.  \n",
    "Vérifier le bon fonctionnement de votre fonction en exécutant le bloc pour tester les assertions.\n",
    "\n",
    "</div>"
   ]
  },
  {
   "cell_type": "code",
   "execution_count": null,
   "id": "a5f6bdc7-f10c-44a8-a97b-30b60b284db6",
   "metadata": {},
   "outputs": [],
   "source": [
    "def inserer_debut(lst, elt):\n",
    "    ''' Insérer un élément au début de la liste.\n",
    "    :param lst: (tuple | None) une liste, vide ou non\n",
    "    :param elt: (int) un élément à ajouter au début\n",
    "    :return: (tuple) une nouvelle liste non vide '''\n",
    "\n",
    "    pass  # À COMPLÉTER\n",
    "\n",
    "def inserer_debut(lst, elt):\n",
    "    ''' Insérer un élément à la fin de la liste.\n",
    "    :param lst: (tuple | None) une liste, vide ou non\n",
    "    :param elt: (int) un élément à ajouter à la fin\n",
    "    :return: (tuple) une nouvelle liste non vide '''\n",
    "\n",
    "    pass  # À COMPLÉTER\n",
    "\n",
    "# Création d'une nouvelle liste\n",
    "nouvelle_lst = None\n",
    "# Insertion d'éléments dans cette liste pour obtenir [1, 2, 3]\n",
    "nouvelle_lst = inserer_fin(nouvelle_lst, 2)\n",
    "nouvelle_lst = inserer_debut(nouvelle_lst, 1)\n",
    "nouvelle_lst = inserer_fin(nouvelle_lst, 3)\n",
    "# Assertion vérifiant que les éléments ont bien été insérés\n",
    "assert nieme_element(nouvelle_lst, 0) == 1 and nieme_element(nouvelle_lst, 1) == 2 and nieme_element(nouvelle_lst, 2) == 3"
   ]
  },
  {
   "cell_type": "markdown",
   "id": "121a3402-3552-47e4-b224-05735a3bb602",
   "metadata": {},
   "source": [
    "**FIN DU DM**"
   ]
  }
 ],
 "metadata": {
  "kernelspec": {
   "display_name": "Python 3 (ipykernel)",
   "language": "python",
   "name": "python3"
  },
  "language_info": {
   "codemirror_mode": {
    "name": "ipython",
    "version": 3
   },
   "file_extension": ".py",
   "mimetype": "text/x-python",
   "name": "python",
   "nbconvert_exporter": "python",
   "pygments_lexer": "ipython3",
   "version": "3.11.5"
  }
 },
 "nbformat": 4,
 "nbformat_minor": 5
}

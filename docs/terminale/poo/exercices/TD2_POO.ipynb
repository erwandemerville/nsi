{
 "cells": [
  {
   "cell_type": "markdown",
   "metadata": {},
   "source": [
    "<h1><center><span style=\"color:#369;background:#fdf;padding: 10px 30px 10px 30px;border: 3px solid #369;border-radius:7px;\">Exercices un peu moins faciles sur la POO</span></center></h1>"
   ]
  },
  {
   "attachments": {
    "image.png": {
     "image/png": "[encoded data removed]"
    }
   },
   "cell_type": "markdown",
   "metadata": {},
   "source": [
    "### Exercice 1. La classe Point\n",
    "Afin de représenter un point du plan par ses coordonnées cartésiennes, on va créer une classe `Point` ayant comme attributs d’instance, le nom du point `nom`, son abscisse `x` et son ordonnée `y` de types float et dont les méthodes sont :\n",
    "- `__init__` : le constructeur initialise les 2 attributs `x` et `y`,\n",
    "- `__str__` : renvoie une chaîne de caractères indiquant les coordonnées du point,\n",
    "- `deplacer` : prend deux arguments `dx` et `dy` et modifie les coordonnées du point en ajoutant `dx` à `x` et `dy` à `y`,\n",
    "- `estEgalA` : prend un argument `p` un point et renvoie `True` si et seulement si les deux points ont les mêmes coordonnées,\n",
    "- `symetriqueX` : renvoie le point symétrique par rapport à l’axe des abscisses,\n",
    "- `distance` : prend comme argument un point `p` (un objet de la classe Point) et renvoie la distance entre les deux points (l’instance courante `self` et le point `p`). On rappelle que la distance entre $A(x_A;y_A)$ et $B(x_B;y_B)$ est\n",
    "$$AB=\\sqrt{(x_B-x_A)^2+(y_B-y_A)^2}$$\n",
    "- `coordPolaires` : renvoie les coordonnées polaires $(r,\\theta)$ du point. On « rappelle » que si un point $M$ a pour coordonnées cartésiennes $(x,y)$ alors $r$ est la distance $OM$ où $O$ est l’origine du repère, et $\\theta$ est l’angle orienté $(\\vec{i},\\overrightarrow{OM})$ appartenant à l’intervalle $]-180°;180°]$. Ci-dessous, les formules dont vous avez besoin pour faire l’exercice :\n",
    "![image.png](attachment:image.png)"
   ]
  },
  {
   "cell_type": "markdown",
   "metadata": {},
   "source": [
    "<div class=\"alert alert-block alert-info\"> <h3>Remarque pour les non matheux.</h3>\n",
    "    Oui, je sais ces formules font peur, mais il suffit juste de les appliquer ici.</div>"
   ]
  },
  {
   "cell_type": "markdown",
   "metadata": {},
   "source": [
    "#### 1. Compléter la classe Point ci-dessous\n",
    "On peut si on le souhaite compléter une méthode, la tester (à la question 2) puis revenir et compléter une autre méthode et ainsi de suite."
   ]
  },
  {
   "cell_type": "code",
   "execution_count": null,
   "metadata": {},
   "outputs": [],
   "source": [
    "from math import sqrt, acos, pi # pour la racine carrée, l'arccos et le nb pi\n",
    "class Point:\n",
    "    '''Une classe pour représenter un point du plan par ses coordonnées'''\n",
    "    def __init__(self, Nom, abscisse, ordonnee):\n",
    "        '''Le constructeur de la classe qui initialise les coordonnées du point'''\n",
    "        ... # initialisation de l'attribut nom\n",
    "        ... # initialisation de l'attribut x\n",
    "        ... # initialisation de l'attribut y\n",
    "        \n",
    "    def __str__(self):\n",
    "        '''méthode qui permet d'afficher les attributs avec str ou print\n",
    "           devra renvoyer une chaîne de caractères du type 'A(2,3)'\n",
    "           où 'A' est le nom, 2 est l'abscisse x, 3 l'ordonnée y'''\n",
    "        return ...\n",
    "    \n",
    "    def deplacer(self, dx, dy):\n",
    "        '''déplace le point de dx en abscisse et de dy en ordonnée'''\n",
    "        ... # il faut modifier l'abscisse\n",
    "        ... # et l'ordonnée\n",
    "\n",
    "    def estEgalA(self, p):\n",
    "        '''renvoie True si les coordoonées du point sont les mêmes que les coordonnées de p'''\n",
    "        ... # on peut ça en une seule ligne, sinon vous pouvez utiliser un if et un else\n",
    "    \n",
    "    def symetriqueX(self):\n",
    "        '''renvoie le symétrique du point par rapport à l'axe des X'''\n",
    "        # pour le nom du point symétrique, vous pourrez rajouter un prime après le nom du point avec +\"'\"\n",
    "        return Point(...) # on renvoie un objet de la classe Point ici\n",
    "\n",
    "    def distance(self,p):\n",
    "        '''renvoie la distance entre le point et p'''\n",
    "        return sqrt( (p.x-self.x)**2 + (p.y-self.y)**2 )\n",
    "\n",
    "    def coordPolaires(self):\n",
    "        '''renvoie les coordonnées polaires du point'''\n",
    "        r = ... # calcul de r qui est la distance entre l'origine et le point\n",
    "        if self.y >= 0:\n",
    "            theta = ...\n",
    "        else:\n",
    "            theta = ...\n",
    "        return (r,theta)"
   ]
  },
  {
   "cell_type": "markdown",
   "metadata": {},
   "source": [
    "#### 2. Testez chacune de vos méthodes de la classe Point\n",
    "Cette partie est tout aussi importante que la précédente, donc on n'hésite pas à faire plusieurs tests en les laissant apparaître pour que je vérifie que vous avez bien tout testé correctement."
   ]
  },
  {
   "cell_type": "code",
   "execution_count": null,
   "metadata": {},
   "outputs": [],
   "source": [
    "# Jeu de tests\n"
   ]
  },
  {
   "cell_type": "code",
   "execution_count": null,
   "metadata": {},
   "outputs": [],
   "source": [
    "# Jeu de tests\n"
   ]
  },
  {
   "cell_type": "code",
   "execution_count": null,
   "metadata": {},
   "outputs": [],
   "source": [
    "# Jeu de tests\n"
   ]
  },
  {
   "cell_type": "code",
   "execution_count": null,
   "metadata": {},
   "outputs": [],
   "source": [
    "# Jeu de tests\n"
   ]
  },
  {
   "cell_type": "code",
   "execution_count": null,
   "metadata": {},
   "outputs": [],
   "source": [
    "# Jeu de tests\n"
   ]
  },
  {
   "cell_type": "code",
   "execution_count": null,
   "metadata": {},
   "outputs": [],
   "source": [
    "# Jeu de tests\n"
   ]
  },
  {
   "cell_type": "code",
   "execution_count": null,
   "metadata": {},
   "outputs": [],
   "source": [
    "# Jeu de tests\n"
   ]
  },
  {
   "cell_type": "code",
   "execution_count": null,
   "metadata": {},
   "outputs": [],
   "source": [
    "# Jeu de tests\n"
   ]
  },
  {
   "cell_type": "code",
   "execution_count": null,
   "metadata": {},
   "outputs": [],
   "source": [
    "# Jeu de tests\n"
   ]
  },
  {
   "cell_type": "markdown",
   "metadata": {},
   "source": [
    "#### Test des deux méthodes spéciales en affichant graphiquement quelques points\n",
    "Exécutez la cellule suivante et vérifier si l'affichage est correct"
   ]
  },
  {
   "cell_type": "code",
   "execution_count": null,
   "metadata": {},
   "outputs": [],
   "source": [
    "import numpy as np\n",
    "import matplotlib.pyplot as plt\n",
    "plt.clf() # pour effacer le graphique\n",
    "xmin, xmax = -8, 8 # pour délimiter l'axe des abscisses et des ordonnées\n",
    "nomDesPoints = ['A', 'B', 'C', 'D']\n",
    "abscisses = [1, -3, 6, -6]\n",
    "ordonnees = [4, 1, 2, -5]\n",
    "points = []\n",
    "n = len(nomDesPoints)\n",
    "for i in range(n):\n",
    "    points.append(Point(nomDesPoints[i], abscisses[i], ordonnees[i]))\n",
    "    plt.plot(abscisses[i], ordonnees[i], marker=\"+\", color='black') # affiche les points\n",
    "    plt.text(abscisses[i], ordonnees[i], nomDesPoints[i], size = 'x-large', color='red') # affiche le nom des points\n",
    "    plt.plot([abscisses[i],abscisses[i]], [0,ordonnees[i]], linestyle = ':') # affiche l'abscisse\n",
    "    if ordonnees[i] >= 0:\n",
    "        alignV = 'top'\n",
    "    else:\n",
    "        alignV = 'bottom'\n",
    "    plt.text(abscisses[i], 0, abscisses[i], verticalalignment = alignV, color='blue')\n",
    "    plt.plot([0,abscisses[i]], [ordonnees[i],ordonnees[i]], linestyle = ':') # affiche l'ordonnée\n",
    "    if abscisses[i] >= 0:\n",
    "        alignH = 'right'\n",
    "    else:\n",
    "        alignH = 'left'\n",
    "    plt.text(0, ordonnees[i], ordonnees[i], horizontalalignment = alignH, color='blue')\n",
    "plt.text(0, 0, 'O', horizontalalignment='right', verticalalignment='top', size = 'x-large') # affiche l'origine\n",
    "plt.plot(range(xmin, xmax+1), [0]*(xmax-xmin+1), marker=\"+\", color='black') # axe des abscisses\n",
    "plt.plot([0]*(xmax-xmin+1), range(xmin, xmax+1),marker=\"+\",color='black') # axe des ordonnées\n",
    "plt.xlim(xmin, xmax)\n",
    "plt.ylim(xmin, xmax)\n",
    "plt.plot([xmin, xmax],[0, 0], color = 'black')\n",
    "plt.plot([0, 0],[xmin, xmax], color = 'black')\n",
    "plt.grid(True, linestyle = '--')\n",
    "coordPoints = ''\n",
    "for p in points:\n",
    "    coordPoints = coordPoints + str(p) + ', '\n",
    "plt.title(\"Affichage des points \" + coordPoints[:-2])\n",
    "plt.show()"
   ]
  },
  {
   "cell_type": "markdown",
   "metadata": {
    "deletable": false,
    "editable": false
   },
   "source": [
    "#### Test des autres méthodes en affichant graphiquement quelques points\n",
    "Exécutez également chacune des celulles suivantes pour tester si vos autres méthodes sont correctes\n",
    "\n",
    "S'il n'y a pas d'erreur quand vous exécutez la cellule, c'est que votre éthode est correcte, sinon il faut revoir votre méthode puis tester de nouveau"
   ]
  },
  {
   "cell_type": "code",
   "execution_count": null,
   "metadata": {
    "deletable": false,
    "editable": false
   },
   "outputs": [],
   "source": [
    "nomDesPoints = ['A', 'B', 'C', 'D']\n",
    "abscisses = [1, -3, 6, -6]\n",
    "ordonnees = [4, 1, 2, -5]\n",
    "points = []\n",
    "n = len(nomDesPoints)\n",
    "for i in range(n):\n",
    "    points.append(Point(nomDesPoints[i], abscisses[i], ordonnees[i]))\n",
    "coordPoints = ''\n",
    "for p in points:\n",
    "    coordPoints = coordPoints + str(p) + ', '\n",
    "print(\"Les points créés sont les points \" + coordPoints[:-2])"
   ]
  },
  {
   "cell_type": "code",
   "execution_count": null,
   "metadata": {
    "deletable": false,
    "editable": false
   },
   "outputs": [],
   "source": [
    "# test de la méthode deplacer\n",
    "for p in points:\n",
    "    p.deplacer(-123,24)\n",
    "assert [str(p) for p in points]==['A(-122,28)', 'B(-126,25)', 'C(-117,26)', 'D(-129,19)']\n",
    "for p in points:\n",
    "    p.deplacer(123,-24)"
   ]
  },
  {
   "cell_type": "code",
   "execution_count": null,
   "metadata": {
    "deletable": false,
    "editable": false
   },
   "outputs": [],
   "source": [
    "# test de la méthode estEgalA\n",
    "assert [p1.estEgalA(p2) for p1 in points for p2 in points]==[True, False, False, False, False, True, False, False, False, False, True, False, False, False, False, True]"
   ]
  },
  {
   "cell_type": "code",
   "execution_count": null,
   "metadata": {
    "deletable": false,
    "editable": false
   },
   "outputs": [],
   "source": [
    "# test de la méthode symetriqueX\n",
    "assert [str(p.symetriqueX()) for p in points]==[\"A'(1,-4)\", \"B'(-3,-1)\", \"C'(6,-2)\", \"D'(-6,5)\"]"
   ]
  },
  {
   "cell_type": "code",
   "execution_count": null,
   "metadata": {
    "deletable": false,
    "editable": false
   },
   "outputs": [],
   "source": [
    "# test de la méthode distance\n",
    "d1=[p1.distance(p2) for p1 in points for p2 in points]\n",
    "d2=[0.0, 5.0, 5.385164807134504, 11.40175425099138, 5.0, 0.0, 9.055385138137417, 6.708203932499369, 5.385164807134504, 9.055385138137417, 0.0, 13.892443989449804, 11.40175425099138, 6.708203932499369, 13.892443989449804, 0.0]\n",
    "for i in range(len(d1)):\n",
    "    assert abs(d1[i]-d2[i])<1e-7"
   ]
  },
  {
   "cell_type": "code",
   "execution_count": null,
   "metadata": {
    "deletable": false,
    "editable": false
   },
   "outputs": [],
   "source": [
    "# test de la méthode coordPolaires\n",
    "d1=[p.coordPolaires() for p in points]\n",
    "d2=[(4.123105625617661, 75.96375653207353), (3.1622776601683795, 161.565051177078), (6.324555320336759, 18.434948822922017), (7.810249675906654, -140.19442890773482)]\n",
    "for i in range(len(d1)):\n",
    "    for j in range(2):\n",
    "        assert abs(d1[i][j]-d2[i][j])<1e-7"
   ]
  },
  {
   "cell_type": "markdown",
   "metadata": {},
   "source": [
    "### Exercice 2. La classe Triangle\n",
    "Un triangle peut être représenté par la donnée de 3 points (des objets de la classe `Point`) : les sommets du triangle.\n",
    "Cette classe sera composée des méthodes suivantes :\n",
    "- `__init__` : le constructeur initialise les 3 sommets du triangle : les attributs d'instance `P1`, `P2` et `P3`,\n",
    "- `__str__` : renvoie une chaîne de caractères (à l’aide d’une fstring) indiquant les coordonnées des 3 sommets,\n",
    "- `deplacer` : prend deux arguments `dx` et `dy` et déplace le triangle en ajoutant `dx` aux abscisses et `dy` aux ordonnées des 3 sommets,\n",
    "- `symetriqueX` : renvoie le symétrique par rapport à l’axe des abscisses,\n",
    "- `perimetre` : renvoie le périmètre du triangle,\n",
    "- `estUnSommet` : prend en argument un Point p et renvoie True ssi c'est un des sommets du triangle,\n",
    "- `estIsocele` : renvoie True ssi le triangle est isocèle."
   ]
  },
  {
   "cell_type": "code",
   "execution_count": null,
   "metadata": {},
   "outputs": [],
   "source": [
    "class Triangle:\n",
    "    '''Une classe pour représenter un triangle par ses 3 sommets'''\n",
    "    def __init__(self, A, B, C):\n",
    "        '''Le constructeur de la classe qui initialise le triangle par ses 3 sommets'''\n",
    "        ... # initialisation de l'attribut P1\n",
    "        ... # de P2\n",
    "        ... # et de P3\n",
    "    \n",
    "    def __str__(self):\n",
    "        '''affiche les coordonnées des 3 sommets\n",
    "           il faudra renvoyer une chaîne de caractères du type Triangle(A(2,3),B(5,-2),C(1,4)))'''\n",
    "        # on rappelle que str(p) est la chaîne de caratères qui affiche les coordonnées du point p\n",
    "        # à l'aide de la méthode spéciale __str__ utilisée dans la classe Point\n",
    "        return f'Triangle({str(self.P1)},{str(self.P2)},{str(self.P3)})'\n",
    "    \n",
    "    def symetriqueX(self):\n",
    "        '''renvoie le triangle symétrique par rapport à l'axe des abscisses'''\n",
    "        return Triangle(...) # on renvoie ici un objet de la classe Triangle\n",
    "    \n",
    "    def perimetre(self):\n",
    "        '''renvoie le périmètre du triangle'''\n",
    "        # pensez à utiliser la méthode distance de la classe Point\n",
    "        return ...\n",
    "    \n",
    "    def estUnSommet(self,A):\n",
    "        '''renvoie True si A est un sommet du traingle et False sinon'''\n",
    "        # pensez à utiliser la méthode estEgal de la classe Point\n",
    "        ... # on peut faire ça en 1 seule ligne\n",
    "    \n",
    "    def estIsocele(self):\n",
    "        '''renvoie True si le triangle est équilatéral et False sinon'''\n",
    "        # pensez à utiliser la méthode distance de la classe Point\n",
    "        # attention, il peut être isocèle en P1 ou en P2 ou en P3\n",
    "        ... # on peut faire ça en 1 seule ligne"
   ]
  },
  {
   "cell_type": "markdown",
   "metadata": {},
   "source": [
    "#### 2. Exécutez la cellule précédente, puis testez chaque méthode\n",
    "Si vous reprenez ce TD, pensez également à exécuter la classe Point car la classe Triangle utilise la classe Point\n",
    "\n",
    "Cette partie est tout aussi importante que la précédente, donc on n'hésite pas à faire plusieurs tests en les laissant apparaître pour que je vérifie que vous avez bien tout testé correctement."
   ]
  },
  {
   "cell_type": "code",
   "execution_count": null,
   "metadata": {},
   "outputs": [],
   "source": [
    "# Jeu de tests\n"
   ]
  },
  {
   "cell_type": "code",
   "execution_count": null,
   "metadata": {},
   "outputs": [],
   "source": [
    "# Jeu de tests\n"
   ]
  },
  {
   "cell_type": "code",
   "execution_count": null,
   "metadata": {},
   "outputs": [],
   "source": [
    "# Jeu de tests\n"
   ]
  },
  {
   "cell_type": "code",
   "execution_count": null,
   "metadata": {},
   "outputs": [],
   "source": [
    "# Jeu de tests\n"
   ]
  },
  {
   "cell_type": "code",
   "execution_count": null,
   "metadata": {},
   "outputs": [],
   "source": [
    "# Jeu de tests\n"
   ]
  }
 ],
 "metadata": {
  "celltoolbar": "Éditer les Méta-Données",
  "kernelspec": {
   "display_name": "Python 3 (ipykernel)",
   "language": "python",
   "name": "python3"
  },
  "language_info": {
   "codemirror_mode": {
    "name": "ipython",
    "version": 3
   },
   "file_extension": ".py",
   "mimetype": "text/x-python",
   "name": "python",
   "nbconvert_exporter": "python",
   "pygments_lexer": "ipython3",
   "version": "3.11.5"
  }
 },
 "nbformat": 4,
 "nbformat_minor": 4
}

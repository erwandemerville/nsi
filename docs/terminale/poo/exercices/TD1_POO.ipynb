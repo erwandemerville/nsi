{
 "cells": [
  {
   "cell_type": "markdown",
   "metadata": {},
   "source": [
    "<h1><center><span style=\"color:#369;background:#fdf;padding: 10px 30px 10px 30px;border: 3px solid #369;border-radius:7px;\">Exercices relativement simples sur la programmation orientée objet</span></center></h1>"
   ]
  },
  {
   "cell_type": "markdown",
   "metadata": {},
   "source": [
    "### Exercice 1. La classe Domino\n",
    "#### 1. Complétez la classe `Domino` ci-dessous pour représenter une pièce de domino.\n",
    "- Les objets sont initialisés avec les valeurs des deux faces, `A` et `B` (qui vont de 0 à 6).\n",
    "- La méthode `affiche` permet d’afficher les valeurs des deux faces,\n",
    "- la méthode `total` renvoie la somme des deux valeurs,\n",
    "- la méthode `estDouble` renvoie `True` si, et seulement si, les deux valeurs sont égales, et enfin,\n",
    "- la méthode `egalA` prend comme argument un domino et renvoie `True` si, et seulement si, les deux dominos sont égaux (attention `Domino(2,3)` et `Domino(3,2)` sont deux dominos égaux)."
   ]
  },
  {
   "cell_type": "code",
   "execution_count": null,
   "metadata": {},
   "outputs": [],
   "source": [
    "class Domino:\n",
    "    '''Une classe pour représenter un domino par les valeurs des 2 faces'''\n",
    "    def __init__(self,a,b):\n",
    "        '''Le constructeur de la classe qui met à jour 2 attributs d'instance A et B'''\n",
    "        self.A = ...\n",
    "        ...\n",
    "        \n",
    "    def affiche(self):\n",
    "        '''affiche les valeurs des deux faces,\n",
    "        par exemple 0 : 5 représentera le domino dont les faces sont 0 et 5'''\n",
    "        ...\n",
    "\n",
    "    def total(self):\n",
    "        '''renvoie la somme des valeurs des faces'''\n",
    "        ...\n",
    "\n",
    "    def estDouble(self):\n",
    "        '''renvoie True ssi les valeurs sont égales'''\n",
    "        ...\n",
    "\n",
    "    def egalA(self,d):\n",
    "        '''renvoie True ssi les deux dominos sont égaux'''\n",
    "        ...\n"
   ]
  },
  {
   "cell_type": "markdown",
   "metadata": {},
   "source": [
    "#### 2. Exécutez la cellule précédente, puis testez chaque méthode\n",
    "À chaque fois, il faudra soit exécuter la cellule, soit la compléter puis l'exécuter.\n",
    "Bien sûr, s'il y a une erreur ou que le résultat n'est pas celui attendu, il faut modifier la méthode en question dans la classe `Domino` plus haut puis exécuter de nouveau la cellule de la classe `Domino` pour que la modification soit effective.  \n",
    "Vous n'avez ici **pas besoin de faire d'assertions**, vous devez simplement exécuter vos méthodes et vérifier que les résultats soient corrects.\n",
    "- pour tester le constructeur :"
   ]
  },
  {
   "cell_type": "code",
   "execution_count": null,
   "metadata": {},
   "outputs": [],
   "source": [
    "d1=Domino(0,5)\n",
    "print(\"Les deux faces sont\",d1.A,\"et\",d1.B) # affichage des 2 faces"
   ]
  },
  {
   "cell_type": "markdown",
   "metadata": {},
   "source": [
    "- pour tester la méthode `affiche`:"
   ]
  },
  {
   "cell_type": "code",
   "execution_count": null,
   "metadata": {},
   "outputs": [],
   "source": [
    "d1.affiche()"
   ]
  },
  {
   "cell_type": "markdown",
   "metadata": {},
   "source": [
    "- pour créer un autre domino et retester la méthode `affiche`:"
   ]
  },
  {
   "cell_type": "code",
   "execution_count": null,
   "metadata": {},
   "outputs": [],
   "source": [
    "# à vous de faire ce test en créant le domino 2:2 et en l'affichant\n",
    "d2=... # création du domino 2:2\n",
    "... # pour l'afficher"
   ]
  },
  {
   "cell_type": "markdown",
   "metadata": {},
   "source": [
    "- pour tester la méthode `total`:"
   ]
  },
  {
   "cell_type": "code",
   "execution_count": null,
   "metadata": {},
   "outputs": [],
   "source": [
    "d1.total()"
   ]
  },
  {
   "cell_type": "code",
   "execution_count": null,
   "metadata": {},
   "outputs": [],
   "source": [
    "# à vous de tester le total sur le domino d2\n",
    "..."
   ]
  },
  {
   "cell_type": "markdown",
   "metadata": {},
   "source": [
    "- pour tester la méthode `estDouble`:"
   ]
  },
  {
   "cell_type": "code",
   "execution_count": null,
   "metadata": {},
   "outputs": [],
   "source": [
    "# à vous de tester si d1 est un double\n",
    "..."
   ]
  },
  {
   "cell_type": "code",
   "execution_count": null,
   "metadata": {},
   "outputs": [],
   "source": [
    "# à vous de tester si d2 est un double\n",
    "..."
   ]
  },
  {
   "cell_type": "markdown",
   "metadata": {},
   "source": [
    "- pour tester la méthode `egalA`:"
   ]
  },
  {
   "cell_type": "code",
   "execution_count": null,
   "metadata": {},
   "outputs": [],
   "source": [
    "d1.egalA(d2)"
   ]
  },
  {
   "cell_type": "code",
   "execution_count": null,
   "metadata": {},
   "outputs": [],
   "source": [
    "# à vous de tester en créant le domino 5:0 puis en testant qu'il est bien égal à d1\n",
    "d3=... # création du domino 5:0\n",
    "... # test pour savoir si d1 et d3 sont bien égaux"
   ]
  },
  {
   "cell_type": "markdown",
   "metadata": {},
   "source": [
    "<div class=\"alert alert-block alert-info\"> <h3>Remarque.</h3>\n",
    "    On peut remplacer les méthodes <code>affiche</code> et <code>egalA</code> respectivement par les méthodes spéciales <code>__str__</code> et <code>__eq__</code>. La 1ère est appelée lors d’un print et la 2ème est appelée lors d’un double égal <code>==</code> entre deux dominos donc avec ces méthodes spéciales, l’instruction <code>print(d1)</code> remplace <code>d1.affiche()</code>, et <code>d1==d2</code> remplace <code>d1.estEgalA(d2)</code> ce qui est plutôt pratique.</div>"
   ]
  },
  {
   "cell_type": "markdown",
   "metadata": {},
   "source": [
    "#### 3. Faire un copier-coller de la classe `Domino` puis modifier ces 2 méthodes"
   ]
  },
  {
   "cell_type": "code",
   "execution_count": null,
   "metadata": {},
   "outputs": [],
   "source": [
    "# nouvelle classe Domino avec les méthodes __str__ et __eq__ à la place de affiche et egalA\n"
   ]
  },
  {
   "cell_type": "markdown",
   "metadata": {},
   "source": [
    "#### 4. Tester les deux méthodes spéciales en créant de nouveaux dominos"
   ]
  },
  {
   "cell_type": "code",
   "execution_count": null,
   "metadata": {},
   "outputs": [],
   "source": [
    "# Jeu de tests\n"
   ]
  },
  {
   "cell_type": "code",
   "execution_count": null,
   "metadata": {},
   "outputs": [],
   "source": [
    "# Jeu de tests\n"
   ]
  },
  {
   "cell_type": "code",
   "execution_count": null,
   "metadata": {},
   "outputs": [],
   "source": [
    "# Jeu de tests\n"
   ]
  },
  {
   "cell_type": "markdown",
   "metadata": {},
   "source": [
    "### Exercice 2. La classe CompteBancaire\n",
    "#### 1. Complétez la classe `CompteBancaire` ci-dessous qui comprend :\n",
    "- Un attribut de classe : `nbDeComptes` qui compte le nombre d’instances (il vaut initialement 0).\n",
    "- 3 attributs d’instance : `nom`, `solde` et `numeroCompte`. Le numéro de compte sera 1 pour la 1ère instance créée, 2 pour la 2ème etc.\n",
    "- la méthode `__init__` dans laquelle l’argument `solde` doit être facultatif et avoir une valeur prédéfinie à zéro (il suffit de préciser `solde=0` dans les arguments de la méthode),\n",
    "- les méthodes `depot` et `retrait` permettent de modifier le solde du compte (on ne pourra retirer de l’argent que s’il y a assez sur le compte),\n",
    "- la méthode spéciale `__str__` permet d’afficher le numéro de compte, le nom du titulaire et son solde,\n",
    "- la méthode `virementVers` permet, s'il y a assez d'argent sur le compte, de virer une certaine somme d'argent vers un autre compte."
   ]
  },
  {
   "cell_type": "code",
   "execution_count": null,
   "metadata": {},
   "outputs": [],
   "source": [
    "class CompteBancaire:\n",
    "    nbDeComptes = ... # attribut de classe\n",
    "    '''Une classe pour représenter un compte bancaire'''\n",
    "    def __init__(self,Nom,solde=0):\n",
    "        '''Le constructeur de la classe initialisant 3 attributs d'instance\n",
    "           nom (str), solde (float), numeroCompte'''\n",
    "        ... # pour le nom\n",
    "        ... # pour le solde\n",
    "        CompteBancaire.nbDeComptes = ... # il ne faut pas oublier d'ajouter 1 à l'attribut de classe\n",
    "        self.numeroCompte = ... # pour le numero de Compte\n",
    "        \n",
    "    def __str__(self):\n",
    "        '''affiche le numéro du compte, le nom et le solde du compte'''\n",
    "        return ......\n",
    "    \n",
    "    def depot(self,somme):\n",
    "        '''ajoute somme au solde'''\n",
    "        ...\n",
    "\n",
    "    def retrait(self,somme):\n",
    "        '''retire somme au solde si le solde est >=somme'''\n",
    "        if .........:\n",
    "            ...............\n",
    "        else:\n",
    "            print('Retrait impossible : le montant dépasse le solde')\n",
    "    \n",
    "    def virementVers(self,autreCompte,somme):\n",
    "        '''vire si c'est possible la somme à l'autre compte'''\n",
    "        # pensez à utiliser les méthodes depot et retrait\n",
    "        if .........:\n",
    "            ...............\n",
    "            ...............\n",
    "        else:\n",
    "            print('Virement impossible : le montant dépasse le solde')\n"
   ]
  },
  {
   "cell_type": "markdown",
   "metadata": {},
   "source": [
    "#### 2. Exécutez la cellule précédente, puis testez chaque méthode"
   ]
  },
  {
   "cell_type": "code",
   "execution_count": null,
   "metadata": {},
   "outputs": [],
   "source": [
    "# Tests de la méthode __init__\n",
    "c1 = CompteBancaire('Arthur',300)\n",
    "c2 = CompteBancaire('Emilie') # en n'indiquant pas le solde, par défaut il est à 0"
   ]
  },
  {
   "cell_type": "code",
   "execution_count": null,
   "metadata": {},
   "outputs": [],
   "source": [
    "# Tests de la méthode __str__\n",
    "print(c1)\n",
    "print(c2)"
   ]
  },
  {
   "cell_type": "code",
   "execution_count": null,
   "metadata": {},
   "outputs": [],
   "source": [
    "# Test de l'attribut de classe nbDeComptes\n",
    "print(\"nombre de comptes ouverts au total\",CompteBancaire.nbDeComptes)"
   ]
  },
  {
   "cell_type": "code",
   "execution_count": null,
   "metadata": {},
   "outputs": [],
   "source": [
    "# Tests de la méthode depot (on pensera à afficher le nouveau solde avec print(nom_du_compte))\n"
   ]
  },
  {
   "cell_type": "code",
   "execution_count": null,
   "metadata": {},
   "outputs": [],
   "source": [
    "# Tests de la méthode retrait (on pensera à afficher le nouveau solde avec print(nom_du_compte))\n"
   ]
  },
  {
   "cell_type": "code",
   "execution_count": null,
   "metadata": {},
   "outputs": [],
   "source": [
    "# Tests de la méthode retrait dans le cas où on veut retirer plus que ce qu'on a\n"
   ]
  },
  {
   "cell_type": "markdown",
   "metadata": {},
   "source": [
    "#### 3. Exécutez un autre jeu de tests"
   ]
  },
  {
   "cell_type": "code",
   "execution_count": null,
   "metadata": {},
   "outputs": [],
   "source": [
    "# Autre jeu de tests\n"
   ]
  },
  {
   "cell_type": "markdown",
   "metadata": {},
   "source": [
    "### Exercice 3. La classe Chrono\n",
    "#### 1. Complétez la classe `Chrono` ci-dessous pour représenter un temps mesuré en heures, minutes et secondes qui comprend :\n",
    "- 3 attributs d’instance : `h`, `m` et `s` correspondant au nombre d'heures, de minutes et de secondes du chrono,\n",
    "- la méthode `__init__` qui n'a comme arguments que `self`, `h`, `m`, `s`,\n",
    "- la méthode spéciale `__str__` pour afficher le nombre d'heures, de minutes et de secondes du chrono,\n",
    "- la méthode `convertiEnSecondes` qui renvoie le nombre total de secondes qui correspond au chrono,\n",
    "- la méthode `avance` qui met à jour le chrono en l'avançant d'un certain nombre de secondes (donné en paramètre),\n",
    "- la méthode `recule` qui met à jour le chrono en le reculant d'un certain nombre de secondes (donné en paramètre)."
   ]
  },
  {
   "cell_type": "code",
   "execution_count": null,
   "metadata": {},
   "outputs": [],
   "source": [
    "class Chrono:\n",
    "    \"\"\" classe pour représenter un temps mesuré en h, m, s \"\"\"\n",
    "    def __init__(self, heure, minute, seconde):\n",
    "        '''Le constructeur de la classe initialisant 3 attributs d'instance h, m, s'''\n",
    "        ...\n",
    "        ...\n",
    "        ...\n",
    "        \n",
    "    def __str__(self):\n",
    "        '''affiche le nombre d'heures, de minutes et de secondes du chrono'''\n",
    "        return ...\n",
    "    \n",
    "    def convertiEnSecondes(self):\n",
    "        '''renvoie en secondes à quoi correspond le chrono'''\n",
    "        ...\n",
    "    \n",
    "    def avance(self, s):\n",
    "        '''avance de s secondes le chrono'''\n",
    "        # pensez à utiliser la méthode convertiEnSecondes\n",
    "        ...\n",
    "        \n",
    "    def recule(self, s):\n",
    "        '''recule de s secondes le chrono'''\n",
    "        # vous pouvez faire cela en 1 seule ligne en utilisant la méthode avance\n",
    "        ...      \n",
    "        "
   ]
  },
  {
   "cell_type": "markdown",
   "metadata": {},
   "source": [
    "#### 2. Exécutez la cellule précédente, puis testez chaque méthode"
   ]
  },
  {
   "cell_type": "code",
   "execution_count": null,
   "metadata": {},
   "outputs": [],
   "source": [
    "# Jeu de tests\n"
   ]
  },
  {
   "cell_type": "code",
   "execution_count": null,
   "metadata": {},
   "outputs": [],
   "source": [
    "# Jeu de tests\n"
   ]
  },
  {
   "cell_type": "code",
   "execution_count": null,
   "metadata": {},
   "outputs": [],
   "source": [
    "# Jeu de tests\n"
   ]
  },
  {
   "cell_type": "code",
   "execution_count": null,
   "metadata": {},
   "outputs": [],
   "source": [
    "# Jeu de tests\n"
   ]
  },
  {
   "cell_type": "code",
   "execution_count": null,
   "metadata": {},
   "outputs": [],
   "source": [
    "# Jeu de tests\n"
   ]
  }
 ],
 "metadata": {
  "kernelspec": {
   "display_name": "Python 3 (ipykernel)",
   "language": "python",
   "name": "python3"
  },
  "language_info": {
   "codemirror_mode": {
    "name": "ipython",
    "version": 3
   },
   "file_extension": ".py",
   "mimetype": "text/x-python",
   "name": "python",
   "nbconvert_exporter": "python",
   "pygments_lexer": "ipython3",
   "version": "3.11.5"
  }
 },
 "nbformat": 4,
 "nbformat_minor": 4
}
